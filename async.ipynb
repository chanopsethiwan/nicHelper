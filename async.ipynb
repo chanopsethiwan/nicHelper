{
 "cells": [
  {
   "cell_type": "code",
   "execution_count": null,
   "metadata": {},
   "outputs": [],
   "source": [
    "#default_exp asyncUtil"
   ]
  },
  {
   "cell_type": "markdown",
   "metadata": {},
   "source": [
    "# async\n",
    "> tools to help writing async python codes"
   ]
  },
  {
   "cell_type": "code",
   "execution_count": null,
   "metadata": {},
   "outputs": [],
   "source": [
    "#hide\n",
    "from nbdev.showdoc import *"
   ]
  },
  {
   "cell_type": "markdown",
   "metadata": {},
   "source": [
    "# async wrap"
   ]
  },
  {
   "cell_type": "code",
   "execution_count": null,
   "metadata": {},
   "outputs": [],
   "source": [
    "#export\n",
    "import asyncio\n",
    "from functools import wraps, partial\n",
    "\n",
    "def async_wrap(func):\n",
    "    @wraps(func)\n",
    "    async def run(*args, loop=None, executor=None, **kwargs):\n",
    "        if loop is None:\n",
    "            loop = asyncio.get_event_loop()\n",
    "        pfunc = partial(func, *args, **kwargs)\n",
    "        return await loop.run_in_executor(executor, pfunc)\n",
    "    return run\n"
   ]
  },
  {
   "cell_type": "code",
   "execution_count": null,
   "metadata": {},
   "outputs": [
    {
     "name": "stdout",
     "output_type": "stream",
     "text": [
      "CPU times: user 5.13 ms, sys: 69 µs, total: 5.2 ms\n",
      "Wall time: 4.01 s\n"
     ]
    },
    {
     "data": {
      "text/plain": [
       "[0, 1, 2, 3, 4, 5, 6, 7, 8, 9]"
      ]
     },
     "execution_count": null,
     "metadata": {},
     "output_type": "execute_result"
    }
   ],
   "source": [
    "%%time\n",
    "@async_wrap\n",
    "def aSlowFunc(input_:str):\n",
    "  time.sleep(2)\n",
    "  return input_\n",
    "\n",
    "## async func execute\n",
    "import nest_asyncio, time\n",
    "nest_asyncio.apply()\n",
    "async def runASlowFunc(input_):\n",
    "  return await aSlowFunc(input_)\n",
    "async def runLoop():\n",
    "  rtup = (runASlowFunc(i) for i in range (10))\n",
    "  r = await asyncio.gather(*rtup)\n",
    "  return r\n",
    "asyncio.run(runLoop())"
   ]
  },
  {
   "cell_type": "markdown",
   "metadata": {},
   "source": [
    "# thread mapping"
   ]
  },
  {
   "cell_type": "code",
   "execution_count": null,
   "metadata": {},
   "outputs": [],
   "source": [
    "#export\n",
    "import multiprocessing.dummy\n",
    "from typing import Callable, List, Any, Iterable\n",
    "from beartype import beartype\n",
    "def asyncMap(f:Callable, data:Iterable[Any], threads:int = 5):\n",
    "  p = multiprocessing.dummy.Pool(threads)\n",
    "  return p.map(f,data)"
   ]
  },
  {
   "cell_type": "code",
   "execution_count": null,
   "metadata": {},
   "outputs": [
    {
     "name": "stdout",
     "output_type": "stream",
     "text": [
      "CPU times: user 14.1 ms, sys: 9.13 ms, total: 23.2 ms\n",
      "Wall time: 1.02 s\n"
     ]
    },
    {
     "data": {
      "text/plain": [
       "[1, 2, 3, 4, 5, 6, 7, 8, 9, 10]"
      ]
     },
     "execution_count": null,
     "metadata": {},
     "output_type": "execute_result"
    }
   ],
   "source": [
    "%%time\n",
    "import time\n",
    "asyncMap(lambda x: (x+1, time.sleep(1))[0] , range(10), threads = 100)"
   ]
  },
  {
   "cell_type": "code",
   "execution_count": null,
   "metadata": {},
   "outputs": [],
   "source": []
  }
 ],
 "metadata": {
  "kernelspec": {
   "display_name": "python38",
   "language": "python",
   "name": "python38"
  }
 },
 "nbformat": 4,
 "nbformat_minor": 4
}
