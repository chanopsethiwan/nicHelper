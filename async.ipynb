{
 "cells": [
  {
   "cell_type": "code",
   "execution_count": null,
   "metadata": {},
   "outputs": [],
   "source": [
    "#default_exp asyncUtil"
   ]
  },
  {
   "cell_type": "markdown",
   "metadata": {},
   "source": [
    "# async\n",
    "> tools to help writing async python codes"
   ]
  },
  {
   "cell_type": "code",
   "execution_count": null,
   "metadata": {},
   "outputs": [],
   "source": [
    "#hide\n",
    "from nbdev.showdoc import *"
   ]
  },
  {
   "cell_type": "markdown",
   "metadata": {},
   "source": [
    "# async wrap"
   ]
  },
  {
   "cell_type": "code",
   "execution_count": null,
   "metadata": {},
   "outputs": [],
   "source": [
    "#export\n",
    "import asyncio\n",
    "from functools import wraps, partial\n",
    "\n",
    "def async_wrap(func):\n",
    "    @wraps(func)\n",
    "    async def run(*args, loop=None, executor=None, **kwargs):\n",
    "        if loop is None:\n",
    "            loop = asyncio.get_event_loop()\n",
    "        pfunc = partial(func, *args, **kwargs)\n",
    "        return await loop.run_in_executor(executor, pfunc)\n",
    "    return run\n"
   ]
  },
  {
   "cell_type": "code",
   "execution_count": null,
   "metadata": {},
   "outputs": [
    {
     "name": "stdout",
     "output_type": "stream",
     "text": [
      "CPU times: user 7.07 ms, sys: 0 ns, total: 7.07 ms\n",
      "Wall time: 4.01 s\n"
     ]
    },
    {
     "data": {
      "text/plain": [
       "[0, 1, 2, 3, 4, 5, 6, 7, 8, 9]"
      ]
     },
     "execution_count": null,
     "metadata": {},
     "output_type": "execute_result"
    }
   ],
   "source": [
    "%%time\n",
    "@async_wrap\n",
    "def aSlowFunc(input_:str):\n",
    "  time.sleep(2)\n",
    "  return input_\n",
    "\n",
    "## async func execute\n",
    "import nest_asyncio, time\n",
    "nest_asyncio.apply()\n",
    "async def runASlowFunc(input_):\n",
    "  return await aSlowFunc(input_)\n",
    "async def runLoop():\n",
    "  rtup = (runASlowFunc(i) for i in range (10))\n",
    "  r = await asyncio.gather(*rtup)\n",
    "  return r\n",
    "asyncio.run(runLoop())"
   ]
  },
  {
   "cell_type": "markdown",
   "metadata": {},
   "source": [
    "# thread mapping"
   ]
  },
  {
   "cell_type": "code",
   "execution_count": null,
   "metadata": {},
   "outputs": [],
   "source": [
    "#export\n",
    "import multiprocessing.dummy\n",
    "from typing import Callable, List, Any, Iterable\n",
    "from beartype import beartype\n",
    "@beartype\n",
    "def asyncMap(f:Callable, data:Iterable[Any], threads:int = 5)->Any:\n",
    "  p = multiprocessing.dummy.Pool(threads)\n",
    "  return p.map(f,data)"
   ]
  },
  {
   "cell_type": "code",
   "execution_count": null,
   "metadata": {},
   "outputs": [
    {
     "name": "stdout",
     "output_type": "stream",
     "text": [
      "CPU times: user 25.2 ms, sys: 1 ms, total: 26.2 ms\n",
      "Wall time: 1.02 s\n"
     ]
    },
    {
     "data": {
      "text/plain": [
       "[1, 2, 3, 4, 5, 6, 7, 8, 9, 10]"
      ]
     },
     "execution_count": null,
     "metadata": {},
     "output_type": "execute_result"
    }
   ],
   "source": [
    "%%time\n",
    "import time\n",
    "asyncMap(lambda x: (x+1, time.sleep(1))[0] , range(100), threads = 100)[:10]"
   ]
  },
  {
   "cell_type": "code",
   "execution_count": null,
   "metadata": {},
   "outputs": [],
   "source": [
    "def aSlowFunc(x):\n",
    "  time.sleep(1)\n",
    "  return x"
   ]
  },
  {
   "cell_type": "code",
   "execution_count": null,
   "metadata": {},
   "outputs": [
    {
     "name": "stdout",
     "output_type": "stream",
     "text": [
      "CPU times: user 4.57 ms, sys: 4.95 ms, total: 9.52 ms\n",
      "Wall time: 20 s\n"
     ]
    },
    {
     "data": {
      "text/plain": [
       "[0, 1, 2, 3, 4, 5, 6, 7, 8, 9]"
      ]
     },
     "execution_count": null,
     "metadata": {},
     "output_type": "execute_result"
    }
   ],
   "source": [
    "%%time\n",
    "asyncMap(aSlowFunc, range(100))[:10]"
   ]
  },
  {
   "cell_type": "code",
   "execution_count": null,
   "metadata": {},
   "outputs": [
    {
     "name": "stdout",
     "output_type": "stream",
     "text": [
      "[(0, 1), (1, 2), (2, 3), (3, 4), (4, 5), (5, 6), (6, 7), (7, 8), (8, 9), (9, 10)]\n"
     ]
    },
    {
     "data": {
      "text/plain": [
       "[1, 3, 5, 7, 9, 11, 13, 15, 17, 19]"
      ]
     },
     "execution_count": null,
     "metadata": {},
     "output_type": "execute_result"
    }
   ],
   "source": [
    "input_ = list(zip(range(10), range(1,11)))\n",
    "print(input_)\n",
    "asyncMap(lambda x: (lambda x,y: x+y )(x[0],x[1]), input_)"
   ]
  },
  {
   "cell_type": "markdown",
   "metadata": {},
   "source": [
    "# asyncAwaitMap"
   ]
  },
  {
   "cell_type": "code",
   "execution_count": null,
   "metadata": {},
   "outputs": [],
   "source": [
    "#export\n",
    "def asyncAwaitMap(f:Callable, data:Iterable[Any])->Any:\n",
    "  af = async_wrap(f) # convert to async func\n",
    "  async def runLoop():\n",
    "    rtup = (af(i) for i in data)\n",
    "    return await asyncio.gather(*rtup)\n",
    "  return asyncio.run(runLoop())"
   ]
  },
  {
   "cell_type": "code",
   "execution_count": null,
   "metadata": {},
   "outputs": [
    {
     "name": "stdout",
     "output_type": "stream",
     "text": [
      "CPU times: user 22.2 ms, sys: 7.76 ms, total: 30 ms\n",
      "Wall time: 17 s\n"
     ]
    },
    {
     "data": {
      "text/plain": [
       "[0, 1, 2, 3, 4, 5, 6, 7, 8, 9]"
      ]
     },
     "execution_count": null,
     "metadata": {},
     "output_type": "execute_result"
    }
   ],
   "source": [
    "%%time\n",
    "import nest_asyncio\n",
    "nest_asyncio.apply()\n",
    "asyncAwaitMap(aSlowFunc, range(100))[:10]"
   ]
  },
  {
   "cell_type": "code",
   "execution_count": null,
   "metadata": {},
   "outputs": [
    {
     "name": "stdout",
     "output_type": "stream",
     "text": [
      "[(0, 1), (1, 2), (2, 3), (3, 4), (4, 5), (5, 6), (6, 7), (7, 8), (8, 9), (9, 10)]\n"
     ]
    },
    {
     "data": {
      "text/plain": [
       "[1, 3, 5, 7, 9, 11, 13, 15, 17, 19]"
      ]
     },
     "execution_count": null,
     "metadata": {},
     "output_type": "execute_result"
    }
   ],
   "source": [
    "input_ = list(zip(range(10), range(1,11)))\n",
    "print(input_)\n",
    "asyncAwaitMap(lambda x: (lambda x,y: x+y )(x[0],x[1]), input_)"
   ]
  },
  {
   "cell_type": "markdown",
   "metadata": {},
   "source": [
    "# AsyncThread"
   ]
  },
  {
   "cell_type": "code",
   "execution_count": null,
   "metadata": {},
   "outputs": [],
   "source": [
    "#export\n",
    "from concurrent.futures import ThreadPoolExecutor\n",
    "def asyncThreadMap(f,data, threads=10):\n",
    "  with ThreadPoolExecutor(threads) as tr:\n",
    "    return tr.map(f,data)"
   ]
  },
  {
   "cell_type": "code",
   "execution_count": null,
   "metadata": {},
   "outputs": [
    {
     "name": "stdout",
     "output_type": "stream",
     "text": [
      "CPU times: user 11.3 ms, sys: 0 ns, total: 11.3 ms\n",
      "Wall time: 10 s\n"
     ]
    },
    {
     "data": {
      "text/plain": [
       "[0, 1, 2, 3, 4, 5, 6, 7, 8, 9]"
      ]
     },
     "execution_count": null,
     "metadata": {},
     "output_type": "execute_result"
    }
   ],
   "source": [
    "%%time\n",
    "def aSlowFunc(x):\n",
    "  time.sleep(1)\n",
    "  return x\n",
    "\n",
    "list(asyncThreadMap(aSlowFunc, range(100)))[:10]"
   ]
  },
  {
   "cell_type": "markdown",
   "metadata": {},
   "source": [
    "# AsyncProcess map"
   ]
  },
  {
   "cell_type": "code",
   "execution_count": null,
   "metadata": {},
   "outputs": [],
   "source": [
    "#export\n",
    "from concurrent.futures import ProcessPoolExecutor\n",
    "def asyncProcessMap(f,data, threads=10):\n",
    "  with ProcessPoolExecutor(threads) as tr:\n",
    "    return tr.map(f,data)"
   ]
  },
  {
   "cell_type": "code",
   "execution_count": null,
   "metadata": {},
   "outputs": [
    {
     "name": "stdout",
     "output_type": "stream",
     "text": [
      "CPU times: user 30.2 ms, sys: 54.3 ms, total: 84.5 ms\n",
      "Wall time: 10.1 s\n"
     ]
    },
    {
     "data": {
      "text/plain": [
       "[0, 1, 2, 3, 4, 5, 6, 7, 8, 9]"
      ]
     },
     "execution_count": null,
     "metadata": {},
     "output_type": "execute_result"
    }
   ],
   "source": [
    "%%time\n",
    "def aSlowFunc(x):\n",
    "  time.sleep(1)\n",
    "  return x\n",
    "\n",
    "list(asyncProcessMap(aSlowFunc, range(100)))[:10]"
   ]
  },
  {
   "cell_type": "code",
   "execution_count": null,
   "metadata": {},
   "outputs": [],
   "source": []
  }
 ],
 "metadata": {
  "kernelspec": {
   "display_name": "python38",
   "language": "python",
   "name": "python38"
  }
 },
 "nbformat": 4,
 "nbformat_minor": 4
}
