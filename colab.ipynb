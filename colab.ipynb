{
 "cells": [
  {
   "cell_type": "code",
   "execution_count": null,
   "metadata": {},
   "outputs": [],
   "source": [
    "# default_exp colab"
   ]
  },
  {
   "cell_type": "markdown",
   "metadata": {},
   "source": [
    "# colab\n",
    "> helpers for colab"
   ]
  },
  {
   "cell_type": "code",
   "execution_count": 1,
   "metadata": {},
   "outputs": [],
   "source": [
    "#hide\n",
    "from nbdev.showdoc import *"
   ]
  },
  {
   "cell_type": "code",
   "execution_count": 10,
   "metadata": {},
   "outputs": [],
   "source": [
    "#export\n",
    "from nicHelper.encrypt import encryptPasswordAes, decryptPasswordAes\n",
    "from beartype import beartype\n",
    "from getpass import getpass\n",
    "from functools import partial\n",
    "import subprocess, pickle"
   ]
  },
  {
   "cell_type": "markdown",
   "metadata": {},
   "source": [
    "# save aws pw"
   ]
  },
  {
   "cell_type": "code",
   "execution_count": 15,
   "metadata": {},
   "outputs": [],
   "source": [
    "@beartype\n",
    "def saveAwsPw(awskey:bytes, awssecret:bytes,\n",
    "              path:str = '/content/drive/MyDrive/.awskey', password:bytes = b''):\n",
    "  '''\n",
    "    save your aws password in your \n",
    "  '''\n",
    "  # get password\n",
    "  if not password:\n",
    "    password = getpass('input the password').encode()\n",
    "  \n",
    "  # encrypt with aes\n",
    "  encrypt = partial(encryptPasswordAes, password)\n",
    "  cryptkey, keynonce = encrypt(awskey)\n",
    "  cryptsecret, secretnonce = encrypt(awssecret)\n",
    "  \n",
    "  # save file as pickle\n",
    "  with open (path ,'wb') as f:\n",
    "    pickle.dump((cryptkey, cryptsecret, keynonce, secretnonce),f)\n",
    "  "
   ]
  },
  {
   "cell_type": "code",
   "execution_count": 16,
   "metadata": {},
   "outputs": [
    {
     "name": "stdout",
     "output_type": "stream",
     "text": [
      "(b'\\xbd*o\\xf3', b'\\xcd\\x19\\xd5B\\xbc\\xc8\\xbcG', b'\\x91`v\\xbf&\\x9bg\\x11\\x98\\xfb\\xb1\\xce\\x94\\xeb\\xbc\\xe7', b'@\\xcb\\xb4\\xfb\\xfd\\xcao\\xaf\\xac\\x04F\\x17\\xafMs#')\n"
     ]
    }
   ],
   "source": [
    "def test_saveAwsPw():\n",
    "  # enter password == test ##\n",
    "  saveAwsPw(awskey = b'test', awssecret=b'password', path = '/tmp/test', password = b'test')\n",
    "  with open ('/tmp/test', 'rb') as f:\n",
    "    r = pickle.load(f)\n",
    "  print(r)\n",
    "test_saveAwsPw()"
   ]
  },
  {
   "cell_type": "markdown",
   "metadata": {},
   "source": [
    "# load aws pw"
   ]
  },
  {
   "cell_type": "code",
   "execution_count": 18,
   "metadata": {},
   "outputs": [],
   "source": [
    "@beartype\n",
    "def loadAwsPw(path = '/content/drive/MyDrive/.awskey', password:bytes = b'', profile:str = 'test'):\n",
    "  \n",
    "  with open (path, 'rb') as f:\n",
    "    cryptkey, cryptsecret, keynonce, secretnonce = pickle.load(f)\n",
    "  decryptedKey = decryptPasswordAes(cryptkey,password,keynonce)\n",
    "  decryptedSecret = decryptPasswordAes(cryptsecret, password, secretnonce)\n",
    "  print( decryptedKey, decryptedSecret)\n",
    "  "
   ]
  },
  {
   "cell_type": "code",
   "execution_count": 20,
   "metadata": {},
   "outputs": [
    {
     "name": "stdout",
     "output_type": "stream",
     "text": [
      "b'test' b'password'\n"
     ]
    }
   ],
   "source": [
    "def test_loadAwsPw():\n",
    "  loadAwsPw(path = '/tmp/test', password = b'test')\n",
    "test_loadAwsPw()"
   ]
  },
  {
   "cell_type": "markdown",
   "metadata": {},
   "source": [
    "# set up aws"
   ]
  },
  {
   "cell_type": "code",
   "execution_count": 29,
   "metadata": {},
   "outputs": [],
   "source": [
    "@beartype\n",
    "def setUpAws(awskey:str, awsSecret:str, profile:str = '', region:str = 'ap-southeast-1'):\n",
    "  if profile:  profileParameter = f'--profile {profile}'\n",
    "  else: profileParameter = ''\n",
    "    \n",
    "  setupPrefix = f'aws configure {profileParameter}'\n",
    "  setupKey = f'{setupPrefix} set aws_access_key_id {awskey}'\n",
    "  setupSecret = f'{setupPrefix} set aws_secret_access_key {awsSecret}'\n",
    "  setupRegion = f'{setupPrefix} set default.region {region}'\n",
    "  \n",
    "  print(f'{setupKey} \\n {setupSecret}, \\n{setupRegion}')\n",
    "  "
   ]
  },
  {
   "cell_type": "code",
   "execution_count": 30,
   "metadata": {},
   "outputs": [
    {
     "name": "stdout",
     "output_type": "stream",
     "text": [
      "aws configure --profile testProfile set aws_access_key_id test \n",
      " aws configure --profile testProfile set aws_secret_access_key secret, \n",
      "aws configure --profile testProfile set default.region ap-southeast-1\n"
     ]
    }
   ],
   "source": [
    "def testSetUpAws():\n",
    "  setUpAws('test', 'secret', 'testProfile')\n",
    "testSetUpAws()"
   ]
  },
  {
   "cell_type": "code",
   "execution_count": null,
   "metadata": {},
   "outputs": [],
   "source": []
  }
 ],
 "metadata": {
  "kernelspec": {
   "display_name": "python38",
   "language": "python",
   "name": "python38"
  },
  "language_info": {
   "codemirror_mode": {
    "name": "ipython",
    "version": 3
   },
   "file_extension": ".py",
   "mimetype": "text/x-python",
   "name": "python",
   "nbconvert_exporter": "python",
   "pygments_lexer": "ipython3",
   "version": "3.8.6"
  }
 },
 "nbformat": 4,
 "nbformat_minor": 4
}
