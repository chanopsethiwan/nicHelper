{
 "cells": [
  {
   "cell_type": "code",
   "execution_count": null,
   "metadata": {},
   "outputs": [],
   "source": [
    "# default_exp colab"
   ]
  },
  {
   "cell_type": "markdown",
   "metadata": {},
   "source": [
    "# colab\n",
    "> helpers for colab"
   ]
  },
  {
   "cell_type": "code",
   "execution_count": null,
   "metadata": {},
   "outputs": [],
   "source": [
    "#hide\n",
    "from nbdev.showdoc import *"
   ]
  },
  {
   "cell_type": "code",
   "execution_count": null,
   "metadata": {},
   "outputs": [],
   "source": [
    "#export\n",
    "from nicHelper.encrypt import encryptPasswordAes, decryptPasswordAes\n",
    "from beartype import beartype\n",
    "from getpass import getpass\n",
    "from functools import partial\n",
    "from typing import Tuple, Optional\n",
    "from getpass import getpass\n",
    "import subprocess, pickle, os"
   ]
  },
  {
   "cell_type": "markdown",
   "metadata": {},
   "source": [
    "# save aws pw"
   ]
  },
  {
   "cell_type": "code",
   "execution_count": null,
   "metadata": {},
   "outputs": [],
   "source": [
    "#export\n",
    "@beartype\n",
    "def saveAwsPw(awskey:bytes, awssecret:bytes,\n",
    "              path:str = '/content/drive/MyDrive/.awskey', password:bytes = b''):\n",
    "  '''\n",
    "    save your aws password in your \n",
    "  '''\n",
    "  # get password\n",
    "  if not password:\n",
    "    password = getpass('input the password').encode()\n",
    "  \n",
    "  # encrypt with aes\n",
    "  encrypt = partial(encryptPasswordAes, password)\n",
    "  cryptkey, keynonce = encrypt(awskey)\n",
    "  cryptsecret, secretnonce = encrypt(awssecret)\n",
    "  \n",
    "  # save file as pickle\n",
    "  with open (path ,'wb') as f:\n",
    "    pickle.dump((cryptkey, cryptsecret, keynonce, secretnonce),f)\n",
    "  "
   ]
  },
  {
   "cell_type": "code",
   "execution_count": null,
   "metadata": {},
   "outputs": [
    {
     "name": "stdout",
     "output_type": "stream",
     "text": [
      "(b'\\xd7\\x93;U', b'\\xf2\\xcf\\xf2mx\\xa2\\xc2\\x9d', b',\\xd7$\\xab\\xb71>M\\xb5\\x07S\\x03\\x1d\\xdb7\\xa0', b\"-I\\xeb'X\\x18\\x07hH\\xfff\\x89\\x8a\\xa4\\x804\")\n"
     ]
    }
   ],
   "source": [
    "def test_saveAwsPw():\n",
    "  # enter password == test ##\n",
    "  saveAwsPw(awskey = b'test', awssecret=b'password', path = '/tmp/test', password = b'test')\n",
    "  with open ('/tmp/test', 'rb') as f:\n",
    "    r = pickle.load(f)\n",
    "  print(r)\n",
    "test_saveAwsPw()"
   ]
  },
  {
   "cell_type": "markdown",
   "metadata": {},
   "source": [
    "# load aws pw"
   ]
  },
  {
   "cell_type": "code",
   "execution_count": null,
   "metadata": {},
   "outputs": [],
   "source": [
    "#export\n",
    "@beartype\n",
    "def loadAwsPw(path = '/content/drive/MyDrive/.awskey', \n",
    "              password:Optional[bytes] = None )->Optional[Tuple[bytes,bytes]]:\n",
    "  '''\n",
    "    load key and secret from path\n",
    "  '''\n",
    "  if not password: password = getpass().encode()\n",
    "  \n",
    "  with open (path, 'rb') as f:\n",
    "    cryptkey, cryptsecret, keynonce, secretnonce = pickle.load(f)\n",
    "  decryptedKey = decryptPasswordAes(cryptkey,password,keynonce)\n",
    "  decryptedSecret = decryptPasswordAes(cryptsecret, password, secretnonce)\n",
    "  return decryptedKey, decryptedSecret\n",
    "  "
   ]
  },
  {
   "cell_type": "code",
   "execution_count": null,
   "metadata": {},
   "outputs": [
    {
     "name": "stdout",
     "output_type": "stream",
     "text": [
      "(b'test', b'password')\n"
     ]
    }
   ],
   "source": [
    "def test_loadAwsPw():\n",
    "  r = loadAwsPw(path = '/tmp/test', password = b'test')\n",
    "  print(r)\n",
    "test_loadAwsPw()"
   ]
  },
  {
   "cell_type": "markdown",
   "metadata": {},
   "source": [
    "# set up aws"
   ]
  },
  {
   "cell_type": "code",
   "execution_count": null,
   "metadata": {},
   "outputs": [],
   "source": [
    "#export\n",
    "@beartype\n",
    "def setUpAws(awsKey:str, awsSecret:str, \n",
    "             profile:Optional[str] = None, region:str = 'ap-southeast-1')->Tuple[str,str,str]:\n",
    "  ''' \n",
    "    this code generate a string to be executed to the shell\n",
    "    you can do this with, however, its not a bad idea to check before executing\n",
    "    \n",
    "    (exec(c) for c in setUpAws(...))\n",
    "    \n",
    "    response:\n",
    "      (setupKey, setupSecret, setupRegion)\n",
    "      \n",
    "  '''\n",
    "  if profile:  profileParameter = f'--profile {profile} '\n",
    "  else: profileParameter = ''\n",
    "    \n",
    "  setupPrefix = f'aws configure {profileParameter}'\n",
    "  setupKey = f'{setupPrefix}set aws_access_key_id {awsKey}'\n",
    "  setupSecret = f'{setupPrefix}set aws_secret_access_key {awsSecret}'\n",
    "  setupRegion = f'{setupPrefix}set default.region {region}'\n",
    "  \n",
    "  \n",
    "  return setupKey, setupSecret, setupRegion\n",
    "  "
   ]
  },
  {
   "cell_type": "code",
   "execution_count": null,
   "metadata": {},
   "outputs": [
    {
     "name": "stdout",
     "output_type": "stream",
     "text": [
      "('aws configure --profile testProfile set aws_access_key_id test', 'aws configure --profile testProfile set aws_secret_access_key secret', 'aws configure --profile testProfile set default.region ap-southeast-1')\n"
     ]
    }
   ],
   "source": [
    "def testSetUpAws():\n",
    "  r = setUpAws('test', 'secret', 'testProfile')\n",
    "  print(r)\n",
    "testSetUpAws()"
   ]
  },
  {
   "cell_type": "markdown",
   "metadata": {},
   "source": [
    "# autosetup aws"
   ]
  },
  {
   "cell_type": "code",
   "execution_count": null,
   "metadata": {},
   "outputs": [],
   "source": [
    "#export\n",
    "def autoSetupAws(path, profile=None, region='ap-southeast-1', mockup = False, password:Optional[bytes] = None):\n",
    "  key, secret = loadAwsPw(path, password=password) # key and secret in bytes\n",
    "  try:\n",
    "    key, secret = key.decode(), secret.decode()\n",
    "  except:\n",
    "    print('cant decode key and secret, maybe the password is wrong')\n",
    "    return\n",
    "    \n",
    "#   print(key,secret)\n",
    "  setupStrings = setUpAws(awsKey=key,\n",
    "                          awsSecret=secret,\n",
    "                          profile=profile,\n",
    "                          region=region)\n",
    "  # check if reunning in colab\n",
    "  isColab =  'google.colab' in str(get_ipython())\n",
    "  \n",
    "  if isColab:\n",
    "    print('Running on CoLab')\n",
    "  else:\n",
    "    print('Not running on colab')\n",
    "    \n",
    "    \n",
    "  if mockup:\n",
    "    return setupStrings\n",
    "  for setupString in setupStrings:\n",
    "    if isColab:\n",
    "      print(f'executing {setupString[:-5]}')\n",
    "      os.system(setupString)\n",
    "    else:\n",
    "      print('Not running on CoLab')\n",
    "      print(setupString[:-5])\n",
    "  \n",
    "  "
   ]
  },
  {
   "cell_type": "code",
   "execution_count": null,
   "metadata": {},
   "outputs": [
    {
     "name": "stdout",
     "output_type": "stream",
     "text": [
      "Not running on colab\n",
      "Not running on CoLab\n",
      "aws configure  set aws_access_key_id\n",
      "Not running on CoLab\n",
      "aws configure  set aws_secret_access_key pas\n",
      "Not running on CoLab\n",
      "aws configure  set default.region ap-southe\n",
      "test successful\n",
      "cant decode key and secret, maybe the password is wrong\n"
     ]
    }
   ],
   "source": [
    "def testAutoSetupAws():\n",
    "  autoSetupAws(path = '/tmp/test', password=b'test')\n",
    "  print('test successful')\n",
    "  autoSetupAws(path = '/tmp/test', password=b'tst')\n",
    "testAutoSetupAws()"
   ]
  },
  {
   "cell_type": "code",
   "execution_count": null,
   "metadata": {},
   "outputs": [],
   "source": []
  }
 ],
 "metadata": {
  "kernelspec": {
   "display_name": "python38",
   "language": "python",
   "name": "python38"
  }
 },
 "nbformat": 4,
 "nbformat_minor": 4
}
