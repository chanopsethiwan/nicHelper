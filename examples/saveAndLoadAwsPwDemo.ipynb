{
 "cells": [
  {
   "cell_type": "markdown",
   "metadata": {},
   "source": [
    "<a href=\"https://colab.research.google.com/github/thanakijwanavit/nicHelper/blob/master/saveAndLoadAwsPwDemo.ipynb\" target=\"_parent\"><img src=\"https://colab.research.google.com/assets/colab-badge.svg\" alt=\"Open In Colab\"/></a>"
   ]
  },
  {
   "cell_type": "markdown",
   "metadata": {},
   "source": [
    "# Save and load aws credentials"
   ]
  },
  {
   "cell_type": "markdown",
   "metadata": {},
   "source": [
    "## install required libraries"
   ]
  },
  {
   "cell_type": "code",
   "execution_count": null,
   "metadata": {},
   "outputs": [],
   "source": [
    "!pip install -q --upgrade aws-sam-cli nicHelper==0.0.74 pycryptodome beartype\n",
    "!apt install -qq awscli"
   ]
  },
  {
   "cell_type": "markdown",
   "metadata": {},
   "source": [
    "#Save Key\n",
    "Only run this once, remember your password\n",
    "can comment it out after the first run"
   ]
  },
  {
   "cell_type": "code",
   "execution_count": null,
   "metadata": {},
   "outputs": [],
   "source": [
    "from nicHelper.colab import saveAwsPw\n",
    "from getpass import getpass\n",
    "\n",
    "awskey = getpass('enter your aws key').encode()\n",
    "awssecret = getpass('enter your aws Secret').encode()\n",
    "password = getpass('set your password').encode()\n",
    "path = '/content/drive/MyDrive/.test'\n",
    "saveAwsPw(awskey=awskey, awssecret=awssecret, path=path, password=password)"
   ]
  },
  {
   "cell_type": "markdown",
   "metadata": {},
   "source": [
    "# Set up aws with the saved key\n",
    "must use the password you set earlier"
   ]
  },
  {
   "cell_type": "code",
   "execution_count": null,
   "metadata": {},
   "outputs": [],
   "source": [
    "from nicHelper.colab import autoSetupAws\n",
    "path = '/content/drive/MyDrive/.test'\n",
    "\n",
    "autoSetupAws(path=path,\n",
    "             password = getpass('enter your password').encode(),\n",
    "             region='ap-southeast-1' )\n",
    "## dont worry this is not printing the full key/password\n",
    "### note this this function will only work in colab"
   ]
  },
  {
   "cell_type": "code",
   "execution_count": null,
   "metadata": {},
   "outputs": [],
   "source": [
    ""
   ]
  },
  {
   "cell_type": "markdown",
   "metadata": {},
   "source": [
    "## for non-colab folks\n",
    "or for more customizability"
   ]
  },
  {
   "cell_type": "code",
   "execution_count": null,
   "metadata": {},
   "outputs": [],
   "source": [
    "from nicHelper.colab import loadAwsPw, setUpAws\n",
    "from os import system\n",
    "password = getpass('enter our password').encode()\n",
    "path = '/content/drive/MyDrive/.test'\n",
    "region = 'ap-southeast-1'\n",
    "\n",
    "key,secret = loadAwsPw(path = path, password = password)\n",
    "setupStrings = setUpAws(awsKey=key.decode(), awsSecret=secret.decode(), region = region)\n",
    "print(setupStrings) ### remember to comment this out\n",
    "for setupString in setupStrings:\n",
    "  system(setupString)"
   ]
  },
  {
   "cell_type": "code",
   "execution_count": null,
   "metadata": {},
   "outputs": [],
   "source": [
    ""
   ]
  }
 ],
 "metadata": {
  "kernelspec": {
   "display_name": "Python 3",
   "name": "python3"
  }
 },
 "nbformat": 4,
 "nbformat_minor": 0
}
