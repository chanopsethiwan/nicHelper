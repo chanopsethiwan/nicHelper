{
 "cells": [
  {
   "cell_type": "code",
   "execution_count": null,
   "metadata": {},
   "outputs": [],
   "source": [
    "#default_exp pdUtils"
   ]
  },
  {
   "cell_type": "markdown",
   "metadata": {},
   "source": [
    "# pd Utils\n",
    "utilities function for pandas dataframe and series"
   ]
  },
  {
   "cell_type": "code",
   "execution_count": null,
   "metadata": {},
   "outputs": [],
   "source": [
    "#export\n",
    "import pandas as pd\n",
    "from hashlib import sha1\n",
    "from nicHelper.dictUtil import saveStringToFile, loadStringFromFile\n",
    "from pynamodb.constants import BINARY\n",
    "from pynamodb.attributes import Attribute, UnicodeAttribute\n",
    "from pynamodb.models import Model\n",
    "from s3bz.s3bz import S3\n",
    "import os"
   ]
  },
  {
   "cell_type": "code",
   "execution_count": null,
   "metadata": {},
   "outputs": [
    {
     "data": {
      "text/html": [
       "<div>\n",
       "<style scoped>\n",
       "    .dataframe tbody tr th:only-of-type {\n",
       "        vertical-align: middle;\n",
       "    }\n",
       "\n",
       "    .dataframe tbody tr th {\n",
       "        vertical-align: top;\n",
       "    }\n",
       "\n",
       "    .dataframe thead th {\n",
       "        text-align: right;\n",
       "    }\n",
       "</style>\n",
       "<table border=\"1\" class=\"dataframe\">\n",
       "  <thead>\n",
       "    <tr style=\"text-align: right;\">\n",
       "      <th></th>\n",
       "      <th>hello</th>\n",
       "    </tr>\n",
       "  </thead>\n",
       "  <tbody>\n",
       "    <tr>\n",
       "      <th>0</th>\n",
       "      <td>1</td>\n",
       "    </tr>\n",
       "    <tr>\n",
       "      <th>1</th>\n",
       "      <td>2</td>\n",
       "    </tr>\n",
       "    <tr>\n",
       "      <th>2</th>\n",
       "      <td>3</td>\n",
       "    </tr>\n",
       "    <tr>\n",
       "      <th>3</th>\n",
       "      <td>4</td>\n",
       "    </tr>\n",
       "    <tr>\n",
       "      <th>4</th>\n",
       "      <td>5</td>\n",
       "    </tr>\n",
       "    <tr>\n",
       "      <th>5</th>\n",
       "      <td>5</td>\n",
       "    </tr>\n",
       "  </tbody>\n",
       "</table>\n",
       "</div>"
      ],
      "text/plain": [
       "   hello\n",
       "0      1\n",
       "1      2\n",
       "2      3\n",
       "3      4\n",
       "4      5\n",
       "5      5"
      ]
     },
     "execution_count": null,
     "metadata": {},
     "output_type": "execute_result"
    }
   ],
   "source": [
    "df = pd.DataFrame({'hello':[1,2,3,4,5,5]})\n",
    "df"
   ]
  },
  {
   "cell_type": "code",
   "execution_count": null,
   "metadata": {},
   "outputs": [],
   "source": [
    "#export\n",
    "def getDfHash(df:pd.DataFrame):\n",
    "  df.to_feather('/tmp/feather')\n",
    "  with open('/tmp/feather', 'rb') as f:\n",
    "    objHash = sha1(f.read()).hexdigest()\n",
    "  return objHash"
   ]
  },
  {
   "cell_type": "code",
   "execution_count": null,
   "metadata": {},
   "outputs": [
    {
     "name": "stdout",
     "output_type": "stream",
     "text": [
      "CPU times: user 14.7 ms, sys: 7.83 ms, total: 22.5 ms\n",
      "Wall time: 37.7 ms\n"
     ]
    },
    {
     "data": {
      "text/plain": [
       "'068df0811eb710aa82148159e389157000f0b023'"
      ]
     },
     "execution_count": null,
     "metadata": {},
     "output_type": "execute_result"
    }
   ],
   "source": [
    "%%time\n",
    "getDfHash(df)"
   ]
  },
  {
   "cell_type": "markdown",
   "metadata": {},
   "source": [
    "## Local cache and hash"
   ]
  },
  {
   "cell_type": "code",
   "execution_count": null,
   "metadata": {},
   "outputs": [],
   "source": [
    "#export\n",
    "def saveLocalCache( data:pd.DataFrame, path = '/tmp/cache'):\n",
    "  saveLocalHash(data, path=path)\n",
    "  return data.to_feather(path)\n",
    "def saveLocalHash( data:pd.DataFrame, path = '/tmp/hash'):\n",
    "  dataHash = getDfHash(data)\n",
    "  saveStringToFile(dataHash,path)\n",
    "def loadLocalCache( path = '/tmp/cache'):\n",
    "  if not os.path.exists(path): raise Exception('cache doesnt exist')\n",
    "  return pd.read_feather(path)\n",
    "def loadLocalHash( path = '/tmp/hash'):\n",
    "  if not os.path.exists(path): raise Exception('hash doesnt exist')\n",
    "  return loadStringFromFile(path)"
   ]
  },
  {
   "cell_type": "code",
   "execution_count": null,
   "metadata": {},
   "outputs": [
    {
     "name": "stdout",
     "output_type": "stream",
     "text": [
      "CPU times: user 3.19 ms, sys: 0 ns, total: 3.19 ms\n",
      "Wall time: 3.6 ms\n",
      "CPU times: user 1.72 ms, sys: 0 ns, total: 1.72 ms\n",
      "Wall time: 1.71 ms\n",
      "068df0811eb710aa82148159e389157000f0b023\n",
      "CPU times: user 764 µs, sys: 0 ns, total: 764 µs\n",
      "Wall time: 539 µs\n",
      "CPU times: user 3.54 ms, sys: 0 ns, total: 3.54 ms\n",
      "Wall time: 3.29 ms\n"
     ]
    },
    {
     "data": {
      "text/html": [
       "<div>\n",
       "<style scoped>\n",
       "    .dataframe tbody tr th:only-of-type {\n",
       "        vertical-align: middle;\n",
       "    }\n",
       "\n",
       "    .dataframe tbody tr th {\n",
       "        vertical-align: top;\n",
       "    }\n",
       "\n",
       "    .dataframe thead th {\n",
       "        text-align: right;\n",
       "    }\n",
       "</style>\n",
       "<table border=\"1\" class=\"dataframe\">\n",
       "  <thead>\n",
       "    <tr style=\"text-align: right;\">\n",
       "      <th></th>\n",
       "      <th>hello</th>\n",
       "    </tr>\n",
       "  </thead>\n",
       "  <tbody>\n",
       "    <tr>\n",
       "      <th>0</th>\n",
       "      <td>1</td>\n",
       "    </tr>\n",
       "    <tr>\n",
       "      <th>1</th>\n",
       "      <td>2</td>\n",
       "    </tr>\n",
       "    <tr>\n",
       "      <th>2</th>\n",
       "      <td>3</td>\n",
       "    </tr>\n",
       "    <tr>\n",
       "      <th>3</th>\n",
       "      <td>4</td>\n",
       "    </tr>\n",
       "    <tr>\n",
       "      <th>4</th>\n",
       "      <td>5</td>\n",
       "    </tr>\n",
       "    <tr>\n",
       "      <th>5</th>\n",
       "      <td>5</td>\n",
       "    </tr>\n",
       "  </tbody>\n",
       "</table>\n",
       "</div>"
      ],
      "text/plain": [
       "   hello\n",
       "0      1\n",
       "1      2\n",
       "2      3\n",
       "3      4\n",
       "4      5\n",
       "5      5"
      ]
     },
     "execution_count": null,
     "metadata": {},
     "output_type": "execute_result"
    }
   ],
   "source": [
    "%time saveLocalCache(df)\n",
    "%time saveLocalHash(df)\n",
    "%time print(loadLocalHash())\n",
    "%time loadLocalCache()"
   ]
  },
  {
   "cell_type": "markdown",
   "metadata": {},
   "source": [
    "## Remote cache and hash"
   ]
  },
  {
   "cell_type": "code",
   "execution_count": null,
   "metadata": {},
   "outputs": [],
   "source": [
    "#export\n",
    "def saveRemoteHash(data:pd.DataFrame, key='', bucket='', **kwargs):\n",
    "  hashKey = f'{key}-hash'\n",
    "  hashString = getDfHash(data)\n",
    "  dictToSave= {'hash': hashString }\n",
    "  print(f'hashKey is {hashKey}')\n",
    "  print('saving hash to s3')\n",
    "  S3.save(key=hashKey,objectToSave=dictToSave, bucket=bucket, **kwargs )\n",
    "  print(f'saved hash {hashString}')\n",
    "  \n",
    "\n",
    "def saveRemoteCache(data:pd.DataFrame, key = '', \n",
    "                    bucket = '', localCachePath='/tmp/cache', localHashPath='/tmp/hash', **kwargs):\n",
    "  \n",
    "  saveLocalCache(data=data, path = localCachePath)\n",
    "  saveLocalHash(data=data, path = localHashPath)\n",
    "  saveRemoteHash(data=data, key = key, bucket=bucket)\n",
    "  S3.saveFile(key=key, path=localCachePath, bucket=bucket, **kwargs)\n",
    "  \n",
    "def loadRemoteCache(key='', bucket='', **kwargs):\n",
    "  path = '/tmp/tmpPath'\n",
    "  S3.loadFile(key,path=path ,bucket=bucket, **kwargs)\n",
    "  df = pd.read_feather(path)\n",
    "  return df\n",
    "\n",
    "def loadRemoteHash(key='', bucket='', **kwargs):\n",
    "  hashKey = f'{key}-hash'\n",
    "  print(f'loading hashkey {hashKey}')\n",
    "  loadedHash= S3.load(hashKey,bucket=bucket, **kwargs).get('hash')\n",
    "  print(f'loaded hash is {loadedHash}')\n",
    "  return loadedHash"
   ]
  },
  {
   "cell_type": "code",
   "execution_count": null,
   "metadata": {},
   "outputs": [
    {
     "name": "stdout",
     "output_type": "stream",
     "text": [
      "hashKey is testKey-hash\n",
      "saving hash to s3\n",
      "saved hash 068df0811eb710aa82148159e389157000f0b023\n",
      "CPU times: user 91.6 ms, sys: 23.1 ms, total: 115 ms\n",
      "Wall time: 255 ms\n",
      "loading hashkey testKey-hash\n",
      "loaded hash is 068df0811eb710aa82148159e389157000f0b023\n",
      "068df0811eb710aa82148159e389157000f0b023\n",
      "123 ms ± 20.8 ms per loop (mean ± std. dev. of 7 runs, 1 loop each)\n"
     ]
    }
   ],
   "source": [
    "#hide\n",
    "testKey = 'testKey'\n",
    "testBucket = 'villa-clipboard'\n",
    "%time saveRemoteCache(df, key = testKey, bucket = testBucket)\n",
    "print(loadRemoteHash(testKey, testBucket))\n",
    "%timeit loadRemoteCache(key = testKey, bucket = testBucket)"
   ]
  },
  {
   "cell_type": "markdown",
   "metadata": {},
   "source": [
    "## PynamoAttributes"
   ]
  },
  {
   "cell_type": "code",
   "execution_count": null,
   "metadata": {},
   "outputs": [],
   "source": [
    "#export\n",
    "class PandasDataFrameAttribute(Attribute):\n",
    "  attr_type = BINARY\n",
    "  def serialize(self, value: pd.DataFrame)->bin:\n",
    "    bio = BytesIO()\n",
    "    value.to_feather(bio)\n",
    "    data:bin = bio.getvalue()\n",
    "    return data\n",
    "  def deserialize(self, value: bin)->pd.DataFrame:\n",
    "    bio = BytesIo(bin)\n",
    "    df: pd.DataFrame = pd.read_feather(bio)\n",
    "    return df"
   ]
  },
  {
   "cell_type": "code",
   "execution_count": null,
   "metadata": {},
   "outputs": [
    {
     "data": {
      "text/html": [
       "<div>\n",
       "<style scoped>\n",
       "    .dataframe tbody tr th:only-of-type {\n",
       "        vertical-align: middle;\n",
       "    }\n",
       "\n",
       "    .dataframe tbody tr th {\n",
       "        vertical-align: top;\n",
       "    }\n",
       "\n",
       "    .dataframe thead th {\n",
       "        text-align: right;\n",
       "    }\n",
       "</style>\n",
       "<table border=\"1\" class=\"dataframe\">\n",
       "  <thead>\n",
       "    <tr style=\"text-align: right;\">\n",
       "      <th></th>\n",
       "      <th>cprcode</th>\n",
       "      <th>quantity</th>\n",
       "    </tr>\n",
       "  </thead>\n",
       "  <tbody>\n",
       "    <tr>\n",
       "      <th>0</th>\n",
       "      <td>1234</td>\n",
       "      <td>123</td>\n",
       "    </tr>\n",
       "    <tr>\n",
       "      <th>1</th>\n",
       "      <td>12345</td>\n",
       "      <td>345</td>\n",
       "    </tr>\n",
       "  </tbody>\n",
       "</table>\n",
       "</div>"
      ],
      "text/plain": [
       "  cprcode  quantity\n",
       "0    1234       123\n",
       "1   12345       345"
      ]
     },
     "execution_count": null,
     "metadata": {},
     "output_type": "execute_result"
    }
   ],
   "source": [
    "class Database(Model):\n",
    "  class Meta:\n",
    "    table_name = ''\n",
    "    region = ''\n",
    "    billing_mode='PAY_PER_REQUEST'\n",
    "    \n",
    "  brcode = UnicodeAttribute(hash_key=True, default = '')\n",
    "  data = PandasDataFrameAttribute()\n",
    "  \n",
    "import sys\n",
    "df = pd.DataFrame({'cprcode':['1234', '12345'], 'quantity':[123, 345]})\n",
    "db = Database(brcode='1234', data = df)\n",
    "db.data"
   ]
  },
  {
   "cell_type": "code",
   "execution_count": null,
   "metadata": {},
   "outputs": [],
   "source": [
    "#export\n",
    "# class PandasSeriesAttribute(Attribute):\n",
    "#   attr_type = BINARY\n",
    "#   def serialize(self, value: pd.Series)->bin:\n",
    "#     bio = BytesIO()\n",
    "#     df = s.to_frame()\n",
    "#     value.to_feather(bio)\n",
    "#     data:bin = bio.getvalue()\n",
    "#     return data\n",
    "#   def deserialize(self, value: bin)->pd.DataFrame:\n",
    "#     bio = BytesIo(bin)\n",
    "#     df: pd.DataFrame = pd.read_feather(bio)\n",
    "#     return df"
   ]
  },
  {
   "cell_type": "code",
   "execution_count": null,
   "metadata": {},
   "outputs": [],
   "source": [
    "#export\n",
    "from nicHelper.schema import getTypes"
   ]
  },
  {
   "cell_type": "code",
   "execution_count": null,
   "metadata": {},
   "outputs": [
    {
     "data": {
      "text/plain": [
       "{'iprcode': int,\n",
       " 'brcode': int,\n",
       " 'ib_cf_qty': int,\n",
       " 'new_ib_vs_stock_cv': int,\n",
       " 'onlineflag': bool}"
      ]
     },
     "execution_count": null,
     "metadata": {},
     "output_type": "execute_result"
    }
   ],
   "source": [
    "url = 'https://raw.githubusercontent.com/thanakijwanavit/villaMasterSchema/dev-manual/inventory/inventory.yaml'\n",
    "\n",
    "\n",
    "inv = {\n",
    "                  'iprcode': '0000009',\n",
    "                  'brcode': '1000',\n",
    "                  'ib_cf_qty': '50',\n",
    "                  'new_ib_vs_stock_cv': '27',\n",
    "                  'onlineflag': True\n",
    "                }\n",
    "getTypes(url)"
   ]
  },
  {
   "cell_type": "code",
   "execution_count": null,
   "metadata": {},
   "outputs": [],
   "source": [
    "#export\n",
    "def forceType(url:str, df:pd.DataFrame, defaultType=str)->pd.DataFrame:\n",
    "  typeDict = getTypes(url)\n",
    "  typeList = {col:typeDict.get(col) for col in df.columns}\n",
    "  print(typeList)\n",
    "  df = df.astype(typeList)\n",
    "  print(df.dtypes)\n",
    "  df"
   ]
  },
  {
   "cell_type": "code",
   "execution_count": null,
   "metadata": {},
   "outputs": [
    {
     "name": "stdout",
     "output_type": "stream",
     "text": [
      "{'iprcode': <class 'int'>, 'brcode': <class 'int'>, 'ib_cf_qty': <class 'int'>, 'new_ib_vs_stock_cv': <class 'int'>, 'onlineflag': <class 'bool'>}\n",
      "iprcode               int64\n",
      "brcode                int64\n",
      "ib_cf_qty             int64\n",
      "new_ib_vs_stock_cv    int64\n",
      "onlineflag             bool\n",
      "dtype: object\n"
     ]
    }
   ],
   "source": [
    "forceType(url, pd.DataFrame([inv]))\n",
    "# df.astype()"
   ]
  },
  {
   "cell_type": "code",
   "execution_count": null,
   "metadata": {},
   "outputs": [],
   "source": []
  }
 ],
 "metadata": {
  "kernelspec": {
   "display_name": "python38",
   "language": "python",
   "name": "python38"
  }
 },
 "nbformat": 4,
 "nbformat_minor": 4
}
