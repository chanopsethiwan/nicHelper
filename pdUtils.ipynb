{
 "cells": [
  {
   "cell_type": "code",
   "execution_count": 1,
   "metadata": {},
   "outputs": [],
   "source": [
    "#default_exp pdUtils"
   ]
  },
  {
   "cell_type": "markdown",
   "metadata": {},
   "source": [
    "# pd Utils\n",
    "utilities function for pandas dataframe and series"
   ]
  },
  {
   "cell_type": "code",
   "execution_count": 8,
   "metadata": {},
   "outputs": [],
   "source": [
    "#export\n",
    "import pandas as pd\n",
    "from hashlib import sha1\n",
    "from nicHelper.dictUtil import saveStringToFile, loadStringFromFile\n",
    "from pynamodb.constants import BINARY\n",
    "from pynamodb.attributes import Attribute, UnicodeAttribute\n",
    "from pynamodb.models import Model\n",
    "from s3bz.s3bz import S3\n",
    "import os"
   ]
  },
  {
   "cell_type": "code",
   "execution_count": 3,
   "metadata": {},
   "outputs": [
    {
     "data": {
      "text/html": [
       "<div>\n",
       "<style scoped>\n",
       "    .dataframe tbody tr th:only-of-type {\n",
       "        vertical-align: middle;\n",
       "    }\n",
       "\n",
       "    .dataframe tbody tr th {\n",
       "        vertical-align: top;\n",
       "    }\n",
       "\n",
       "    .dataframe thead th {\n",
       "        text-align: right;\n",
       "    }\n",
       "</style>\n",
       "<table border=\"1\" class=\"dataframe\">\n",
       "  <thead>\n",
       "    <tr style=\"text-align: right;\">\n",
       "      <th></th>\n",
       "      <th>hello</th>\n",
       "    </tr>\n",
       "  </thead>\n",
       "  <tbody>\n",
       "    <tr>\n",
       "      <th>0</th>\n",
       "      <td>1</td>\n",
       "    </tr>\n",
       "    <tr>\n",
       "      <th>1</th>\n",
       "      <td>2</td>\n",
       "    </tr>\n",
       "    <tr>\n",
       "      <th>2</th>\n",
       "      <td>3</td>\n",
       "    </tr>\n",
       "    <tr>\n",
       "      <th>3</th>\n",
       "      <td>4</td>\n",
       "    </tr>\n",
       "    <tr>\n",
       "      <th>4</th>\n",
       "      <td>5</td>\n",
       "    </tr>\n",
       "    <tr>\n",
       "      <th>5</th>\n",
       "      <td>5</td>\n",
       "    </tr>\n",
       "  </tbody>\n",
       "</table>\n",
       "</div>"
      ],
      "text/plain": [
       "   hello\n",
       "0      1\n",
       "1      2\n",
       "2      3\n",
       "3      4\n",
       "4      5\n",
       "5      5"
      ]
     },
     "execution_count": 3,
     "metadata": {},
     "output_type": "execute_result"
    }
   ],
   "source": [
    "df = pd.DataFrame({'hello':[1,2,3,4,5,5]})\n",
    "df"
   ]
  },
  {
   "cell_type": "code",
   "execution_count": 4,
   "metadata": {},
   "outputs": [],
   "source": [
    "#export\n",
    "def getDfHash(df:pd.DataFrame):\n",
    "  df.to_feather('/tmp/feather')\n",
    "  with open('/tmp/feather', 'rb') as f:\n",
    "    objHash = sha1(f.read()).hexdigest()\n",
    "  return objHash"
   ]
  },
  {
   "cell_type": "code",
   "execution_count": 5,
   "metadata": {},
   "outputs": [
    {
     "name": "stdout",
     "output_type": "stream",
     "text": [
      "CPU times: user 13.6 ms, sys: 7.6 ms, total: 21.2 ms\n",
      "Wall time: 20.3 ms\n"
     ]
    },
    {
     "data": {
      "text/plain": [
       "'068df0811eb710aa82148159e389157000f0b023'"
      ]
     },
     "execution_count": 5,
     "metadata": {},
     "output_type": "execute_result"
    }
   ],
   "source": [
    "%%time\n",
    "getDfHash(df)"
   ]
  },
  {
   "cell_type": "markdown",
   "metadata": {},
   "source": [
    "## Local cache and hash"
   ]
  },
  {
   "cell_type": "code",
   "execution_count": 6,
   "metadata": {},
   "outputs": [],
   "source": [
    "#export\n",
    "def saveLocalCache( data:pd.DataFrame, path = '/tmp/cache'):\n",
    "  saveLocalHash(data, path=path)\n",
    "  return data.to_feather(path)\n",
    "def saveLocalHash( data:pd.DataFrame, path = '/tmp/hash'):\n",
    "  dataHash = getDfHash(data)\n",
    "  saveStringToFile(dataHash,path)\n",
    "def loadLocalCache( path = '/tmp/cache'):\n",
    "  if not os.path.exists(path): raise Exception('cache doesnt exist')\n",
    "  return pd.read_feather(path)\n",
    "def loadLocalHash( path = '/tmp/hash'):\n",
    "  if not os.path.exists(path): raise Exception('hash doesnt exist')\n",
    "  return loadStringFromFile(path)"
   ]
  },
  {
   "cell_type": "code",
   "execution_count": 7,
   "metadata": {},
   "outputs": [
    {
     "name": "stdout",
     "output_type": "stream",
     "text": [
      "CPU times: user 3.16 ms, sys: 0 ns, total: 3.16 ms\n",
      "Wall time: 4.09 ms\n",
      "CPU times: user 1.88 ms, sys: 0 ns, total: 1.88 ms\n",
      "Wall time: 1.47 ms\n",
      "068df0811eb710aa82148159e389157000f0b023\n",
      "CPU times: user 701 µs, sys: 0 ns, total: 701 µs\n",
      "Wall time: 510 µs\n",
      "CPU times: user 0 ns, sys: 2.29 ms, total: 2.29 ms\n",
      "Wall time: 2.25 ms\n"
     ]
    },
    {
     "data": {
      "text/html": [
       "<div>\n",
       "<style scoped>\n",
       "    .dataframe tbody tr th:only-of-type {\n",
       "        vertical-align: middle;\n",
       "    }\n",
       "\n",
       "    .dataframe tbody tr th {\n",
       "        vertical-align: top;\n",
       "    }\n",
       "\n",
       "    .dataframe thead th {\n",
       "        text-align: right;\n",
       "    }\n",
       "</style>\n",
       "<table border=\"1\" class=\"dataframe\">\n",
       "  <thead>\n",
       "    <tr style=\"text-align: right;\">\n",
       "      <th></th>\n",
       "      <th>hello</th>\n",
       "    </tr>\n",
       "  </thead>\n",
       "  <tbody>\n",
       "    <tr>\n",
       "      <th>0</th>\n",
       "      <td>1</td>\n",
       "    </tr>\n",
       "    <tr>\n",
       "      <th>1</th>\n",
       "      <td>2</td>\n",
       "    </tr>\n",
       "    <tr>\n",
       "      <th>2</th>\n",
       "      <td>3</td>\n",
       "    </tr>\n",
       "    <tr>\n",
       "      <th>3</th>\n",
       "      <td>4</td>\n",
       "    </tr>\n",
       "    <tr>\n",
       "      <th>4</th>\n",
       "      <td>5</td>\n",
       "    </tr>\n",
       "    <tr>\n",
       "      <th>5</th>\n",
       "      <td>5</td>\n",
       "    </tr>\n",
       "  </tbody>\n",
       "</table>\n",
       "</div>"
      ],
      "text/plain": [
       "   hello\n",
       "0      1\n",
       "1      2\n",
       "2      3\n",
       "3      4\n",
       "4      5\n",
       "5      5"
      ]
     },
     "execution_count": 7,
     "metadata": {},
     "output_type": "execute_result"
    }
   ],
   "source": [
    "%time saveLocalCache(df)\n",
    "%time saveLocalHash(df)\n",
    "%time print(loadLocalHash())\n",
    "%time loadLocalCache()"
   ]
  },
  {
   "cell_type": "markdown",
   "metadata": {},
   "source": [
    "## Remote cache and hash"
   ]
  },
  {
   "cell_type": "code",
   "execution_count": 16,
   "metadata": {},
   "outputs": [],
   "source": [
    "#export\n",
    "def saveRemoteHash(data:pd.DataFrame, key='', bucket='', **kwargs):\n",
    "  hashKey = f'{key}-hash'\n",
    "  hashString = getDfHash(data)\n",
    "  dictToSave= {'hash': hashString }\n",
    "  print(f'hashKey is {hashKey}')\n",
    "  print('saving hash to s3')\n",
    "  S3.save(key=hashKey,objectToSave=dictToSave, bucket=bucket, **kwargs )\n",
    "  print(f'saved hash {hashString}')\n",
    "  \n",
    "\n",
    "def saveRemoteCache(data:pd.DataFrame, key = '', \n",
    "                    bucket = '', localCachePath='/tmp/cache', localHashPath='/tmp/hash', **kwargs):\n",
    "  \n",
    "  saveLocalCache(data=data, path = localCachePath)\n",
    "  saveLocalHash(data=data, path = localHashPath)\n",
    "  saveRemoteHash(data=data, key = key, bucket=bucket)\n",
    "  S3.saveFile(key=key, path=localCachePath, bucket=bucket, **kwargs)\n",
    "  \n",
    "def loadRemoteCache(key='', bucket='', **kwargs):\n",
    "  path = '/tmp/tmpPath'\n",
    "  S3.loadFile(key,path=path ,bucket=bucket, **kwargs)\n",
    "  df = pd.read_feather(path)\n",
    "  return df\n",
    "\n",
    "def loadRemoteHash(key='', bucket='', **kwargs):\n",
    "  hashKey = f'{key}-hash'\n",
    "  print(f'loading hashkey {hashKey}')\n",
    "  loadedHash= S3.load(hashKey,bucket=bucket, **kwargs).get('hash')\n",
    "  print(f'loaded hash is {loadedHash}')\n",
    "  return loadedHash"
   ]
  },
  {
   "cell_type": "code",
   "execution_count": 21,
   "metadata": {},
   "outputs": [
    {
     "name": "stdout",
     "output_type": "stream",
     "text": [
      "hashKey is testKey-hash\n",
      "saving hash to s3\n",
      "saved hash 068df0811eb710aa82148159e389157000f0b023\n",
      "CPU times: user 38.4 ms, sys: 7.72 ms, total: 46.2 ms\n",
      "Wall time: 164 ms\n",
      "loading hashkey testKey-hash\n",
      "loaded hash is 068df0811eb710aa82148159e389157000f0b023\n",
      "068df0811eb710aa82148159e389157000f0b023\n",
      "128 ms ± 4.58 ms per loop (mean ± std. dev. of 7 runs, 10 loops each)\n"
     ]
    }
   ],
   "source": [
    "#hide\n",
    "testKey = 'testKey'\n",
    "testBucket = 'villa-clipboard'\n",
    "%time saveRemoteCache(df, key = testKey, bucket = testBucket)\n",
    "print(loadRemoteHash(testKey, testBucket))\n",
    "%timeit loadRemoteCache(key = testKey, bucket = testBucket)"
   ]
  },
  {
   "cell_type": "markdown",
   "metadata": {},
   "source": [
    "## PynamoAttributes"
   ]
  },
  {
   "cell_type": "code",
   "execution_count": 2,
   "metadata": {},
   "outputs": [],
   "source": [
    "#export\n",
    "class PandasDataFrameAttribute(Attribute):\n",
    "  attr_type = BINARY\n",
    "  def serialize(self, value: pd.DataFrame)->bin:\n",
    "    bio = BytesIO()\n",
    "    value.to_feather(bio)\n",
    "    data:bin = bio.getvalue()\n",
    "    return data\n",
    "  def deserialize(self, value: bin)->pd.DataFrame:\n",
    "    bio = BytesIo(bin)\n",
    "    df: pd.DataFrame = pd.read_feather(bio)\n",
    "    return df"
   ]
  },
  {
   "cell_type": "code",
   "execution_count": 10,
   "metadata": {},
   "outputs": [
    {
     "data": {
      "text/html": [
       "<div>\n",
       "<style scoped>\n",
       "    .dataframe tbody tr th:only-of-type {\n",
       "        vertical-align: middle;\n",
       "    }\n",
       "\n",
       "    .dataframe tbody tr th {\n",
       "        vertical-align: top;\n",
       "    }\n",
       "\n",
       "    .dataframe thead th {\n",
       "        text-align: right;\n",
       "    }\n",
       "</style>\n",
       "<table border=\"1\" class=\"dataframe\">\n",
       "  <thead>\n",
       "    <tr style=\"text-align: right;\">\n",
       "      <th></th>\n",
       "      <th>cprcode</th>\n",
       "      <th>quantity</th>\n",
       "    </tr>\n",
       "  </thead>\n",
       "  <tbody>\n",
       "    <tr>\n",
       "      <th>0</th>\n",
       "      <td>1234</td>\n",
       "      <td>123</td>\n",
       "    </tr>\n",
       "    <tr>\n",
       "      <th>1</th>\n",
       "      <td>12345</td>\n",
       "      <td>345</td>\n",
       "    </tr>\n",
       "  </tbody>\n",
       "</table>\n",
       "</div>"
      ],
      "text/plain": [
       "  cprcode  quantity\n",
       "0    1234       123\n",
       "1   12345       345"
      ]
     },
     "execution_count": 10,
     "metadata": {},
     "output_type": "execute_result"
    }
   ],
   "source": [
    "class Database(Model):\n",
    "  class Meta:\n",
    "    table_name = ''\n",
    "    region = ''\n",
    "    billing_mode='PAY_PER_REQUEST'\n",
    "    \n",
    "  brcode = UnicodeAttribute(hash_key=True, default = '')\n",
    "  data = PandasDataFrameAttribute()\n",
    "  \n",
    "import sys\n",
    "df = pd.DataFrame({'cprcode':['1234', '12345'], 'quantity':[123, 345]})\n",
    "db = Database(brcode='1234', data = df)\n",
    "db.data"
   ]
  },
  {
   "cell_type": "code",
   "execution_count": null,
   "metadata": {},
   "outputs": [],
   "source": []
  }
 ],
 "metadata": {
  "kernelspec": {
   "display_name": "python38",
   "language": "python",
   "name": "python38"
  },
  "language_info": {
   "codemirror_mode": {
    "name": "ipython",
    "version": 3
   },
   "file_extension": ".py",
   "mimetype": "text/x-python",
   "name": "python",
   "nbconvert_exporter": "python",
   "pygments_lexer": "ipython3",
   "version": "3.8.6"
  }
 },
 "nbformat": 4,
 "nbformat_minor": 4
}
