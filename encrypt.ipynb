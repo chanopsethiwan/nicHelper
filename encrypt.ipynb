{
 "cells": [
  {
   "cell_type": "code",
   "execution_count": null,
   "metadata": {},
   "outputs": [],
   "source": [
    "#default_exp encrypt"
   ]
  },
  {
   "cell_type": "markdown",
   "metadata": {},
   "source": [
    "# encrypt\n",
    "> need pycryptodome\n",
    "Encrypt data with various methods eg AES"
   ]
  },
  {
   "cell_type": "code",
   "execution_count": 4,
   "metadata": {},
   "outputs": [],
   "source": [
    "#hide\n",
    "from nbdev.showdoc import *"
   ]
  },
  {
   "cell_type": "markdown",
   "metadata": {},
   "source": [
    "# AES"
   ]
  },
  {
   "cell_type": "code",
   "execution_count": 5,
   "metadata": {},
   "outputs": [],
   "source": [
    "#export\n",
    "from Crypto.Cipher import AES\n",
    "from beartype import beartype\n",
    "from typing import Tuple\n"
   ]
  },
  {
   "cell_type": "markdown",
   "metadata": {},
   "source": [
    "## Encrypt"
   ]
  },
  {
   "cell_type": "code",
   "execution_count": 6,
   "metadata": {},
   "outputs": [],
   "source": [
    "#export\n",
    "@beartype\n",
    "def encryptAes(key:bytes, data:bytes)-> Tuple[bytes,bytes]:\n",
    "  '''\n",
    "    note that key has to be 16 bits long\n",
    "    response:\n",
    "      cipherText in bytes\n",
    "  '''\n",
    "  cipher = AES.new(key, AES.MODE_EAX)\n",
    "  ciphertext, tag = cipher.encrypt_and_digest(data)\n",
    "  return ciphertext, cipher.nonce\n"
   ]
  },
  {
   "cell_type": "code",
   "execution_count": 10,
   "metadata": {},
   "outputs": [
    {
     "name": "stdout",
     "output_type": "stream",
     "text": [
      "b'z\\xac\\x0f0' b'\\x03?\\x00\\xd6\\x89\\x86\\xf2\\x1d<\\xc0 d\\xd6h.\\xc2'\n"
     ]
    }
   ],
   "source": [
    "key = b'testtesttesttest'\n",
    "data = b'test'\n",
    "ciphertext, nonce = encryptAes(key,data)\n",
    "print(ciphertext, nonce)"
   ]
  },
  {
   "cell_type": "markdown",
   "metadata": {},
   "source": [
    "## Decrypt"
   ]
  },
  {
   "cell_type": "code",
   "execution_count": 11,
   "metadata": {},
   "outputs": [],
   "source": [
    "#export\n",
    "@beartype\n",
    "def decryptAes(key:bytes, ciphertext:bytes, nonce:bytes)->bytes:\n",
    "  cipher = AES.new(key, AES.MODE_EAX, nonce=nonce)\n",
    "  plaintext = cipher.decrypt(ciphertext)\n",
    "  return plaintext"
   ]
  },
  {
   "cell_type": "code",
   "execution_count": 12,
   "metadata": {},
   "outputs": [
    {
     "data": {
      "text/plain": [
       "b'test'"
      ]
     },
     "execution_count": 12,
     "metadata": {},
     "output_type": "execute_result"
    }
   ],
   "source": [
    "decryptAes(key, ciphertext, nonce)"
   ]
  },
  {
   "cell_type": "code",
   "execution_count": null,
   "metadata": {},
   "outputs": [],
   "source": []
  }
 ],
 "metadata": {
  "kernelspec": {
   "display_name": "python38",
   "language": "python",
   "name": "python38"
  },
  "language_info": {
   "codemirror_mode": {
    "name": "ipython",
    "version": 3
   },
   "file_extension": ".py",
   "mimetype": "text/x-python",
   "name": "python",
   "nbconvert_exporter": "python",
   "pygments_lexer": "ipython3",
   "version": "3.8.6"
  }
 },
 "nbformat": 4,
 "nbformat_minor": 4
}
