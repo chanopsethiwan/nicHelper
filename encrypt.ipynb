{
 "cells": [
  {
   "cell_type": "code",
   "execution_count": null,
   "metadata": {},
   "outputs": [],
   "source": [
    "#default_exp encrypt"
   ]
  },
  {
   "cell_type": "markdown",
   "metadata": {},
   "source": [
    "# encrypt\n",
    "> need pycryptodome\n",
    "Encrypt data with various methods eg AES"
   ]
  },
  {
   "cell_type": "code",
   "execution_count": 52,
   "metadata": {},
   "outputs": [],
   "source": [
    "#hide\n",
    "from nbdev.showdoc import *"
   ]
  },
  {
   "cell_type": "code",
   "execution_count": 53,
   "metadata": {},
   "outputs": [],
   "source": [
    "#export\n",
    "from Crypto.Cipher import AES\n",
    "from beartype import beartype\n",
    "from typing import Tuple, Optional\n",
    "from hashlib import sha256"
   ]
  },
  {
   "cell_type": "markdown",
   "metadata": {},
   "source": [
    "# Hashing"
   ]
  },
  {
   "cell_type": "code",
   "execution_count": 54,
   "metadata": {},
   "outputs": [],
   "source": [
    "#export\n",
    "def hashSha256(data:bytes, salt:Optional[bytes] = b'')->bytes:\n",
    "  m=sha256()\n",
    "  m.update(data)\n",
    "  m.update(salt)\n",
    "  return m.digest()"
   ]
  },
  {
   "cell_type": "code",
   "execution_count": 55,
   "metadata": {},
   "outputs": [
    {
     "name": "stdout",
     "output_type": "stream",
     "text": [
      "CPU times: user 8 µs, sys: 2 µs, total: 10 µs\n",
      "Wall time: 14.5 µs\n"
     ]
    },
    {
     "data": {
      "text/plain": [
       "b'\\x9f\\x86\\xd0\\x81\\x88L}e\\x9a/\\xea\\xa0\\xc5Z\\xd0\\x15\\xa3\\xbfO\\x1b+\\x0b\\x82,\\xd1]l\\x15\\xb0\\xf0\\n\\x08'"
      ]
     },
     "execution_count": 55,
     "metadata": {},
     "output_type": "execute_result"
    }
   ],
   "source": [
    "%%time\n",
    "hashSha256(b'test')"
   ]
  },
  {
   "cell_type": "markdown",
   "metadata": {},
   "source": [
    "# AES"
   ]
  },
  {
   "cell_type": "markdown",
   "metadata": {},
   "source": [
    "## Encrypt"
   ]
  },
  {
   "cell_type": "code",
   "execution_count": 56,
   "metadata": {},
   "outputs": [],
   "source": [
    "#export\n",
    "@beartype\n",
    "def encryptAes(key:bytes, data:bytes)-> Tuple[bytes,bytes]:\n",
    "  '''\n",
    "    note that key has to be 16 bits long\n",
    "    response:\n",
    "      cipherText in bytes\n",
    "  '''\n",
    "  cipher = AES.new(key, AES.MODE_EAX)\n",
    "  ciphertext, tag = cipher.encrypt_and_digest(data)\n",
    "  return ciphertext, cipher.nonce\n"
   ]
  },
  {
   "cell_type": "code",
   "execution_count": 57,
   "metadata": {},
   "outputs": [
    {
     "name": "stdout",
     "output_type": "stream",
     "text": [
      "b'\\xd9\\x96\\xce\\xfd' b'wX7\\xf7ZT\\xcee\\xab==\\x99\\x16\\xf79\\x9f'\n"
     ]
    }
   ],
   "source": [
    "key = b'testtesttesttest'\n",
    "data = b'test'\n",
    "password = b'testpw'\n",
    "ciphertext, nonce = encryptAes(key,data)\n",
    "print(ciphertext, nonce)"
   ]
  },
  {
   "cell_type": "markdown",
   "metadata": {},
   "source": [
    "### Encrypt with password"
   ]
  },
  {
   "cell_type": "code",
   "execution_count": 58,
   "metadata": {},
   "outputs": [],
   "source": [
    "#export\n",
    "@beartype\n",
    "def encryptPasswordAes(password:bytes, data:bytes) ->Tuple[bytes,bytes]:\n",
    "  key = hashSha256(password)[:16]\n",
    "  return encryptAes(key=key,data=data)"
   ]
  },
  {
   "cell_type": "code",
   "execution_count": 59,
   "metadata": {},
   "outputs": [
    {
     "name": "stdout",
     "output_type": "stream",
     "text": [
      "b\"I'\\x16'\\xa3\\x86\\x95`\\xf7k\\x9f\\xab\\x92?z\\xb1z=\\x97\\xa85\\\\U\\x98\\xd3@0\\xbdr\" b'jDg\\xdbBm\\x98\\xd11[\\xd16h`\\xb4\\xc2'\n"
     ]
    }
   ],
   "source": [
    "pwData, pwNonce = encryptPasswordAes(password, data = b'this is a very important data')\n",
    "print(pwData, pwNonce)"
   ]
  },
  {
   "cell_type": "markdown",
   "metadata": {},
   "source": [
    "## Decrypt"
   ]
  },
  {
   "cell_type": "code",
   "execution_count": 60,
   "metadata": {},
   "outputs": [],
   "source": [
    "#export\n",
    "@beartype\n",
    "def decryptAes(key:bytes, ciphertext:bytes, nonce:bytes)->bytes:\n",
    "  cipher = AES.new(key, AES.MODE_EAX, nonce=nonce)\n",
    "  plaintext = cipher.decrypt(ciphertext)\n",
    "  return plaintext"
   ]
  },
  {
   "cell_type": "code",
   "execution_count": 61,
   "metadata": {},
   "outputs": [
    {
     "data": {
      "text/plain": [
       "b'test'"
      ]
     },
     "execution_count": 61,
     "metadata": {},
     "output_type": "execute_result"
    }
   ],
   "source": [
    "decryptAes(key, ciphertext, nonce)"
   ]
  },
  {
   "cell_type": "markdown",
   "metadata": {},
   "source": [
    "### Decrypt password"
   ]
  },
  {
   "cell_type": "code",
   "execution_count": 62,
   "metadata": {},
   "outputs": [],
   "source": [
    "@beartype\n",
    "def decryptPasswordAes(ciphertext:bytes, password:bytes, nonce:bytes)->bytes:\n",
    "  key = hashSha256(password)[:16]\n",
    "  return decryptAes(key, ciphertext, nonce)\n",
    "  "
   ]
  },
  {
   "cell_type": "code",
   "execution_count": 63,
   "metadata": {},
   "outputs": [
    {
     "data": {
      "text/plain": [
       "b'this is a very important data'"
      ]
     },
     "execution_count": 63,
     "metadata": {},
     "output_type": "execute_result"
    }
   ],
   "source": [
    "decryptPasswordAes(pwData, password, pwNonce)"
   ]
  },
  {
   "cell_type": "code",
   "execution_count": null,
   "metadata": {},
   "outputs": [],
   "source": []
  }
 ],
 "metadata": {
  "kernelspec": {
   "display_name": "python38",
   "language": "python",
   "name": "python38"
  },
  "language_info": {
   "codemirror_mode": {
    "name": "ipython",
    "version": 3
   },
   "file_extension": ".py",
   "mimetype": "text/x-python",
   "name": "python",
   "nbconvert_exporter": "python",
   "pygments_lexer": "ipython3",
   "version": "3.8.6"
  }
 },
 "nbformat": 4,
 "nbformat_minor": 4
}
