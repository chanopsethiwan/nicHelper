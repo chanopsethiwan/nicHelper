{
 "cells": [
  {
   "cell_type": "code",
   "execution_count": null,
   "metadata": {},
   "outputs": [],
   "source": [
    "#default_exp github"
   ]
  },
  {
   "cell_type": "markdown",
   "metadata": {},
   "source": [
    "# github\n",
    "apis of github"
   ]
  },
  {
   "cell_type": "code",
   "execution_count": null,
   "metadata": {},
   "outputs": [],
   "source": [
    "#export\n",
    "import requests\n",
    "from requests import get, Response\n",
    "from beartype import beartype"
   ]
  },
  {
   "cell_type": "code",
   "execution_count": null,
   "metadata": {},
   "outputs": [],
   "source": [
    "#export\n",
    "@beartype\n",
    "def githubGet(url:str, token:str)->Response:\n",
    "  ''' \n",
    "    get request to github using token\n",
    "    parameters:\n",
    "      url:str: github raw file url\n",
    "      token:str: your personal access token\n",
    "    response:\n",
    "      response: requests.Response: response object\n",
    "  '''\n",
    "  r = requests.get(url, headers = {\"Authorization\": f\"token {token}\"})\n",
    "  return r"
   ]
  },
  {
   "cell_type": "code",
   "execution_count": null,
   "metadata": {},
   "outputs": [],
   "source": [
    "#hide\n",
    "from pathlib import Path\n",
    "with open (f'{Path.home()}/.githubtoken.test') as f:\n",
    "  token = f.read()"
   ]
  },
  {
   "cell_type": "code",
   "execution_count": null,
   "metadata": {},
   "outputs": [
    {
     "data": {
      "text/plain": [
       "'# details about parameter in python https://boto3.amazonaws.com/v1/documentation/api/latest/reference/services/cloudsearchdomain.html#CloudSearchDomain.Client.search\\n# searching guide https://docs.aws.amazon.com/cloudsearch/latest/developerguide/searching.html\\nsearchParams:\\n  expr: \"\"\\n  facet: \"\"\\n  filterQuery: \"\"\\n  highlight: \"\"\\n  queryOptions: \"\"\\n  queryParser: \"\"\\n  returnFields: \"\"\\n  size: 100\\n  sort: \"\"\\n'"
      ]
     },
     "execution_count": null,
     "metadata": {},
     "output_type": "execute_result"
    }
   ],
   "source": [
    "url = 'https://raw.githubusercontent.com/thanakijwanavit/villaConfig/main/cloudsearch.yaml'\n",
    "githubGet(url, token).text"
   ]
  },
  {
   "cell_type": "code",
   "execution_count": null,
   "metadata": {},
   "outputs": [],
   "source": [
    "#export\n",
    "@beartype\n",
    "def githubGetYaml(url:str, token:str)->dict:\n",
    "  ''' \n",
    "    get yaml dictionary from github using token\n",
    "    parameters:\n",
    "      url:str: github raw file url\n",
    "      token:str: your personal access token\n",
    "    response:\n",
    "      response: dict: yaml dictionary\n",
    "  '''\n",
    "  import yaml\n",
    "  r = githubGet(url, token)\n",
    "  return yaml.load(r.text,Loader=yaml.FullLoader)\n",
    "  "
   ]
  },
  {
   "cell_type": "code",
   "execution_count": null,
   "metadata": {},
   "outputs": [
    {
     "data": {
      "text/plain": [
       "{'searchParams': {'expr': '',\n",
       "  'facet': '',\n",
       "  'filterQuery': '',\n",
       "  'highlight': '',\n",
       "  'queryOptions': '',\n",
       "  'queryParser': '',\n",
       "  'returnFields': '',\n",
       "  'size': 100,\n",
       "  'sort': ''}}"
      ]
     },
     "execution_count": null,
     "metadata": {},
     "output_type": "execute_result"
    }
   ],
   "source": [
    "url = 'https://raw.githubusercontent.com/thanakijwanavit/villaConfig/main/cloudsearch.yaml'\n",
    "githubGetYaml(url, token)"
   ]
  },
  {
   "cell_type": "code",
   "execution_count": null,
   "metadata": {},
   "outputs": [],
   "source": []
  }
 ],
 "metadata": {
  "kernelspec": {
   "display_name": "python38",
   "language": "python",
   "name": "python38"
  }
 },
 "nbformat": 4,
 "nbformat_minor": 4
}
