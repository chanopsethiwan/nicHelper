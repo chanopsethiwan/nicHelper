{
 "cells": [
  {
   "cell_type": "code",
   "execution_count": null,
   "metadata": {},
   "outputs": [],
   "source": [
    "# default_exp yamlUtil"
   ]
  },
  {
   "cell_type": "markdown",
   "metadata": {},
   "source": [
    "# yamlUtil\n",
    "> helpers for yaml"
   ]
  },
  {
   "cell_type": "code",
   "execution_count": null,
   "metadata": {},
   "outputs": [],
   "source": [
    "#hide\n",
    "from nbdev.showdoc import *\n"
   ]
  },
  {
   "cell_type": "code",
   "execution_count": null,
   "metadata": {},
   "outputs": [],
   "source": [
    "#export\n",
    "from beartype import beartype\n",
    "import yaml, requests"
   ]
  },
  {
   "cell_type": "markdown",
   "metadata": {},
   "source": [
    "# loadYamlUrl"
   ]
  },
  {
   "cell_type": "code",
   "execution_count": null,
   "metadata": {},
   "outputs": [],
   "source": [
    "#export\n",
    "def loadYamlUrl(url:str, headers:dict = {}, loader=yaml.FullLoader)->dict:\n",
    "  '''\n",
    "    load yaml from url as a dictionary for example:\n",
    "      testUrl = 'https://raw.githubusercontent.com/thanakijwanavit/villaMasterSchema/dev/coupon/testData/buyXGetY.yaml'\n",
    "      loadYamlUrl(testUrl) \n",
    "    input:\n",
    "      url:str: url of the file\n",
    "      headers:Optional[dict]:headers\n",
    "      loader:yaml.Loader: optional yaml loader default is yaml.FullLoader\n",
    "    response:\n",
    "      dict: yaml load of the file\n",
    "  '''\n",
    "  r = requests.get(url, headers=headers).content\n",
    "  return yaml.load(r, Loader = loader)\n",
    "  "
   ]
  },
  {
   "cell_type": "code",
   "execution_count": null,
   "metadata": {},
   "outputs": [
    {
     "data": {
      "text/plain": [
       "{'couponId': 19,\n",
       " 'couponName': 'Buy 3 Get 1 Free',\n",
       " 'couponDescription': 'buy 3 items Get 1 free',\n",
       " 'active': False,\n",
       " 'couponCodeType': 'no_code',\n",
       " 'startDate': 1617753600,\n",
       " 'endDate': 1649289600,\n",
       " 'actions': {'discountType': 'buy_x_get_y',\n",
       "  'discountAmount': 1,\n",
       "  'discountQtyStep': 3,\n",
       "  'freeShipping': False,\n",
       "  'conditions': {'conditionType': 'Product/Combine',\n",
       "   'attribute': None,\n",
       "   'operator': None,\n",
       "   'value': True,\n",
       "   'is_value_processed': None,\n",
       "   'aggregator': 'all',\n",
       "   'conditions': [{'type': 'Product',\n",
       "     'attribute': 'promotion_matching',\n",
       "     'operator': '==',\n",
       "     'value': 'Buy3Get1',\n",
       "     'is_value_processed': False}]}},\n",
       " 'customers': [123, 1234],\n",
       " 'branches': ['1000', '1001']}"
      ]
     },
     "execution_count": null,
     "metadata": {},
     "output_type": "execute_result"
    }
   ],
   "source": [
    "testUrl = 'https://raw.githubusercontent.com/thanakijwanavit/villaMasterSchema/dev/coupon/testData/buyXGetY.yaml'\n",
    "loadYamlUrl(testUrl)"
   ]
  },
  {
   "cell_type": "code",
   "execution_count": null,
   "metadata": {},
   "outputs": [],
   "source": []
  }
 ],
 "metadata": {
  "kernelspec": {
   "display_name": "python38",
   "language": "python",
   "name": "python38"
  }
 },
 "nbformat": 4,
 "nbformat_minor": 4
}
