{
  "nbformat": 4,
  "nbformat_minor": 0,
  "metadata": {
    "colab": {
      "name": "saveAndLoadAwsPw",
      "private_outputs": true,
      "provenance": [],
      "collapsed_sections": [],
      "mount_file_id": "1wMNRyU3TCnt1p65JwPpOiSC9lMiEdnN7",
      "authorship_tag": "ABX9TyPFRxaeK6pEno/g1H+Jb0MS",
      "include_colab_link": true
    },
    "kernelspec": {
      "name": "python3",
      "display_name": "Python 3"
    },
    "language_info": {
      "name": "python"
    }
  },
  "cells": [
    {
      "cell_type": "markdown",
      "metadata": {
        "id": "view-in-github",
        "colab_type": "text"
      },
      "source": [
        "<a href=\"https://colab.research.google.com/github/thanakijwanavit/nicHelper/blob/master/saveAndLoadAwsPwDemo.ipynb\" target=\"_parent\"><img src=\"https://colab.research.google.com/assets/colab-badge.svg\" alt=\"Open In Colab\"/></a>"
      ]
    },
    {
      "cell_type": "markdown",
      "metadata": {
        "id": "pyKiSoKYzzY5"
      },
      "source": [
        "# Save and load aws credentials"
      ]
    },
    {
      "cell_type": "markdown",
      "metadata": {
        "id": "AJQZOaio0DLX"
      },
      "source": [
        "## install required libraries"
      ]
    },
    {
      "cell_type": "code",
      "metadata": {
        "id": "psiknpf7JpF_"
      },
      "source": [
        "!pip install -q --upgrade aws-sam-cli nicHelper==0.0.74 pycryptodome beartype\n",
        "!apt install -qq awscli"
      ],
      "execution_count": null,
      "outputs": []
    },
    {
      "cell_type": "markdown",
      "metadata": {
        "id": "2eXjLNfdXE5F"
      },
      "source": [
        "#Save Key\n",
        "Only run this once, remember your password\n",
        "can comment it out after the first run"
      ]
    },
    {
      "cell_type": "code",
      "metadata": {
        "id": "FKb7ZzEG0Npu"
      },
      "source": [
        "from nicHelper.colab import saveAwsPw\n",
        "from getpass import getpass\n",
        "\n",
        "awskey = getpass('enter your aws key').encode()\n",
        "awssecret = getpass('enter your aws Secret').encode()\n",
        "password = getpass('set your password').encode()\n",
        "path = '/content/drive/MyDrive/.test'\n",
        "saveAwsPw(awskey=awskey, awssecret=awssecret, path=path, password=password)"
      ],
      "execution_count": null,
      "outputs": []
    },
    {
      "cell_type": "markdown",
      "metadata": {
        "id": "l5ENDuVH8GRL"
      },
      "source": [
        "# Set up aws with the saved key\n",
        "must use the password you set earlier"
      ]
    },
    {
      "cell_type": "code",
      "metadata": {
        "id": "QCVNlDO7XCOX"
      },
      "source": [
        "from nicHelper.colab import autoSetupAws\n",
        "path = '/content/drive/MyDrive/.test'\n",
        "\n",
        "autoSetupAws(path=path,\n",
        "             password = getpass('enter your password').encode(),\n",
        "             region='ap-southeast-1' )\n",
        "## dont worry this is not printing the full key/password\n",
        "### note this this function will only work in colab"
      ],
      "execution_count": null,
      "outputs": []
    },
    {
      "cell_type": "code",
      "metadata": {
        "id": "E8cenClr9X5j"
      },
      "source": [
        ""
      ],
      "execution_count": null,
      "outputs": []
    },
    {
      "cell_type": "markdown",
      "metadata": {
        "id": "Yyv5CaiD9ZEN"
      },
      "source": [
        "## for non-colab folks\n",
        "or for more customizability"
      ]
    },
    {
      "cell_type": "code",
      "metadata": {
        "id": "M6-bCpGI87xC"
      },
      "source": [
        "from nicHelper.colab import loadAwsPw, setUpAws\n",
        "from os import system\n",
        "password = getpass('enter our password').encode()\n",
        "path = '/content/drive/MyDrive/.test'\n",
        "region = 'ap-southeast-1'\n",
        "\n",
        "key,secret = loadAwsPw(path = path, password = password)\n",
        "setupStrings = setUpAws(awsKey=key.decode(), awsSecret=secret.decode(), region = region)\n",
        "print(setupStrings) ### remember to comment this out\n",
        "for setupString in setupStrings:\n",
        "  system(setupString)"
      ],
      "execution_count": null,
      "outputs": []
    },
    {
      "cell_type": "code",
      "metadata": {
        "id": "i5AdUI60-bsG"
      },
      "source": [
        ""
      ],
      "execution_count": null,
      "outputs": []
    }
  ]
}