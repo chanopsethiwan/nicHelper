{
 "cells": [
  {
   "cell_type": "code",
   "execution_count": null,
   "metadata": {},
   "outputs": [],
   "source": [
    "# default_exp schema"
   ]
  },
  {
   "cell_type": "markdown",
   "metadata": {},
   "source": [
    "# schema\n",
    "> checking dictionaries based on json schema"
   ]
  },
  {
   "cell_type": "code",
   "execution_count": null,
   "metadata": {},
   "outputs": [],
   "source": [
    "#export\n",
    "import jsonschema, requests, yaml\n",
    "from types import SimpleNamespace"
   ]
  },
  {
   "cell_type": "markdown",
   "metadata": {},
   "source": [
    "# Get schema from path"
   ]
  },
  {
   "cell_type": "code",
   "execution_count": null,
   "metadata": {},
   "outputs": [],
   "source": [
    "import dpath.util\n",
    "def getSchemaPath(schemaUrl:str, path:str='/', isYaml = True):\n",
    "  '''\n",
    "  get a nested schema from path\n",
    "  schemaUrl: str: url of the schema\n",
    "  path: str: path of the schema, if root then path='/'\n",
    "  isYaml: Bool: is the schema yaml (false indicates that the schema is json)\n",
    "  '''\n",
    "  if isYaml:\n",
    "    schema = yaml.load(requests.get(schemaUrl).text, Loader= yaml.Loader)\n",
    "  else:\n",
    "    schema = requests.get(schemaUrl).json()\n",
    "  return dpath.util.get(schema, path)"
   ]
  },
  {
   "cell_type": "code",
   "execution_count": null,
   "metadata": {},
   "outputs": [
    {
     "data": {
      "text/plain": [
       "{'type': 'object',\n",
       " 'required': ['id',\n",
       "  'type',\n",
       "  'street_address',\n",
       "  'city',\n",
       "  'state',\n",
       "  'zip',\n",
       "  'capacity',\n",
       "  'status'],\n",
       " 'properties': {'id': {'type': 'string', 'format': 'uuid'},\n",
       "  'type': {'type': 'string', 'enum': ['pick up', 'drop off', 'overnight']},\n",
       "  'street_address': {'type': 'string'},\n",
       "  'city': {'type': 'string'},\n",
       "  'state': {'type': 'string',\n",
       "   'pattern': '^(?:(A[KLRZ]|C[AOT]|D[CE]|FL|GA|HI|I[ADLN]|K[SY]|LA|M[ADEINOST]|N[CDEHJMVY]|O[HKR]|PA|RI|S[CD]|T[NX]|UT|V[AT]|W[AIVY]))$'},\n",
       "  'zip': {'type': 'string', 'pattern': '(^\\\\d{5}$)|(^\\\\d{5}-\\\\d{4}$)'},\n",
       "  'status': {'type': 'string', 'enum': ['open', 'in use']},\n",
       "  'created': {'type': 'string', 'format': 'date-time'},\n",
       "  'modified': {'type': 'string', 'format': 'date-time'}}}"
      ]
     },
     "execution_count": null,
     "metadata": {},
     "output_type": "execute_result"
    }
   ],
   "source": [
    "testSchema = 'https://gist.githubusercontent.com/thanakijwanavit/e2720d091ae0cef710a49b57c0c9cd4c/raw/ed2d322eac4900ee0f95b431d0f9067a40f3e0f0/squirrelOpenApiV0.0.3.yaml'\n",
    "path = 'components/schemas/Location'\n",
    "getSchemaPath(testSchema, path)"
   ]
  },
  {
   "cell_type": "markdown",
   "metadata": {},
   "source": [
    "# Validate Url"
   ]
  },
  {
   "cell_type": "code",
   "execution_count": null,
   "metadata": {},
   "outputs": [],
   "source": [
    "#export\n",
    "def validateUrl(url,input_, format_ = 'json', headers = {'Cache-Control': 'no-cache'}, path = '/'):\n",
    "  if format_ == 'yaml':\n",
    "    schema = getSchemaPath(url, path = path, isYaml = True)\n",
    "  elif format_ == 'json':\n",
    "    schema = getSchemaPath(url, path = path, isYaml = False)\n",
    "  else:\n",
    "    print('invalid schema format, using json')\n",
    "    schema = requests.get(url).json()\n",
    "  res = jsonschema.validate(input_,schema)\n",
    "  return SimpleNamespace(**input_)"
   ]
  },
  {
   "cell_type": "markdown",
   "metadata": {},
   "source": [
    "### test json"
   ]
  },
  {
   "cell_type": "code",
   "execution_count": null,
   "metadata": {},
   "outputs": [
    {
     "data": {
      "text/plain": [
       "namespace(iprcode=4, cprcode=123, oprCode='123')"
      ]
     },
     "execution_count": null,
     "metadata": {},
     "output_type": "execute_result"
    }
   ],
   "source": [
    "url = 'https://raw.githubusercontent.com/thanakijwanavit/villaMasterSchema/master/Product.json'\n",
    "input_ = {'iprcode': 4, 'cprcode': 123 , 'oprCode': '123'}\n",
    "validateUrl(url, input_)"
   ]
  },
  {
   "cell_type": "markdown",
   "metadata": {},
   "source": [
    "#### error json"
   ]
  },
  {
   "cell_type": "code",
   "execution_count": null,
   "metadata": {},
   "outputs": [
    {
     "name": "stdout",
     "output_type": "stream",
     "text": [
      "[{'cprcode': '0171670', 'iprcode': '0171670', 'oprcode': '0171670', 'ordertype': 'Y', 'pr_abb': 'JIRAPAT YOUNG KALE 2', 'pr_active': 'Y', 'pr_cgcode': '05', 'pr_code': '0171670', 'pr_dpcode': '19', 'pr_engname': 'JIRAAT YOUNG KALE 200 G.', 'pr_ggcode': '057', 'pr_market': 'JIRAPAT ยอดคะน้า 200 G.', 'pr_name': 'JIRAPAT ยอดคะน้า 200 G.', 'pr_puqty': '1', 'pr_sa_method': '1', 'pr_sucode1': 'CM845', 'pr_suref3': 'A', 'prtype': 'I', 'psqty': '1', 'pstype': '1'}] is not of type 'object'\n",
      "\n",
      "Failed validating 'type' in schema:\n",
      "    {'$schema': 'http://json-schema.org/draft-06/schema#',\n",
      "     'definitions': {'Product': {'description': 'Product(iprcode: int, '\n",
      "                                                'cprcode: int)',\n",
      "                                 'properties': {'cprcode': {'type': 'integer'},\n",
      "                                                'iprcode': {'type': 'integer'}},\n",
      "                                 'required': ['iprcode', 'cprcode'],\n",
      "                                 'type': 'object'}},\n",
      "     'description': 'ValueUpdate(items: List[__main__.Product])',\n",
      "     'properties': {'items': {'items': {'$ref': '#/definitions/Product'},\n",
      "                              'type': 'array'}},\n",
      "     'required': ['items'],\n",
      "     'type': 'object'}\n",
      "\n",
      "On instance:\n",
      "    [{'cprcode': '0171670',\n",
      "      'iprcode': '0171670',\n",
      "      'oprcode': '0171670',\n",
      "      'ordertype': 'Y',\n",
      "      'pr_abb': 'JIRAPAT YOUNG KALE 2',\n",
      "      'pr_active': 'Y',\n",
      "      'pr_cgcode': '05',\n",
      "      'pr_code': '0171670',\n",
      "      'pr_dpcode': '19',\n",
      "      'pr_engname': 'JIRAAT YOUNG KALE 200 G.',\n",
      "      'pr_ggcode': '057',\n",
      "      'pr_market': 'JIRAPAT ยอดคะน้า 200 G.',\n",
      "      'pr_name': 'JIRAPAT ยอดคะน้า 200 G.',\n",
      "      'pr_puqty': '1',\n",
      "      'pr_sa_method': '1',\n",
      "      'pr_sucode1': 'CM845',\n",
      "      'pr_suref3': 'A',\n",
      "      'prtype': 'I',\n",
      "      'psqty': '1',\n",
      "      'pstype': '1'}]\n"
     ]
    }
   ],
   "source": [
    "errorProduct = [{ 'cprcode': '0171670', 'iprcode': '0171670', 'oprcode': '0171670', 'ordertype': 'Y', 'pr_abb': 'JIRAPAT YOUNG KALE 2', 'pr_active': 'Y', 'pr_cgcode': '05', 'pr_code': '0171670', 'pr_dpcode': '19', 'pr_engname': 'JIRAAT YOUNG KALE 200 G.', 'pr_ggcode': '057', 'pr_market': 'JIRAPAT ยอดคะน้า 200 G.', 'pr_name': 'JIRAPAT ยอดคะน้า 200 G.', 'pr_puqty': '1', 'pr_sa_method': '1', 'pr_sucode1': 'CM845', 'pr_suref3': 'A', 'prtype': 'I', 'psqty': '1', 'pstype': '1'}] #ProductDatabase.valueUpdate({'items':sampleProducts})\n",
    "url = 'https://raw.githubusercontent.com/thanakijwanavit/villaMasterSchema/master/valueUpdate.json'\n",
    "try:\n",
    "  validateUrl(url, errorProduct)\n",
    "except Exception as e:\n",
    "  print(f'{e}')"
   ]
  },
  {
   "cell_type": "markdown",
   "metadata": {},
   "source": [
    "### test yaml"
   ]
  },
  {
   "cell_type": "code",
   "execution_count": null,
   "metadata": {},
   "outputs": [
    {
     "name": "stdout",
     "output_type": "stream",
     "text": [
      "namespace(cprcode=123, iprcode=4, oprCode='123')\n",
      "[{'cprcode': '0171670', 'iprcode': '0171670', 'oprcode': '0171670', 'ordertype': 'Y', 'pr_abb': 'JIRAPAT YOUNG KALE 2', 'pr_active': 'Y', 'pr_cgcode': '05', 'pr_code': '0171670', 'pr_dpcode': '19', 'pr_engname': 'JIRAAT YOUNG KALE 200 G.', 'pr_ggcode': '057', 'pr_market': 'JIRAPAT ยอดคะน้า 200 G.', 'pr_name': 'JIRAPAT ยอดคะน้า 200 G.', 'pr_puqty': '1', 'pr_sa_method': '1', 'pr_sucode1': 'CM845', 'pr_suref3': 'A', 'prtype': 'I', 'psqty': '1', 'pstype': '1'}] is not of type 'object'\n",
      "\n",
      "Failed validating 'type' in schema:\n",
      "    {'$schema': 'http://json-schema.org/schema#',\n",
      "     'properties': {'cprcode': {'type': 'integer'},\n",
      "                    'iprcode': {'type': 'integer'},\n",
      "                    'oprCode': {'type': 'string'}},\n",
      "     'required': ['cprcode', 'iprcode', 'oprCode'],\n",
      "     'type': 'object'}\n",
      "\n",
      "On instance:\n",
      "    [{'cprcode': '0171670',\n",
      "      'iprcode': '0171670',\n",
      "      'oprcode': '0171670',\n",
      "      'ordertype': 'Y',\n",
      "      'pr_abb': 'JIRAPAT YOUNG KALE 2',\n",
      "      'pr_active': 'Y',\n",
      "      'pr_cgcode': '05',\n",
      "      'pr_code': '0171670',\n",
      "      'pr_dpcode': '19',\n",
      "      'pr_engname': 'JIRAAT YOUNG KALE 200 G.',\n",
      "      'pr_ggcode': '057',\n",
      "      'pr_market': 'JIRAPAT ยอดคะน้า 200 G.',\n",
      "      'pr_name': 'JIRAPAT ยอดคะน้า 200 G.',\n",
      "      'pr_puqty': '1',\n",
      "      'pr_sa_method': '1',\n",
      "      'pr_sucode1': 'CM845',\n",
      "      'pr_suref3': 'A',\n",
      "      'prtype': 'I',\n",
      "      'psqty': '1',\n",
      "      'pstype': '1'}]\n"
     ]
    }
   ],
   "source": [
    "##success\n",
    "url = 'https://gist.githubusercontent.com/thanakijwanavit/241c4cc443f39ea096820f5dfb84017d/raw/61694a0c5fbac3f6408fbb11217cc4265d38e38d/sampleYaml.yaml'\n",
    "input_ = {'iprcode': 4, 'cprcode': 123 , 'oprCode': '123'}\n",
    "print(validateUrl(url, input_, format_='yaml'))\n",
    "## failure\n",
    "try:\n",
    "  print(validateUrl(url, errorProduct, format_='yaml'))\n",
    "except Exception as e:\n",
    "  print(f'{e}')"
   ]
  },
  {
   "cell_type": "markdown",
   "metadata": {},
   "source": [
    "## convert type to comply with json schema"
   ]
  },
  {
   "cell_type": "code",
   "execution_count": null,
   "metadata": {},
   "outputs": [],
   "source": [
    "#export\n",
    "typeMap = {'string': str, 'number': float, 'integer': int, 'object': dict, 'array': list, 'boolean': bool, 'null': None}\n",
    "def getTypes(schemaUrl:str, typeMap:dict=typeMap)->dict:\n",
    "  '''get python types from json schema'''\n",
    "  r = requests.get(schemaUrl)\n",
    "  s = yaml.load(r.text, Loader=yaml.FullLoader)\n",
    "  properties = s['properties']\n",
    "  dtypes = {k: typeMap.get(v['type']) for k,v in properties.items()}\n",
    "  return dtypes\n",
    "def typeMapJsonSchema(url:str, input_:dict = {}, typeMap:dict = typeMap, defaultType=str):\n",
    "  '''\n",
    "  try to map the datatype into the one specified in url of json schema. \n",
    "  if type is not found, the defaultType is used\n",
    "  '''\n",
    "  typesDict = getTypes(url, typeMap=typeMap) # get dtype from schema url\n",
    "  print(f'typesDict is: {typesDict}')\n",
    "  convertedInput = {k: (typesDict.get(k) or defaultType)(v) for k,v in input_.items()}\n",
    "  return convertedInput\n",
    "\n"
   ]
  },
  {
   "cell_type": "code",
   "execution_count": null,
   "metadata": {},
   "outputs": [
    {
     "name": "stdout",
     "output_type": "stream",
     "text": [
      "typesDict is: {'iprcode': <class 'int'>, 'brcode': <class 'int'>, 'ib_cf_qty': <class 'int'>, 'new_ib_vs_stock_cv': <class 'int'>, 'onlineflag': <class 'bool'>}\n"
     ]
    },
    {
     "data": {
      "text/plain": [
       "{'iprcode': 9,\n",
       " 'brcode': 1000,\n",
       " 'ib_cf_qty': 50,\n",
       " 'new_ib_vs_stock_cv': 27,\n",
       " 'onlineflag': True}"
      ]
     },
     "execution_count": null,
     "metadata": {},
     "output_type": "execute_result"
    }
   ],
   "source": [
    "url = 'https://raw.githubusercontent.com/thanakijwanavit/villaMasterSchema/dev-manual/inventory/inventory.yaml'\n",
    "\n",
    "\n",
    "inv = {\n",
    "                  'iprcode': '0000009',\n",
    "                  'brcode': '1000',\n",
    "                  'ib_cf_qty': '50',\n",
    "                  'new_ib_vs_stock_cv': '27',\n",
    "                  'onlineflag': True\n",
    "                }\n",
    "typeMapJsonSchema(url, input_=inv)"
   ]
  },
  {
   "cell_type": "code",
   "execution_count": null,
   "metadata": {},
   "outputs": [
    {
     "name": "stdout",
     "output_type": "stream",
     "text": [
      "typesDict is: {'iprcode': <class 'int'>, 'brcode': <class 'int'>, 'ib_cf_qty': <class 'int'>, 'new_ib_vs_stock_cv': <class 'int'>, 'onlineflag': <class 'bool'>}\n"
     ]
    },
    {
     "data": {
      "text/plain": [
       "{'iprcode': 9,\n",
       " 'brcode': 1000,\n",
       " 'ib_cf_qty': 50,\n",
       " 'new_ib_vs_stock_cv': 27,\n",
       " 'onlineflag': True}"
      ]
     },
     "execution_count": null,
     "metadata": {},
     "output_type": "execute_result"
    }
   ],
   "source": [
    "typeMapJsonSchema(url, input_=inv)"
   ]
  },
  {
   "cell_type": "markdown",
   "metadata": {},
   "source": [
    "# get schema path"
   ]
  },
  {
   "cell_type": "code",
   "execution_count": null,
   "metadata": {},
   "outputs": [],
   "source": []
  }
 ],
 "metadata": {
  "kernelspec": {
   "display_name": "python38",
   "language": "python",
   "name": "python38"
  }
 },
 "nbformat": 4,
 "nbformat_minor": 4
}
