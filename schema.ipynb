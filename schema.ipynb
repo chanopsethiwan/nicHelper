{
 "cells": [
  {
   "cell_type": "code",
   "execution_count": null,
   "metadata": {},
   "outputs": [],
   "source": [
    "# default_exp schema"
   ]
  },
  {
   "cell_type": "markdown",
   "metadata": {},
   "source": [
    "# schema\n",
    "> checking dictionaries based on json schema"
   ]
  },
  {
   "cell_type": "code",
   "execution_count": null,
   "metadata": {},
   "outputs": [],
   "source": [
    "#hide\n",
    "from nbdev.showdoc import *"
   ]
  },
  {
   "cell_type": "code",
   "execution_count": null,
   "metadata": {},
   "outputs": [],
   "source": [
    "#export\n",
    "import jsonschema, requests, yaml\n",
    "from types import SimpleNamespace"
   ]
  },
  {
   "cell_type": "code",
   "execution_count": null,
   "metadata": {},
   "outputs": [],
   "source": [
    "#export\n",
    "def validateUrl(url,input_, format_ = 'json'):\n",
    "  if format_ == 'yaml':\n",
    "    schemaYaml = requests.get(url).text\n",
    "    schema = yaml.load(schemaYaml, Loader=yaml.FullLoader)\n",
    "  elif format_ == 'json':\n",
    "    schema = requests.get(url).json()\n",
    "  else:\n",
    "    print('invalid schema format, using json')\n",
    "    schema = requests.get(url).json()\n",
    "  res = jsonschema.validate(input_,schema)\n",
    "  return SimpleNamespace(**input_)"
   ]
  },
  {
   "cell_type": "markdown",
   "metadata": {},
   "source": [
    "### test json"
   ]
  },
  {
   "cell_type": "code",
   "execution_count": null,
   "metadata": {},
   "outputs": [
    {
     "data": {
      "text/plain": [
       "namespace(iprcode=4, cprcode=123, oprCode='123')"
      ]
     },
     "execution_count": null,
     "metadata": {},
     "output_type": "execute_result"
    }
   ],
   "source": [
    "url = 'https://raw.githubusercontent.com/thanakijwanavit/villaMasterSchema/master/Product.json'\n",
    "input_ = {'iprcode': 4, 'cprcode': 123 , 'oprCode': '123'}\n",
    "validateUrl(url, input_)"
   ]
  },
  {
   "cell_type": "markdown",
   "metadata": {},
   "source": [
    "#### error json"
   ]
  },
  {
   "cell_type": "code",
   "execution_count": null,
   "metadata": {},
   "outputs": [
    {
     "name": "stdout",
     "output_type": "stream",
     "text": [
      "[{'cprcode': '0171670', 'iprcode': '0171670', 'oprcode': '0171670', 'ordertype': 'Y', 'pr_abb': 'JIRAPAT YOUNG KALE 2', 'pr_active': 'Y', 'pr_cgcode': '05', 'pr_code': '0171670', 'pr_dpcode': '19', 'pr_engname': 'JIRAAT YOUNG KALE 200 G.', 'pr_ggcode': '057', 'pr_market': 'JIRAPAT ยอดคะน้า 200 G.', 'pr_name': 'JIRAPAT ยอดคะน้า 200 G.', 'pr_puqty': '1', 'pr_sa_method': '1', 'pr_sucode1': 'CM845', 'pr_suref3': 'A', 'prtype': 'I', 'psqty': '1', 'pstype': '1'}] is not of type 'object'\n",
      "\n",
      "Failed validating 'type' in schema:\n",
      "    {'$schema': 'http://json-schema.org/draft-06/schema#',\n",
      "     'definitions': {'Product': {'description': 'Product(iprcode: int, '\n",
      "                                                'cprcode: int)',\n",
      "                                 'properties': {'cprcode': {'type': 'integer'},\n",
      "                                                'iprcode': {'type': 'integer'}},\n",
      "                                 'required': ['iprcode', 'cprcode'],\n",
      "                                 'type': 'object'}},\n",
      "     'description': 'ValueUpdate(items: List[__main__.Product])',\n",
      "     'properties': {'items': {'items': {'$ref': '#/definitions/Product'},\n",
      "                              'type': 'array'}},\n",
      "     'required': ['items'],\n",
      "     'type': 'object'}\n",
      "\n",
      "On instance:\n",
      "    [{'cprcode': '0171670',\n",
      "      'iprcode': '0171670',\n",
      "      'oprcode': '0171670',\n",
      "      'ordertype': 'Y',\n",
      "      'pr_abb': 'JIRAPAT YOUNG KALE 2',\n",
      "      'pr_active': 'Y',\n",
      "      'pr_cgcode': '05',\n",
      "      'pr_code': '0171670',\n",
      "      'pr_dpcode': '19',\n",
      "      'pr_engname': 'JIRAAT YOUNG KALE 200 G.',\n",
      "      'pr_ggcode': '057',\n",
      "      'pr_market': 'JIRAPAT ยอดคะน้า 200 G.',\n",
      "      'pr_name': 'JIRAPAT ยอดคะน้า 200 G.',\n",
      "      'pr_puqty': '1',\n",
      "      'pr_sa_method': '1',\n",
      "      'pr_sucode1': 'CM845',\n",
      "      'pr_suref3': 'A',\n",
      "      'prtype': 'I',\n",
      "      'psqty': '1',\n",
      "      'pstype': '1'}]\n"
     ]
    }
   ],
   "source": [
    "errorProduct = [{ 'cprcode': '0171670', 'iprcode': '0171670', 'oprcode': '0171670', 'ordertype': 'Y', 'pr_abb': 'JIRAPAT YOUNG KALE 2', 'pr_active': 'Y', 'pr_cgcode': '05', 'pr_code': '0171670', 'pr_dpcode': '19', 'pr_engname': 'JIRAAT YOUNG KALE 200 G.', 'pr_ggcode': '057', 'pr_market': 'JIRAPAT ยอดคะน้า 200 G.', 'pr_name': 'JIRAPAT ยอดคะน้า 200 G.', 'pr_puqty': '1', 'pr_sa_method': '1', 'pr_sucode1': 'CM845', 'pr_suref3': 'A', 'prtype': 'I', 'psqty': '1', 'pstype': '1'}] #ProductDatabase.valueUpdate({'items':sampleProducts})\n",
    "url = 'https://raw.githubusercontent.com/thanakijwanavit/villaMasterSchema/master/valueUpdate.json'\n",
    "try:\n",
    "  validateUrl(url, errorProduct)\n",
    "except Exception as e:\n",
    "  print(f'{e}')"
   ]
  },
  {
   "cell_type": "markdown",
   "metadata": {},
   "source": [
    "### test yaml"
   ]
  },
  {
   "cell_type": "code",
   "execution_count": null,
   "metadata": {},
   "outputs": [
    {
     "name": "stdout",
     "output_type": "stream",
     "text": [
      "namespace(cprcode=123, iprcode=4, oprCode='123')\n",
      "[{'cprcode': '0171670', 'iprcode': '0171670', 'oprcode': '0171670', 'ordertype': 'Y', 'pr_abb': 'JIRAPAT YOUNG KALE 2', 'pr_active': 'Y', 'pr_cgcode': '05', 'pr_code': '0171670', 'pr_dpcode': '19', 'pr_engname': 'JIRAAT YOUNG KALE 200 G.', 'pr_ggcode': '057', 'pr_market': 'JIRAPAT ยอดคะน้า 200 G.', 'pr_name': 'JIRAPAT ยอดคะน้า 200 G.', 'pr_puqty': '1', 'pr_sa_method': '1', 'pr_sucode1': 'CM845', 'pr_suref3': 'A', 'prtype': 'I', 'psqty': '1', 'pstype': '1'}] is not of type 'object'\n",
      "\n",
      "Failed validating 'type' in schema:\n",
      "    {'$schema': 'http://json-schema.org/schema#',\n",
      "     'properties': {'cprcode': {'type': 'integer'},\n",
      "                    'iprcode': {'type': 'integer'},\n",
      "                    'oprCode': {'type': 'string'}},\n",
      "     'required': ['cprcode', 'iprcode', 'oprCode'],\n",
      "     'type': 'object'}\n",
      "\n",
      "On instance:\n",
      "    [{'cprcode': '0171670',\n",
      "      'iprcode': '0171670',\n",
      "      'oprcode': '0171670',\n",
      "      'ordertype': 'Y',\n",
      "      'pr_abb': 'JIRAPAT YOUNG KALE 2',\n",
      "      'pr_active': 'Y',\n",
      "      'pr_cgcode': '05',\n",
      "      'pr_code': '0171670',\n",
      "      'pr_dpcode': '19',\n",
      "      'pr_engname': 'JIRAAT YOUNG KALE 200 G.',\n",
      "      'pr_ggcode': '057',\n",
      "      'pr_market': 'JIRAPAT ยอดคะน้า 200 G.',\n",
      "      'pr_name': 'JIRAPAT ยอดคะน้า 200 G.',\n",
      "      'pr_puqty': '1',\n",
      "      'pr_sa_method': '1',\n",
      "      'pr_sucode1': 'CM845',\n",
      "      'pr_suref3': 'A',\n",
      "      'prtype': 'I',\n",
      "      'psqty': '1',\n",
      "      'pstype': '1'}]\n"
     ]
    }
   ],
   "source": [
    "##success\n",
    "url = 'https://gist.githubusercontent.com/thanakijwanavit/241c4cc443f39ea096820f5dfb84017d/raw/61694a0c5fbac3f6408fbb11217cc4265d38e38d/sampleYaml.yaml'\n",
    "input_ = {'iprcode': 4, 'cprcode': 123 , 'oprCode': '123'}\n",
    "print(validateUrl(url, input_, format_='yaml'))\n",
    "## failure\n",
    "try:\n",
    "  print(validateUrl(url, errorProduct, format_='yaml'))\n",
    "except Exception as e:\n",
    "  print(f'{e}')"
   ]
  },
  {
   "cell_type": "code",
   "execution_count": null,
   "metadata": {},
   "outputs": [],
   "source": []
  }
 ],
 "metadata": {
  "kernelspec": {
   "display_name": "python38",
   "language": "python",
   "name": "python38"
  }
 },
 "nbformat": 4,
 "nbformat_minor": 4
}
