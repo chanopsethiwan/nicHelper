{
 "cells": [
  {
   "cell_type": "code",
   "execution_count": 1,
   "metadata": {},
   "outputs": [],
   "source": [
    "# default_exp pynamodb"
   ]
  },
  {
   "cell_type": "markdown",
   "metadata": {
    "toc-hr-collapsed": true,
    "toc-nb-collapsed": true
   },
   "source": [
    "# pynamodb\n",
    "> special pynamodb attributes"
   ]
  },
  {
   "cell_type": "markdown",
   "metadata": {},
   "source": [
    "## Imports"
   ]
  },
  {
   "cell_type": "code",
   "execution_count": 2,
   "metadata": {},
   "outputs": [],
   "source": [
    "#export\n",
    "from pynamodb.attributes import Attribute, UnicodeAttribute, NumberAttribute\n",
    "from typing import Any, Optional, Type, TypeVar\n",
    "from enum import Enum\n",
    "import requests, dpath.util, yaml, jsonschema, json, os, pynamodb\n",
    "from pynamodb.models import Model\n",
    "from datetime import datetime"
   ]
  },
  {
   "cell_type": "markdown",
   "metadata": {},
   "source": [
    "# SchemaAttribute class\n",
    "a class which automatically parse and check data against json schema"
   ]
  },
  {
   "cell_type": "code",
   "execution_count": 3,
   "metadata": {},
   "outputs": [],
   "source": [
    "#export\n",
    "class SchemaAttribute(Attribute):\n",
    "  attr_type = pynamodb.constants.STRING\n",
    "  def __init__(self, schemaUrl:str, path:str = '/', isYaml=True, \n",
    "               headers={'Cache-Control': 'no-cache'}, \n",
    "               envName = 'SCHEMA_ATTRIBUTE', **kwargs: Any) -> None:\n",
    "      \"\"\"\n",
    "      schemaUrl:str, \n",
    "      path:str = '/', \n",
    "      isYaml=True,  :yaml::Bool:: whether the schema is in yaml or json\n",
    "      headers={'Cache-Control': 'no-cache'},\n",
    "      :path::str:: the path of the object of interest in schema, if the schema is at root then '/'\n",
    "      envName::str:: the name of schema to save to the environment\n",
    "      \"\"\"\n",
    "      super().__init__(**kwargs)\n",
    "      try:\n",
    "        if isYaml: # yaml schema\n",
    "          schema:dict = yaml.load(requests.get(schemaUrl, headers=headers).text, Loader = yaml.FullLoader)\n",
    "        else: # probably json\n",
    "          schema:dict = requests.get(schemaUrl, headers).json()\n",
    "      except Exception as e:\n",
    "        print(f'error parsing schema {e}')\n",
    "        schema:dict = {}\n",
    "          \n",
    "      self.schema = dpath.util.get(schema, path) # get to the path in schema\n",
    "      os.environ[envName] = json.dumps(self.schema)\n",
    "\n",
    "  def deserialize(self, value: str) -> dict:\n",
    "    return json.loads(value)\n",
    "\n",
    "  def serialize(self, value:dict) -> str:\n",
    "    res = jsonschema.validate(value,self.schema)\n",
    "    return json.dumps(value)"
   ]
  },
  {
   "cell_type": "markdown",
   "metadata": {},
   "source": [
    "# Supermodel\n",
    "a class which add some functionalities on top of the standard pynamodb model, it sets id_ as the hash key and gives\n",
    "* fromDict functions \n",
    "* repr as a dict\n",
    "\n"
   ]
  },
  {
   "cell_type": "code",
   "execution_count": 4,
   "metadata": {},
   "outputs": [],
   "source": [
    "#export\n",
    "class SuperModel(Model):\n",
    "  id_ = UnicodeAttribute(hash_key=True)\n",
    "  data = SchemaAttribute(schemaUrl='https://gist.githubusercontent.com/thanakijwanavit/e2720d091ae0cef710a49b57c0c9cd4c/raw/ed2d322eac4900ee0f95b431d0f9067a40f3e0f0/squirrelOpenApiV0.0.3.yaml', null=True)\n",
    "  lastEdited = NumberAttribute()\n",
    "  creationTime = NumberAttribute()\n",
    "  \n",
    "  def __repr__(self):\n",
    "    return json.dumps(vars(self)['attribute_values'])\n",
    "  \n",
    "  ## query override\n",
    "  @classmethod\n",
    "  def queryId(cls, hash_key, **kwargs):\n",
    "    '''\n",
    "    just like query but make resul\n",
    "    '''\n",
    "    r = cls.query(hash_key, **kwargs)\n",
    "    res = []\n",
    "    for i in r:\n",
    "      i.pullOutKeys()\n",
    "      res.append(i)\n",
    "    return iter(res)\n",
    "      \n",
    "  \n",
    "  ## moving to and from dict\n",
    "  @classmethod\n",
    "  def fromDict(cls, inputDict:dict):\n",
    "    '''\n",
    "    turn dict into class\n",
    "    note that this assume data as the only column, please override if required\n",
    "    '''\n",
    "    return cls(data = inputDict)\n",
    "  \n",
    "  def toDict(self):\n",
    "    '''\n",
    "    turn class into a dictionary\n",
    "    note that this is set to return self.data by default, please override if needed\n",
    "    '''\n",
    "    return self.data\n",
    "  \n",
    "  #### saving ####\n",
    "  def pullOutKeys(self):\n",
    "    '''\n",
    "    update the keys with data: please override this function by pulling out keys\n",
    "    \n",
    "    for example\n",
    "    self.orderId = self.data['orderId']\n",
    "    self.ownerId = self.data['ownerId']\n",
    "    self.basketId = self.data['basketId']\n",
    "    '''\n",
    "    print('please dont foreget to override the pullOutKeys function if needed')\n",
    "    self.id_ = self.data['id']\n",
    "    \n",
    "  def recordTime(self):\n",
    "    '''record last edited and creation time'''\n",
    "    self.lastEdited = datetime.now().timestamp() # record last edited\n",
    "    if not self.creationTime: # record creation time\n",
    "      self.creationTime = datetime.now().timestamp()\n",
    "    \n",
    "  def save(self):\n",
    "    ''' \n",
    "    please override pullOutKeys function\n",
    "    see docs\n",
    "    '''\n",
    "    self.recordTime()\n",
    "    self.pullOutKeys()\n",
    "      \n",
    "    try: \n",
    "      super().save()\n",
    "      return next(self.query(self.id_))\n",
    "    except ValidationError as e:\n",
    "      raise ValidationError(f'failed validation \\n {e}')\n",
    "\n",
    "    except Exception as e:\n",
    "      raise Exception(f'error saving id {self.id_} {e}')\n",
    "  "
   ]
  },
  {
   "cell_type": "markdown",
   "metadata": {},
   "source": [
    "### Test"
   ]
  },
  {
   "cell_type": "code",
   "execution_count": 39,
   "metadata": {},
   "outputs": [
    {
     "data": {
      "text/plain": [
       "{'type': 'object',\n",
       " 'required': ['id',\n",
       "  'type',\n",
       "  'street_address',\n",
       "  'city',\n",
       "  'state',\n",
       "  'zip',\n",
       "  'capacity',\n",
       "  'status'],\n",
       " 'properties': {'id': {'type': 'string', 'format': 'uuid'},\n",
       "  'type': {'type': 'string', 'enum': ['pick up', 'drop off', 'overnight']},\n",
       "  'street_address': {'type': 'string'},\n",
       "  'city': {'type': 'string'},\n",
       "  'state': {'type': 'string',\n",
       "   'pattern': '^(?:(A[KLRZ]|C[AOT]|D[CE]|FL|GA|HI|I[ADLN]|K[SY]|LA|M[ADEINOST]|N[CDEHJMVY]|O[HKR]|PA|RI|S[CD]|T[NX]|UT|V[AT]|W[AIVY]))$'},\n",
       "  'zip': {'type': 'string', 'pattern': '(^\\\\d{5}$)|(^\\\\d{5}-\\\\d{4}$)'},\n",
       "  'status': {'type': 'string', 'enum': ['open', 'in use']},\n",
       "  'created': {'type': 'string', 'format': 'date-time'},\n",
       "  'modified': {'type': 'string', 'format': 'date-time'}}}"
      ]
     },
     "execution_count": 39,
     "metadata": {},
     "output_type": "execute_result"
    }
   ],
   "source": [
    "## check schema\n",
    "testSchema = 'https://gist.githubusercontent.com/thanakijwanavit/e2720d091ae0cef710a49b57c0c9cd4c/raw/ed2d322eac4900ee0f95b431d0f9067a40f3e0f0/squirrelOpenApiV0.0.3.yaml'\n",
    "schema = yaml.load(requests.get(testSchema).text, Loader= yaml.Loader)\n",
    "path = 'components/schemas/Location'\n",
    "dpath.util.get(schema, path)"
   ]
  },
  {
   "cell_type": "code",
   "execution_count": 5,
   "metadata": {},
   "outputs": [],
   "source": [
    "\n",
    "schemaUrl = 'https://raw.githubusercontent.com/thanakijwanavit/villaMasterSchema/master/Product.json'\n",
    "\n",
    "class TestModel(SuperModel):\n",
    "  class Meta:\n",
    "    table_name=\"colab-test-sensitive-column\"\n",
    "    region = 'ap-southeast-1'\n",
    "  data = SchemaAttribute(schemaUrl = schemaUrl, null=True)\n",
    "  cprcode = NumberAttribute()\n",
    "  def pullOutKeys(self):\n",
    "    self.id_ = str(self.data['iprcode'])\n",
    "    self.cprcode = self.data['cprcode']\n"
   ]
  },
  {
   "cell_type": "markdown",
   "metadata": {},
   "source": [
    "### success"
   ]
  },
  {
   "cell_type": "code",
   "execution_count": 6,
   "metadata": {},
   "outputs": [
    {
     "data": {
      "text/plain": [
       "{\"data\": {\"type\": \"pick up\", \"street_address\": \"123\", \"id\": \"123\", \"city\": \"sth\", \"state\": \"CA\", \"zip\": \"23523\", \"capacity\": 5, \"status\": \"open\"}}"
      ]
     },
     "execution_count": 6,
     "metadata": {},
     "output_type": "execute_result"
    }
   ],
   "source": [
    "try:\n",
    "  TestModel(\n",
    "    id_ = '1',\n",
    "    data = {'iprcode': 4, 'cprcode': 123 , 'oprCode': '123', 'orderId': 123}\n",
    "  ).save()\n",
    "except Exception as e:\n",
    "  print(e)\n",
    "\n",
    "\n",
    "next(TestModel.query('1'))"
   ]
  },
  {
   "cell_type": "code",
   "execution_count": 7,
   "metadata": {},
   "outputs": [
    {
     "data": {
      "text/plain": [
       "{\"data\": {\"type\": \"pick up\", \"street_address\": \"123\", \"id\": \"123\", \"city\": \"sth\", \"state\": \"CA\", \"zip\": \"23523\", \"capacity\": 5, \"status\": \"open\"}}"
      ]
     },
     "execution_count": 7,
     "metadata": {},
     "output_type": "execute_result"
    }
   ],
   "source": [
    "\n",
    "next(TestModel.query('1'))"
   ]
  },
  {
   "cell_type": "markdown",
   "metadata": {},
   "source": [
    "### fail"
   ]
  },
  {
   "cell_type": "code",
   "execution_count": 8,
   "metadata": {},
   "outputs": [
    {
     "name": "stdout",
     "output_type": "stream",
     "text": [
      "name 'ValidationError' is not defined\n"
     ]
    },
    {
     "data": {
      "text/plain": [
       "{\"data\": {\"type\": \"pick up\", \"street_address\": \"123\", \"id\": \"123\", \"city\": \"sth\", \"state\": \"CA\", \"zip\": \"23523\", \"capacity\": 5, \"status\": \"open\"}}"
      ]
     },
     "execution_count": 8,
     "metadata": {},
     "output_type": "execute_result"
    }
   ],
   "source": [
    "try:\n",
    "  TestModel(\n",
    "    data = {'iprcode': '4', 'cprcode': 123 , 'oprCode': '123'}\n",
    "  ).save()\n",
    "except Exception as e:\n",
    "  print(e)\n",
    "\n",
    "\n",
    "\n",
    "next(TestModel.query('1'))"
   ]
  },
  {
   "cell_type": "markdown",
   "metadata": {},
   "source": [
    "### nested"
   ]
  },
  {
   "cell_type": "code",
   "execution_count": 9,
   "metadata": {},
   "outputs": [
    {
     "name": "stdout",
     "output_type": "stream",
     "text": [
      "please dont foreget to override the pullOutKeys function if needed\n",
      "faulty data is rejected\n",
      "please dont foreget to override the pullOutKeys function if needed\n"
     ]
    }
   ],
   "source": [
    "schemaUrl = 'https://gist.githubusercontent.com/thanakijwanavit/e2720d091ae0cef710a49b57c0c9cd4c/raw/ed2d322eac4900ee0f95b431d0f9067a40f3e0f0/squirrelOpenApiV0.0.3.yaml'\n",
    "path = '/components/schemas/Location'\n",
    "class ProductModel(SuperModel):\n",
    "  class Meta:\n",
    "    table_name=\"colab-test-sensitive-column\"\n",
    "    region = 'ap-southeast-1'\n",
    "  data = SchemaAttribute(schemaUrl = schemaUrl,path=path, null=True)\n",
    "\n",
    "  \n",
    "def test_nested():\n",
    "  result = {}\n",
    "  try:\n",
    "    ProductModel(\n",
    "      data = {'type': 'something invalid', 'street_address': '123' }\n",
    "    ).save()\n",
    "  except Exception as e:\n",
    "    print('faulty data is rejected')\n",
    "    result['errorModel'] = True\n",
    "\n",
    "  try:\n",
    "    ProductModel(\n",
    "      data = {'type': 'pick up', 'street_address': '123' , 'id': '123', 'city':'sth', 'state': 'CA', 'zip':'23523', 'capacity':5, 'status':'open'}\n",
    "    ).save()\n",
    "    result['successModel'] = True\n",
    "  except Exception as e:\n",
    "    print(f'valid data is rejected\\n{e}')\n",
    "    result['successModel'] = False\n",
    "  \n",
    "\n",
    "  assert next(TestModel.query('1')).data == {'type': 'pick up', 'street_address': '123' , 'id': '123', 'city':'sth', 'state': 'CA', 'zip':'23523', 'capacity':5, 'status':'open'}\n",
    "  assert result['successModel'] == True, 'success model didnt save properly'\n",
    "  assert result['errorModel'] == True, 'error model went through'\n",
    "  \n",
    "test_nested()"
   ]
  },
  {
   "cell_type": "markdown",
   "metadata": {
    "toc-hr-collapsed": true,
    "toc-nb-collapsed": true
   },
   "source": [
    "# Standard functions"
   ]
  },
  {
   "cell_type": "markdown",
   "metadata": {},
   "source": [
    "## Create data"
   ]
  },
  {
   "cell_type": "code",
   "execution_count": 10,
   "metadata": {},
   "outputs": [],
   "source": [
    "#export\n",
    "from awsSchema.apigateway import Event, Response\n",
    "from jsonschema import ValidationError\n",
    "from typing import Optional\n",
    "from nicHelper.schema import validateUrl\n",
    "\n",
    "def createData(event:dict, hashKeyName: str,mainClass:Model, schemaUrl:Optional[str] = None ,schemaFormat:str ='yaml', *args):\n",
    "  '''\n",
    "    create a new basket\n",
    "  '''\n",
    "  # parse output\n",
    "  query:dict = Event.parseBody(event) \n",
    "  \n",
    "  # check schema if provided\n",
    "  if schemaUrl: \n",
    "    try: validateUrl(schemaUrl,format_ = schemaFormat)\n",
    "    except ValidationError as e: return Response.returnSuccess(f'{e}')\n",
    "  \n",
    "  # check for key\n",
    "  if hashKeyName not in query:  \n",
    "    return Response.returnError(message=f'missing {hashKeyName}') \n",
    "  \n",
    "  # check if object exist \n",
    "  if next(mainClass.query(query[hashKeyName]),None): \n",
    "    return Response.returnError(message=f'item with the same hash key exists')\n",
    "  \n",
    "  # make pynamodb object\n",
    "  item:mainClass = mainClass.fromDict(query)\n",
    "    \n",
    "  # try to save\n",
    "  try: \n",
    "    item.save()\n",
    "    return Response.returnSuccess(body=item.toDict())\n",
    "  \n",
    "  except ValidationError as e: # error validation handle\n",
    "    return Response.returnError(f'validation error \\n {e}')\n",
    "  \n",
    "  except Exception as e: # error handle\n",
    "    return Response.returnError(f'unknown error \\n {e} \\n errorString())')"
   ]
  },
  {
   "cell_type": "markdown",
   "metadata": {},
   "source": [
    "### Usage example"
   ]
  },
  {
   "cell_type": "code",
   "execution_count": 11,
   "metadata": {},
   "outputs": [],
   "source": [
    "## lambda create function\n",
    "def create (event, *args):\n",
    "  body = Event.parseBody(event)\n",
    "  body['id'] = body['phoneHash']\n",
    "  \n",
    "  event2 = Event.getInput(body)\n",
    "  hashKeyname = 'id'\n",
    "  return createData(event2, hashKeyName=hashKeyname, mainClass=TestModel)"
   ]
  },
  {
   "cell_type": "markdown",
   "metadata": {},
   "source": [
    "### Test"
   ]
  },
  {
   "cell_type": "markdown",
   "metadata": {},
   "source": [
    "#### Success"
   ]
  },
  {
   "cell_type": "code",
   "execution_count": 33,
   "metadata": {},
   "outputs": [
    {
     "name": "stdout",
     "output_type": "stream",
     "text": [
      "{\"creationTime\": 1615696017.37214, \"data\": {\"phoneHash\": \"123\", \"iprcode\": 4, \"cprcode\": 123, \"oprCode\": \"123\", \"id\": \"123\"}, \"lastEdited\": 1615696017.37213, \"id_\": \"4\"}\n",
      "{'ConsumedCapacity': {'CapacityUnits': 1.0, 'TableName': 'colab-test-sensitive-column'}}\n"
     ]
    }
   ],
   "source": [
    "schemaUrl = 'https://raw.githubusercontent.com/thanakijwanavit/villaMasterSchema/master/Product.json'\n",
    "\n",
    "class TestModel(SuperModel):\n",
    "  class Meta:\n",
    "    table_name=\"colab-test-sensitive-column\"\n",
    "    region = 'ap-southeast-1'\n",
    "  data = SchemaAttribute(schemaUrl = schemaUrl, null=True)\n",
    "  def pullOutKeys(self):\n",
    "    self.id_ = str(self.data['iprcode'])\n",
    "    \n",
    "data = {'phoneHash': '123','iprcode': 4, 'cprcode': 123 , 'oprCode': '123'}\n",
    "event = Event.getInput(data)\n",
    "item = next(TestModel.queryId('123'), None)\n",
    "print(item)\n",
    "# delete item if exist\n",
    "if item:\n",
    "  print(item.delete())\n",
    "  \n",
    "# create(event)"
   ]
  },
  {
   "cell_type": "code",
   "execution_count": 13,
   "metadata": {},
   "outputs": [
    {
     "name": "stdout",
     "output_type": "stream",
     "text": [
      "1\n",
      "2\n",
      "3\n"
     ]
    }
   ],
   "source": [
    "#hide\n",
    "## test wrapper\n",
    "def a(func):\n",
    "  def inner():\n",
    "    print(1)\n",
    "    func()\n",
    "    print(3)\n",
    "  return inner\n",
    "@a\n",
    "def b():\n",
    "  print(2)\n",
    "\n",
    "b()"
   ]
  },
  {
   "cell_type": "code",
   "execution_count": null,
   "metadata": {},
   "outputs": [],
   "source": []
  }
 ],
 "metadata": {
  "kernelspec": {
   "display_name": "python38",
   "language": "python",
   "name": "python38"
  },
  "language_info": {
   "codemirror_mode": {
    "name": "ipython",
    "version": 3
   },
   "file_extension": ".py",
   "mimetype": "text/x-python",
   "name": "python",
   "nbconvert_exporter": "python",
   "pygments_lexer": "ipython3",
   "version": "3.8.6"
  },
  "toc-autonumbering": true
 },
 "nbformat": 4,
 "nbformat_minor": 4
}
