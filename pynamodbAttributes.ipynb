{
 "cells": [
  {
   "cell_type": "code",
   "execution_count": null,
   "metadata": {},
   "outputs": [],
   "source": [
    "# default_exp pynamodb"
   ]
  },
  {
   "cell_type": "markdown",
   "metadata": {},
   "source": [
    "# pynamodb\n",
    "> special pynamodb attributes"
   ]
  },
  {
   "cell_type": "markdown",
   "metadata": {},
   "source": [
    "## Imports"
   ]
  },
  {
   "cell_type": "code",
   "execution_count": null,
   "metadata": {},
   "outputs": [],
   "source": [
    "#export\n",
    "from pynamodb.attributes import Attribute, UnicodeAttribute, NumberAttribute\n",
    "from typing import Any, Optional, Type, TypeVar\n",
    "from enum import Enum\n",
    "import requests, dpath.util, yaml, jsonschema, json, os, pynamodb\n",
    "from pynamodb.models import Model\n",
    "from datetime import datetime"
   ]
  },
  {
   "cell_type": "markdown",
   "metadata": {},
   "source": [
    "## SchemaAttribute class\n",
    "a class which automatically parse and check data against json schema"
   ]
  },
  {
   "cell_type": "code",
   "execution_count": null,
   "metadata": {},
   "outputs": [],
   "source": [
    "#export\n",
    "class SchemaAttribute(Attribute):\n",
    "  attr_type = pynamodb.constants.STRING\n",
    "  def __init__(self, schemaUrl:str, path:str = '/', isYaml=True, \n",
    "               headers={'Cache-Control': 'no-cache'}, \n",
    "               envName = 'SCHEMA_ATTRIBUTE', **kwargs: Any) -> None:\n",
    "      \"\"\"\n",
    "      schemaUrl:str, \n",
    "      path:str = '/', \n",
    "      isYaml=True,  :yaml::Bool:: whether the schema is in yaml or json\n",
    "      headers={'Cache-Control': 'no-cache'},\n",
    "      :path::str:: the path of the object of interest in schema, if the schema is at root then '/'\n",
    "      envName::str:: the name of schema to save to the environment\n",
    "      \"\"\"\n",
    "      super().__init__(**kwargs)\n",
    "      try:\n",
    "        if isYaml: # yaml schema\n",
    "          schema:dict = yaml.load(requests.get(schemaUrl, headers=headers).text, Loader = yaml.FullLoader)\n",
    "        else: # probably json\n",
    "          schema:dict = requests.get(schemaUrl, headers).json()\n",
    "      except Exception as e:\n",
    "        print(f'error parsing schema {e}')\n",
    "        schema:dict = {}\n",
    "          \n",
    "      self.schema = dpath.util.get(schema, path) # get to the path in schema\n",
    "      os.environ[envName] = json.dumps(self.schema)\n",
    "\n",
    "  def deserialize(self, value: str) -> dict:\n",
    "    return json.loads(value)\n",
    "\n",
    "  def serialize(self, value:dict) -> str:\n",
    "    res = jsonschema.validate(value,self.schema)\n",
    "    return json.dumps(value)"
   ]
  },
  {
   "cell_type": "markdown",
   "metadata": {},
   "source": [
    "## Supermodel\n",
    "a class which add some functionalities on top of the standard pynamodb model, it sets id_ as the hash key and gives\n",
    "* fromDict functions \n",
    "* repr as a dict\n",
    "\n"
   ]
  },
  {
   "cell_type": "code",
   "execution_count": null,
   "metadata": {},
   "outputs": [],
   "source": [
    "#export\n",
    "class SuperModel(Model):\n",
    "  id_ = UnicodeAttribute(hash_key=True)\n",
    "  data = SchemaAttribute(schemaUrl='https://gist.githubusercontent.com/thanakijwanavit/e2720d091ae0cef710a49b57c0c9cd4c/raw/ed2d322eac4900ee0f95b431d0f9067a40f3e0f0/squirrelOpenApiV0.0.3.yaml', null=True)\n",
    "  lastEdited = NumberAttribute()\n",
    "  creationTime = NumberAttribute()\n",
    "  \n",
    "  def __repr__(self):\n",
    "    return json.dumps(vars(self)['attribute_values'])\n",
    "  \n",
    "  @classmethod\n",
    "  def fromDict(cls, inputDict:dict):\n",
    "    return cls(data = inputDict)\n",
    "  \n",
    "  #### saving ####\n",
    "  def pullOutKeys(self):\n",
    "    '''\n",
    "    update the keys with data: please override this function by pulling out keys\n",
    "    \n",
    "    for example\n",
    "    self.orderId = self.data['orderId']\n",
    "    self.ownerId = self.data['ownerId']\n",
    "    self.basketId = self.data['basketId']\n",
    "    '''\n",
    "    print('please dont foreget to override the pullOutKeys function if needed')\n",
    "    self.id_ = self.data['id']\n",
    "    \n",
    "  def recordTime(self):\n",
    "    '''record last edited and creation time'''\n",
    "    self.lastEdited = datetime.now().timestamp() # record last edited\n",
    "    if not self.creationTime: # record creation time\n",
    "      self.creationTime = datetime.now().timestamp()\n",
    "    \n",
    "  def save(self):\n",
    "    ''' \n",
    "    please override pullOutKeys function\n",
    "    see docs\n",
    "    '''\n",
    "    self.recordTime()\n",
    "    self.pullOutKeys()\n",
    "      \n",
    "    try: \n",
    "      super().save()\n",
    "      return next(self.query(self.id_))\n",
    "    except ValidationError as e:\n",
    "      raise ValidationError(f'failed validation \\n {e}')\n",
    "\n",
    "    except Exception as e:\n",
    "      raise Exception(f'error saving id {self.id_} {e}')\n",
    "  "
   ]
  },
  {
   "cell_type": "markdown",
   "metadata": {},
   "source": [
    "### Test"
   ]
  },
  {
   "cell_type": "code",
   "execution_count": null,
   "metadata": {},
   "outputs": [],
   "source": [
    "\n",
    "schemaUrl = 'https://raw.githubusercontent.com/thanakijwanavit/villaMasterSchema/master/Product.json'\n",
    "\n",
    "class TestModel(SuperModel):\n",
    "  class Meta:\n",
    "    table_name=\"colab-test-sensitive-column\"\n",
    "    region = 'ap-southeast-1'\n",
    "  data = SchemaAttribute(schemaUrl = schemaUrl, null=True)\n",
    "  def pullOutKeys(self):\n",
    "    self.id_ = str(self.data['iprcode'])\n"
   ]
  },
  {
   "cell_type": "markdown",
   "metadata": {},
   "source": [
    "### success"
   ]
  },
  {
   "cell_type": "code",
   "execution_count": null,
   "metadata": {},
   "outputs": [
    {
     "data": {
      "text/plain": [
       "{\"creationTime\": 1615627272.324398, \"data\": {\"iprcode\": 4, \"cprcode\": 123, \"oprCode\": \"123\", \"orderId\": 123}, \"lastEdited\": 1615627272.324387}"
      ]
     },
     "execution_count": null,
     "metadata": {},
     "output_type": "execute_result"
    }
   ],
   "source": [
    "try:\n",
    "  TestModel(\n",
    "    id_ = '1',\n",
    "    data = {'iprcode': 4, 'cprcode': 123 , 'oprCode': '123', 'orderId': 123}\n",
    "  ).save()\n",
    "except Exception as e:\n",
    "  print(e)\n",
    "\n",
    "\n",
    "next(TestModel.query('1'))"
   ]
  },
  {
   "cell_type": "markdown",
   "metadata": {},
   "source": [
    "### fail"
   ]
  },
  {
   "cell_type": "code",
   "execution_count": null,
   "metadata": {},
   "outputs": [
    {
     "name": "stdout",
     "output_type": "stream",
     "text": [
      "failed validation \n",
      " '4' is not of type 'integer'\n",
      "\n",
      "Failed validating 'type' in schema['properties']['iprcode']:\n",
      "    {'type': 'integer'}\n",
      "\n",
      "On instance['iprcode']:\n",
      "    '4'\n"
     ]
    },
    {
     "data": {
      "text/plain": [
       "{\"data\": {\"type\": \"pick up\", \"street_address\": \"123\", \"id\": \"123\", \"city\": \"sth\", \"state\": \"CA\", \"zip\": \"23523\", \"capacity\": 5, \"status\": \"open\"}}"
      ]
     },
     "execution_count": null,
     "metadata": {},
     "output_type": "execute_result"
    }
   ],
   "source": [
    "try:\n",
    "  TestModel(\n",
    "    data = {'iprcode': '4', 'cprcode': 123 , 'oprCode': '123'}\n",
    "  ).save()\n",
    "except Exception as e:\n",
    "  print(e)\n",
    "\n",
    "\n",
    "\n",
    "next(TestModel.query('1'))"
   ]
  },
  {
   "cell_type": "markdown",
   "metadata": {},
   "source": [
    "### nested"
   ]
  },
  {
   "cell_type": "code",
   "execution_count": null,
   "metadata": {},
   "outputs": [
    {
     "name": "stdout",
     "output_type": "stream",
     "text": [
      "please dont foreget to override the pullOutKeys function if needed\n",
      "faulty data is rejected\n",
      "please dont foreget to override the pullOutKeys function if needed\n"
     ]
    }
   ],
   "source": [
    "schemaUrl = 'https://gist.githubusercontent.com/thanakijwanavit/e2720d091ae0cef710a49b57c0c9cd4c/raw/ed2d322eac4900ee0f95b431d0f9067a40f3e0f0/squirrelOpenApiV0.0.3.yaml'\n",
    "path = '/components/schemas/Location'\n",
    "class ProductModel(SuperModel):\n",
    "  class Meta:\n",
    "    table_name=\"colab-test-sensitive-column\"\n",
    "    region = 'ap-southeast-1'\n",
    "  data = SchemaAttribute(schemaUrl = schemaUrl,path=path, null=True)\n",
    "\n",
    "  \n",
    "def test_nested():\n",
    "  result = {}\n",
    "  try:\n",
    "    ProductModel(\n",
    "      data = {'type': 'something invalid', 'street_address': '123' }\n",
    "    ).save()\n",
    "  except Exception as e:\n",
    "    print('faulty data is rejected')\n",
    "    result['errorModel'] = True\n",
    "\n",
    "  try:\n",
    "    ProductModel(\n",
    "      data = {'type': 'pick up', 'street_address': '123' , 'id': '123', 'city':'sth', 'state': 'CA', 'zip':'23523', 'capacity':5, 'status':'open'}\n",
    "    ).save()\n",
    "    result['successModel'] = True\n",
    "  except Exception as e:\n",
    "    print(f'valid data is rejected\\n{e}')\n",
    "    result['successModel'] = False\n",
    "  \n",
    "\n",
    "  assert next(TestModel.query('1')).data == {'type': 'pick up', 'street_address': '123' , 'id': '123', 'city':'sth', 'state': 'CA', 'zip':'23523', 'capacity':5, 'status':'open'}\n",
    "  assert result['successModel'] == True, 'success model didnt save properly'\n",
    "  assert result['errorModel'] == True, 'error model went through'\n",
    "  \n",
    "test_nested()"
   ]
  },
  {
   "cell_type": "markdown",
   "metadata": {},
   "source": [
    "## Standard functions"
   ]
  },
  {
   "cell_type": "code",
   "execution_count": null,
   "metadata": {},
   "outputs": [],
   "source": [
    "#export\n",
    "from awsSchema.apigateway import Event, Response\n",
    "from jsonschema import ValidationError\n",
    "from typing import Optional\n",
    "from nicHelper.schema import validateUrl\n",
    "\n",
    "def createData(event:dict, hashKeyName: str,mainClass:Model, schemaUrl:Optional[str] = None ,schemaFormat:str ='yaml', *args):\n",
    "  '''\n",
    "    create a new basket\n",
    "  '''\n",
    "  # parse output\n",
    "  query:dict = Event.parseBody(event) \n",
    "  \n",
    "  # check schema if provided\n",
    "  if schemaUrl: \n",
    "    try: validateUrl(schemaUrl,format_ = schemaFormat)\n",
    "    except ValidationError as e: return Response.returnSuccess(f'{e}')\n",
    "  \n",
    "  # check for key\n",
    "  if hashKeyName not in query:  \n",
    "    return Response.returnError(message=f'missing {hashKeyName}') \n",
    "  \n",
    "  # check if object exist \n",
    "  if next(mainClass.query(query[hashKeyName]),None): \n",
    "    return Response.returnError(message=f'item with the same hash key exists')\n",
    "  \n",
    "  # make pynamodb object\n",
    "  item:mainClass = mainClass.fromDict(query)\n",
    "    \n",
    "  # try to save\n",
    "  try: \n",
    "    item.save()\n",
    "    return Response.returnSuccess(body=item.to_dict())\n",
    "  \n",
    "  except ValidationError as e: # error validation handle\n",
    "    return Response.returnError(f'validation error \\n {e}')\n",
    "  \n",
    "  except Exception as e: # error handle\n",
    "    return Response.returnError(f'unknown error \\n {e} \\n errorString())')"
   ]
  },
  {
   "cell_type": "code",
   "execution_count": null,
   "metadata": {},
   "outputs": [
    {
     "data": {
      "text/plain": [
       "{'body': '{\"error\":\"unknown error \\\\n \\'TestModel\\' object has no attribute \\'to_dict\\' \\\\n errorString())\"}',\n",
       " 'statusCode': 400,\n",
       " 'headers': {'Access-Control-Allow-Headers': '*',\n",
       "  'Access-Control-Allow-Origin': '*',\n",
       "  'Access-Control-Allow-Methods': '*'}}"
      ]
     },
     "execution_count": null,
     "metadata": {},
     "output_type": "execute_result"
    }
   ],
   "source": [
    "data = {'phoneHash': '123','iprcode': 4, 'cprcode': 123 , 'oprCode': '123'}\n",
    "event = Event.getInput(data)\n",
    "item = next(TestModel.query('123'), None)\n",
    "# item.id_ = item.data['id']\n",
    "if item:\n",
    "  item.delete()\n",
    "\n",
    "def create (event, *args):\n",
    "  body = Event.parseBody(event)\n",
    "  body['id'] = body['phoneHash']\n",
    "  \n",
    "  event2 = Event.getInput(body)\n",
    "  hashKeyname = 'id'\n",
    "  return createData(event2, hashKeyName=hashKeyname, mainClass=TestModel)\n",
    "create(event)"
   ]
  },
  {
   "cell_type": "code",
   "execution_count": null,
   "metadata": {},
   "outputs": [],
   "source": [
    "#hide\n",
    "## test wrapper\n",
    "def a(func):\n",
    "  def inner():\n",
    "    print(1)\n",
    "    func()\n",
    "    print(3)\n",
    "  return inner\n",
    "@a\n",
    "def b():\n",
    "  print(2)\n",
    "\n",
    "b()"
   ]
  },
  {
   "cell_type": "code",
   "execution_count": null,
   "metadata": {},
   "outputs": [],
   "source": []
  }
 ],
 "metadata": {
  "kernelspec": {
   "display_name": "python38",
   "language": "python",
   "name": "python38"
  }
 },
 "nbformat": 4,
 "nbformat_minor": 4
}
