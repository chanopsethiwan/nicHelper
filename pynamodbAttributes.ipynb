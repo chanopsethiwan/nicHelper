{
 "cells": [
  {
   "cell_type": "code",
   "execution_count": null,
   "metadata": {},
   "outputs": [],
   "source": [
    "# default_exp pynamodbAttributes"
   ]
  },
  {
   "cell_type": "markdown",
   "metadata": {},
   "source": [
    "# pynamodbAttributes\n",
    "> special pynamodb attributes"
   ]
  },
  {
   "cell_type": "code",
   "execution_count": null,
   "metadata": {},
   "outputs": [],
   "source": [
    "#export\n",
    "from pynamodb.attributes import Attribute\n",
    "import pynamodb"
   ]
  },
  {
   "cell_type": "code",
   "execution_count": null,
   "metadata": {},
   "outputs": [],
   "source": [
    "#export\n",
    "from typing import Any, Optional, Type, TypeVar\n",
    "from enum import Enum\n",
    "import requests, dpath.util, yaml, jsonschema, json, os\n",
    "\n",
    "  \n",
    "class SchemaAttribute(Attribute):\n",
    "  attr_type = pynamodb.constants.STRING\n",
    "  def __init__(self, schemaUrl:str, path:str = '/', isYaml=True, \n",
    "               headers={'Cache-Control': 'no-cache'}, \n",
    "               envName = 'SCHEMA_ATTRIBUTE', **kwargs: Any) -> None:\n",
    "      \"\"\"\n",
    "      schemaUrl:str, \n",
    "      path:str = '/', \n",
    "      isYaml=True,  :yaml::Bool:: whether the schema is in yaml or json\n",
    "      headers={'Cache-Control': 'no-cache'},\n",
    "      :path::str:: the path of the object of interest in schema, if the schema is at root then '/'\n",
    "      envName::str:: the name of schema to save to the environment\n",
    "      \"\"\"\n",
    "      super().__init__(**kwargs)\n",
    "      try:\n",
    "        if isYaml: # yaml schema\n",
    "          schema:dict = yaml.load(requests.get(schemaUrl, headers=headers).text, Loader = yaml.FullLoader)\n",
    "        else: # probably json\n",
    "          schema:dict = requests.get(schemaUrl, headers).json()\n",
    "      except Exception as e:\n",
    "        print(f'error parsing schema {e}')\n",
    "        schema:dict = {}\n",
    "          \n",
    "      self.schema = dpath.util.get(schema, path) # get to the path in schema\n",
    "      os.environ[envName] = json.dumps(self.schema)\n",
    "\n",
    "  def deserialize(self, value: str) -> dict:\n",
    "    return json.loads(value)\n",
    "\n",
    "  def serialize(self, value:dict) -> str:\n",
    "    res = jsonschema.validate(value,self.schema)\n",
    "    return json.dumps(value)"
   ]
  },
  {
   "cell_type": "markdown",
   "metadata": {},
   "source": [
    "### Test"
   ]
  },
  {
   "cell_type": "code",
   "execution_count": null,
   "metadata": {},
   "outputs": [],
   "source": [
    "from pynamodb.models import Model\n",
    "from pynamodb.attributes import UnicodeAttribute\n",
    "import json\n",
    "\n",
    "schemaUrl = 'https://raw.githubusercontent.com/thanakijwanavit/villaMasterSchema/master/Product.json'\n",
    "\n",
    "class TestModel(Model):\n",
    "  class Meta:\n",
    "    table_name=\"colab-test-sensitive-column\"\n",
    "    region = 'ap-southeast-1'\n",
    "  phoneHash = UnicodeAttribute(hash_key=True)\n",
    "  stringData = UnicodeAttribute()\n",
    "  schemaThing = SchemaAttribute(schemaUrl = schemaUrl, null=True)\n",
    "#   data =\n",
    "  def __repr__(self):\n",
    "    return json.dumps(vars(self)['attribute_values'])\n",
    "  \n"
   ]
  },
  {
   "cell_type": "markdown",
   "metadata": {},
   "source": [
    "### success"
   ]
  },
  {
   "cell_type": "code",
   "execution_count": null,
   "metadata": {},
   "outputs": [
    {
     "name": "stdout",
     "output_type": "stream",
     "text": [
      "None\n"
     ]
    },
    {
     "data": {
      "text/plain": [
       "{\"schemaThing\": {\"iprcode\": 4, \"cprcode\": 123, \"oprCode\": \"123\"}, \"stringData\": \"test\"}"
      ]
     },
     "execution_count": null,
     "metadata": {},
     "output_type": "execute_result"
    }
   ],
   "source": [
    "try:\n",
    "  TestModel(\n",
    "    phoneHash = '1',\n",
    "    stringData = 'test',\n",
    "    schemaThing = {'iprcode': 4, 'cprcode': 123 , 'oprCode': '123'}\n",
    "  ).save()\n",
    "except Exception as e:\n",
    "  print(e)\n",
    "\n",
    "\n",
    "next(TestModel.query('1'))"
   ]
  },
  {
   "cell_type": "markdown",
   "metadata": {},
   "source": [
    "### nested"
   ]
  },
  {
   "cell_type": "code",
   "execution_count": null,
   "metadata": {},
   "outputs": [
    {
     "name": "stdout",
     "output_type": "stream",
     "text": [
      "faulty data is rejected\n",
      "valid data is rejected\n"
     ]
    },
    {
     "data": {
      "text/plain": [
       "{}"
      ]
     },
     "execution_count": null,
     "metadata": {},
     "output_type": "execute_result"
    }
   ],
   "source": [
    "schemaUrl = 'https://raw.githubusercontent.com/thanakijwanavit/villaMasterSchema/dev/order/order.yaml'\n",
    "path = '/properties/schedule'\n",
    "class TestModel(Model):\n",
    "  class Meta:\n",
    "    table_name=\"colab-test-sensitive-column\"\n",
    "    region = 'ap-southeast-1'\n",
    "  id = UnicodeAttribute(hash_key=True)\n",
    "  data = SchemaAttribute(schemaUrl = schemaUrl,path=path, null=True)\n",
    "  def __repr__(self):\n",
    "    return json.dumps(vars(self)['attribute_values'])\n",
    "\n",
    "  \n",
    "try:\n",
    "  TestModel(\n",
    "    id = '1',\n",
    "    data = {'isExpress': 4, 'cprcode': 123 , 'oprCode': '123'}\n",
    "  ).save()\n",
    "except Exception as e:\n",
    "  print('faulty data is rejected')\n",
    "#   print(e)\n",
    "\n",
    "try:\n",
    "  TestModel(\n",
    "    id = '1',\n",
    "    data = {'isExpress': '4', 'cprcode': 123 , 'oprCode': '123'}\n",
    "  ).save()\n",
    "except Exception as e:\n",
    "  print('valid data is rejected')\n",
    "#   print(e)\n",
    "  \n",
    "next(TestModel.query('1'))  "
   ]
  },
  {
   "cell_type": "markdown",
   "metadata": {},
   "source": [
    "### fail"
   ]
  },
  {
   "cell_type": "code",
   "execution_count": null,
   "metadata": {},
   "outputs": [
    {
     "name": "stdout",
     "output_type": "stream",
     "text": [
      "Attribute phoneHash specified does not exist\n"
     ]
    },
    {
     "data": {
      "text/plain": [
       "{}"
      ]
     },
     "execution_count": null,
     "metadata": {},
     "output_type": "execute_result"
    }
   ],
   "source": [
    "try:\n",
    "  TestModel(\n",
    "    phoneHash = '1',\n",
    "    stringData = 'test',\n",
    "    schemaThing = {'iprcode': '4', 'cprcode': 123 , 'oprCode': '123'}\n",
    "  ).save()\n",
    "except Exception as e:\n",
    "  print(e)\n",
    "\n",
    "\n",
    "\n",
    "next(TestModel.query('1'))"
   ]
  },
  {
   "cell_type": "code",
   "execution_count": null,
   "metadata": {},
   "outputs": [],
   "source": []
  }
 ],
 "metadata": {
  "kernelspec": {
   "display_name": "python38",
   "language": "python",
   "name": "python38"
  }
 },
 "nbformat": 4,
 "nbformat_minor": 4
}
