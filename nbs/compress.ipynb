{
 "cells": [
  {
   "cell_type": "code",
   "execution_count": null,
   "metadata": {},
   "outputs": [],
   "source": [
    "#default_exp compress"
   ]
  },
  {
   "cell_type": "markdown",
   "metadata": {},
   "source": [
    "# compress\n",
    "> compress and decompress data"
   ]
  },
  {
   "cell_type": "code",
   "execution_count": null,
   "metadata": {},
   "outputs": [],
   "source": [
    "#hide\n",
    "from nbdev.showdoc import *"
   ]
  },
  {
   "cell_type": "code",
   "execution_count": null,
   "metadata": {},
   "outputs": [],
   "source": [
    "#export\n",
    "import gzip, zlib, base64, pickle\n",
    "from typing import Callable, Optional, List, Dict\n",
    "from beartype import beartype"
   ]
  },
  {
   "cell_type": "markdown",
   "metadata": {},
   "source": [
    "# compress"
   ]
  },
  {
   "cell_type": "markdown",
   "metadata": {},
   "source": [
    "# compress dict"
   ]
  },
  {
   "cell_type": "code",
   "execution_count": null,
   "metadata": {},
   "outputs": [],
   "source": [
    "#export\n",
    "@beartype\n",
    "def compressDict(data:(List,Dict),encoder:Callable= pickle.dumps, \n",
    "                 compressor:Callable=zlib.compress, \n",
    "                 stringifier:Callable = base64.b64encode)->bytes:\n",
    "  compressedData =  compressor(encoder(data))\n",
    "  return stringifier(compressedData)"
   ]
  },
  {
   "cell_type": "code",
   "execution_count": null,
   "metadata": {},
   "outputs": [
    {
     "name": "stdout",
     "output_type": "stream",
     "text": [
      "CPU times: user 190 µs, sys: 20 µs, total: 210 µs\n",
      "Wall time: 170 µs\n"
     ]
    },
    {
     "data": {
      "text/plain": [
       "b'eJxrYJnKywABtVN6WEpSi0umZDAW6wEAQHwGJg=='"
      ]
     },
     "execution_count": null,
     "metadata": {},
     "output_type": "execute_result"
    }
   ],
   "source": [
    "%%time\n",
    "compressDict({'test':'test'})"
   ]
  },
  {
   "cell_type": "code",
   "execution_count": null,
   "metadata": {},
   "outputs": [
    {
     "data": {
      "text/plain": [
       "b'eJxrYJkqwAABsVNqp/SwlKQWl0zJYCpO1AMAWEwHfA=='"
      ]
     },
     "execution_count": null,
     "metadata": {},
     "output_type": "execute_result"
    }
   ],
   "source": [
    "compressDict([{'test':'test'}])"
   ]
  },
  {
   "cell_type": "code",
   "execution_count": null,
   "metadata": {},
   "outputs": [],
   "source": [
    "#export\n",
    "@beartype\n",
    "def decompressDict( data:(bytes,str), \n",
    "                   decoder = pickle.loads, \n",
    "                   decompressor:Callable= zlib.decompress,\n",
    "                   destringifier:Callable = base64.b64decode)->(List,Dict):\n",
    "  compressedData = destringifier(data)\n",
    "  return decoder(decompressor(compressedData))"
   ]
  },
  {
   "cell_type": "code",
   "execution_count": null,
   "metadata": {},
   "outputs": [
    {
     "name": "stdout",
     "output_type": "stream",
     "text": [
      "CPU times: user 318 µs, sys: 35 µs, total: 353 µs\n",
      "Wall time: 918 µs\n"
     ]
    },
    {
     "data": {
      "text/plain": [
       "{'test': 'test'}"
      ]
     },
     "execution_count": null,
     "metadata": {},
     "output_type": "execute_result"
    }
   ],
   "source": [
    "%%time\n",
    "decompressDict(compressDict({'test':'test'}))"
   ]
  },
  {
   "cell_type": "code",
   "execution_count": null,
   "metadata": {},
   "outputs": [
    {
     "name": "stdout",
     "output_type": "stream",
     "text": [
      "CPU times: user 240 µs, sys: 26 µs, total: 266 µs\n",
      "Wall time: 207 µs\n"
     ]
    },
    {
     "data": {
      "text/plain": [
       "[{'test': 'test'}]"
      ]
     },
     "execution_count": null,
     "metadata": {},
     "output_type": "execute_result"
    }
   ],
   "source": [
    "%%time\n",
    "decompressDict(compressDict([{'test':'test'}]))"
   ]
  },
  {
   "cell_type": "markdown",
   "metadata": {},
   "source": [
    "# Compress string"
   ]
  },
  {
   "cell_type": "code",
   "execution_count": null,
   "metadata": {},
   "outputs": [],
   "source": [
    "#export\n",
    "@beartype\n",
    "def compressString(data:str ,\n",
    "                 compressor:Callable=zlib.compress, \n",
    "                 stringifier:Callable = base64.b64encode)->str:\n",
    "  compressedData =  compressor(data.encode())\n",
    "  return stringifier(compressedData).decode()"
   ]
  },
  {
   "cell_type": "code",
   "execution_count": null,
   "metadata": {},
   "outputs": [
    {
     "data": {
      "text/plain": [
       "'eJzLSM3JyQcABiwCFQ=='"
      ]
     },
     "execution_count": null,
     "metadata": {},
     "output_type": "execute_result"
    }
   ],
   "source": [
    "compressString('hello')"
   ]
  },
  {
   "cell_type": "code",
   "execution_count": null,
   "metadata": {},
   "outputs": [],
   "source": [
    "#export\n",
    "@beartype\n",
    "def decompressString(data:(bytes,str), \n",
    "                   decompressor:Callable= zlib.decompress,\n",
    "                   destringifier:Callable = base64.b64decode)->str:\n",
    "  compressedData = destringifier(data)\n",
    "  return decompressor(compressedData).decode()"
   ]
  },
  {
   "cell_type": "code",
   "execution_count": null,
   "metadata": {},
   "outputs": [
    {
     "data": {
      "text/plain": [
       "'hello world my name is nic'"
      ]
     },
     "execution_count": null,
     "metadata": {},
     "output_type": "execute_result"
    }
   ],
   "source": [
    "decompressString(compressString(\"hello world my name is nic\"))"
   ]
  },
  {
   "cell_type": "code",
   "execution_count": null,
   "metadata": {},
   "outputs": [],
   "source": []
  }
 ],
 "metadata": {
  "kernelspec": {
   "display_name": "python38",
   "language": "python",
   "name": "python38"
  }
 },
 "nbformat": 4,
 "nbformat_minor": 4
}
