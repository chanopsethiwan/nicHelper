{
 "cells": [
  {
   "cell_type": "code",
   "execution_count": null,
   "metadata": {},
   "outputs": [],
   "source": [
    "# default_exp colab"
   ]
  },
  {
   "cell_type": "markdown",
   "metadata": {},
   "source": [
    "# colab\n",
    "> helpers for colab"
   ]
  },
  {
   "cell_type": "code",
   "execution_count": null,
   "metadata": {},
   "outputs": [],
   "source": [
    "#hide\n",
    "from nbdev.showdoc import *"
   ]
  },
  {
   "cell_type": "code",
   "execution_count": null,
   "metadata": {},
   "outputs": [],
   "source": [
    "#export\n",
    "from nicHelper.encrypt import encryptPasswordAes, decryptPasswordAes\n",
    "from beartype import beartype\n",
    "from getpass import getpass\n",
    "from functools import partial\n",
    "from typing import Tuple, Optional\n",
    "from getpass import getpass\n",
    "from pathlib import Path\n",
    "import subprocess, pickle, os"
   ]
  },
  {
   "cell_type": "markdown",
   "metadata": {},
   "source": [
    "# save aws pw"
   ]
  },
  {
   "cell_type": "code",
   "execution_count": null,
   "metadata": {},
   "outputs": [],
   "source": [
    "#export\n",
    "@beartype\n",
    "def saveAwsPw(awskey:bytes, awssecret:bytes,\n",
    "              path:str = '/content/drive/MyDrive/.awskey', password:bytes = b''):\n",
    "  '''\n",
    "    save your aws password in your \n",
    "  '''\n",
    "\n",
    "  # encrypt with aes\n",
    "  encrypt = partial(encryptPasswordAes, password)\n",
    "  cryptkey, keynonce = encrypt(awskey)\n",
    "  cryptsecret, secretnonce = encrypt(awssecret)\n",
    "  \n",
    "  # save file as pickle\n",
    "  print(f'saving the AES encrypted credentials to {path}')\n",
    "  with open (path ,'wb') as f:\n",
    "    pickle.dump((cryptkey, cryptsecret, keynonce, secretnonce),f)\n",
    "  "
   ]
  },
  {
   "cell_type": "code",
   "execution_count": null,
   "metadata": {},
   "outputs": [
    {
     "name": "stdout",
     "output_type": "stream",
     "text": [
      "saving the AES encrypted credentials to /tmp/test\n",
      "(b'\\xe3\\xd5\\xd1#', b'&\\xd5\\xd6b\\xd6+[j', b\"'\\x0e.\\x99M;\\\\\\x9f`$=v\\xf0\\x8b\\x19\\xec\", b'`\\xf8+\\xd3jd8\\xc5\\x9a\\x7fK\\x93\\xb8esm')\n"
     ]
    }
   ],
   "source": [
    "def test_saveAwsPw():\n",
    "  # enter password == test ##\n",
    "  saveAwsPw(awskey = b'test', awssecret=b'password', path = '/tmp/test', password = b'test')\n",
    "  with open ('/tmp/test', 'rb') as f:\n",
    "    r = pickle.load(f)\n",
    "  print(r)\n",
    "test_saveAwsPw()"
   ]
  },
  {
   "cell_type": "markdown",
   "metadata": {},
   "source": [
    "# load aws pw"
   ]
  },
  {
   "cell_type": "code",
   "execution_count": null,
   "metadata": {},
   "outputs": [],
   "source": [
    "#export\n",
    "@beartype\n",
    "def loadAwsPw(path = '/content/drive/MyDrive/.awskey', \n",
    "              password:Optional[bytes] = b'' )->Optional[Tuple[bytes,bytes]]:\n",
    "  '''\n",
    "    load key and secret from path\n",
    "  '''\n",
    "  print( f'loading password from {path}')\n",
    "  \n",
    "  with open (path, 'rb') as f:\n",
    "    cryptkey, cryptsecret, keynonce, secretnonce = pickle.load(f)\n",
    "  decryptedKey = decryptPasswordAes(cryptkey,password,keynonce)\n",
    "  decryptedSecret = decryptPasswordAes(cryptsecret, password, secretnonce)\n",
    "  return decryptedKey, decryptedSecret\n",
    "  "
   ]
  },
  {
   "cell_type": "code",
   "execution_count": null,
   "metadata": {},
   "outputs": [
    {
     "name": "stdout",
     "output_type": "stream",
     "text": [
      "loading password from /tmp/test\n",
      "(b'test', b'password')\n"
     ]
    }
   ],
   "source": [
    "def test_loadAwsPw():\n",
    "  r = loadAwsPw(path = '/tmp/test', password = b'test')\n",
    "  print(r)\n",
    "test_loadAwsPw()"
   ]
  },
  {
   "cell_type": "markdown",
   "metadata": {},
   "source": [
    "# set up aws"
   ]
  },
  {
   "cell_type": "code",
   "execution_count": null,
   "metadata": {},
   "outputs": [],
   "source": [
    "#export\n",
    "@beartype\n",
    "def setUpAws(awsKey:str, awsSecret:str, \n",
    "             profile:Optional[str] = None, region:str = 'ap-southeast-1')->Tuple[str,str,str]:\n",
    "  ''' \n",
    "    this code generate a string to be executed to the shell\n",
    "    you can do this with, however, its not a bad idea to check before executing\n",
    "    \n",
    "    (exec(c) for c in setUpAws(...))\n",
    "    \n",
    "    response:\n",
    "      (setupKey, setupSecret, setupRegion)\n",
    "      \n",
    "  '''\n",
    "  if profile:  profileParameter = f'--profile {profile} '\n",
    "  else: profileParameter = ''\n",
    "    \n",
    "  setupPrefix = f'aws configure {profileParameter}'\n",
    "  setupKey = f'{setupPrefix}set aws_access_key_id {awsKey}'\n",
    "  setupSecret = f'{setupPrefix}set aws_secret_access_key {awsSecret}'\n",
    "  setupRegion = f'{setupPrefix}set default.region {region}'\n",
    "  return (setupKey, setupSecret, setupRegion)\n",
    " \n",
    "  "
   ]
  },
  {
   "cell_type": "code",
   "execution_count": null,
   "metadata": {},
   "outputs": [
    {
     "name": "stdout",
     "output_type": "stream",
     "text": [
      "('aws configure --profile testProfile set aws_access_key_id test', 'aws configure --profile testProfile set aws_secret_access_key secret', 'aws configure --profile testProfile set default.region ap-southeast-1')\n"
     ]
    }
   ],
   "source": [
    "def testSetUpAws():\n",
    "  r = setUpAws('test', 'secret', 'testProfile')\n",
    "  print(r)\n",
    "testSetUpAws()"
   ]
  },
  {
   "cell_type": "code",
   "execution_count": null,
   "metadata": {},
   "outputs": [],
   "source": [
    "#export\n",
    "@beartype\n",
    "def setUpAws2(awsKey:str, awsSecret:str, \n",
    "             profile:Optional[str] = None, region:str = 'ap-southeast-1')->Tuple[str,str]:\n",
    "  \n",
    "  configString = f'''[{profile or 'default'}]\\nregion = {region}\\noutput = json'''\n",
    "  \n",
    "  credentialString =  f'''[{profile or 'default'}]\\naws_access_key_id = {awsKey}\\naws_secret_access_key = {awsSecret}''' \n",
    "  return configString, credentialString"
   ]
  },
  {
   "cell_type": "markdown",
   "metadata": {},
   "source": [
    "### Shield strings\n",
    "shield the secrets"
   ]
  },
  {
   "cell_type": "code",
   "execution_count": null,
   "metadata": {},
   "outputs": [],
   "source": [
    "#export\n",
    "def shieldStrings(strings):\n",
    "  r = ''\n",
    "  for line in strings.split('\\n'):\n",
    "    words = line.split(' ')\n",
    "    r += ' '.join(words[:2] + [f'{\"*\" * len(words[2])}' if len(line.split(' ')) == 3 else '']) + '\\n'\n",
    "  return r"
   ]
  },
  {
   "cell_type": "code",
   "execution_count": null,
   "metadata": {},
   "outputs": [
    {
     "name": "stdout",
     "output_type": "stream",
     "text": [
      "[testProfile] \n",
      "region = **************\n",
      "output = ****\n",
      "\n",
      "[testProfile] \n",
      "aws_access_key_id = ****\n",
      "aws_secret_access_key = ******\n",
      "\n"
     ]
    }
   ],
   "source": [
    "def testSetUpAws2():\n",
    "  i,j = setUpAws2('test', 'secret', 'testProfile')\n",
    "  print(shieldStrings(i))\n",
    "  print(shieldStrings(j))\n",
    "  \n",
    "testSetUpAws2()"
   ]
  },
  {
   "cell_type": "markdown",
   "metadata": {},
   "source": [
    "# autosetup aws"
   ]
  },
  {
   "cell_type": "code",
   "execution_count": null,
   "metadata": {},
   "outputs": [],
   "source": [
    "#export\n",
    "@beartype\n",
    "def autoSetupAws(path:str, profile:Optional[str]=None, region:str='ap-southeast-1', mockup:bool = False, password:Optional[bytes] = None):\n",
    "  key, secret = loadAwsPw(path, password=password) # key and secret in bytes\n",
    "  try:\n",
    "    key, secret = key.decode(), secret.decode()\n",
    "  except:\n",
    "    print('cant decode key and secret, maybe the password is wrong')\n",
    "    return\n",
    "    \n",
    "  config, creds = setUpAws2(awsKey=key,\n",
    "                          awsSecret=secret,\n",
    "                          profile=profile,\n",
    "                          region=region)\n",
    "  print('config is :', shieldStrings(config), shieldStrings(creds), sep='\\n')\n",
    "  \n",
    "  \n",
    "  # check if reunning in colab\n",
    "  isColab =  'google.colab' in str(get_ipython())\n",
    "  if isColab:\n",
    "    print('Running on CoLab')\n",
    "  else:\n",
    "    print('Not running on colab')\n",
    "    \n",
    "  awsPath = f'{Path.home()}/.aws'\n",
    "  print(f'awspath is {awsPath}')\n",
    "    \n",
    "  if isColab:\n",
    "    print('creating a folder')\n",
    "    try:\n",
    "      os.mkdir(awsPath)\n",
    "    except:\n",
    "      print('path exist')\n",
    "    awsPath = f'{Path.home()}/.aws'\n",
    "    print('writing creds files')\n",
    "    with open (f'{awsPath}/credentials', 'w') as f:\n",
    "      f.write(creds)\n",
    "    with open (f'{awsPath}/config', 'w') as f:\n",
    "      f.write(config)\n",
    "  else:\n",
    "    print('not colab')"
   ]
  },
  {
   "cell_type": "code",
   "execution_count": null,
   "metadata": {},
   "outputs": [
    {
     "name": "stdout",
     "output_type": "stream",
     "text": [
      "loading password from /tmp/test\n",
      "config is :\n",
      "[default] \n",
      "region = **************\n",
      "output = ****\n",
      "\n",
      "[default] \n",
      "aws_access_key_id = ****\n",
      "aws_secret_access_key = ********\n",
      "\n",
      "Not running on colab\n",
      "awspath is /home/ec2-user/.aws\n",
      "not colab\n",
      "test successful\n",
      "loading password from /tmp/test\n",
      "cant decode key and secret, maybe the password is wrong\n"
     ]
    }
   ],
   "source": [
    "def testAutoSetupAws():\n",
    "  autoSetupAws(path = '/tmp/test', password=b'test')\n",
    "  print('test successful')\n",
    "  autoSetupAws(path = '/tmp/test', password=b'tst')\n",
    "testAutoSetupAws()"
   ]
  },
  {
   "cell_type": "code",
   "execution_count": null,
   "metadata": {},
   "outputs": [],
   "source": []
  }
 ],
 "metadata": {
  "kernelspec": {
   "display_name": "python38",
   "language": "python",
   "name": "python38"
  }
 },
 "nbformat": 4,
 "nbformat_minor": 4
}
