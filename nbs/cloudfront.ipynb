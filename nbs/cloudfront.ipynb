{
 "cells": [
  {
   "cell_type": "code",
   "execution_count": null,
   "metadata": {},
   "outputs": [],
   "source": [
    "#default_exp cloudfront"
   ]
  },
  {
   "cell_type": "markdown",
   "metadata": {},
   "source": [
    "# cloudfront\n",
    "apis of cloudfront"
   ]
  },
  {
   "cell_type": "code",
   "execution_count": null,
   "metadata": {},
   "outputs": [],
   "source": [
    "#export\n",
    "import boto3, time\n",
    "from beartype import beartype"
   ]
  },
  {
   "cell_type": "code",
   "execution_count": null,
   "metadata": {},
   "outputs": [],
   "source": [
    "#export\n",
    "@beartype\n",
    "def invalidate(distributionId:str, path:str='/*')->str:\n",
    "  ''' \n",
    "    create a cloudfront invalidation\n",
    "    parameters:\n",
    "      distributionId:str: distribution id of the cf distribution\n",
    "      path:str: path to invalidate, can use wildcard eg. \"/*\" means all path\n",
    "    response:\n",
    "      invalidationId: \n",
    "  '''\n",
    "  cf = boto3.client('cloudfront')\n",
    "  # Create CloudFront invalidation\n",
    "  res = cf.create_invalidation(\n",
    "      DistributionId=distributionId,\n",
    "      InvalidationBatch={\n",
    "          'Paths': {\n",
    "              'Quantity': 1,\n",
    "              'Items': [\n",
    "                  path\n",
    "              ]\n",
    "          },\n",
    "          'CallerReference': str(time.time()).replace(\".\", \"\")\n",
    "      }\n",
    "  )\n",
    "  invalidation_id = res['Invalidation']['Id']\n",
    "  return invalidation_id"
   ]
  },
  {
   "cell_type": "code",
   "execution_count": null,
   "metadata": {},
   "outputs": [
    {
     "data": {
      "text/plain": [
       "'I17JY551XR99VY'"
      ]
     },
     "execution_count": null,
     "metadata": {},
     "output_type": "execute_result"
    }
   ],
   "source": [
    "invalidate('E1I41NH6AGDJM8', path='/public/imagenames/*')"
   ]
  },
  {
   "cell_type": "code",
   "execution_count": null,
   "metadata": {},
   "outputs": [],
   "source": []
  }
 ],
 "metadata": {
  "kernelspec": {
   "display_name": "python38",
   "language": "python",
   "name": "python38"
  }
 },
 "nbformat": 4,
 "nbformat_minor": 4
}
