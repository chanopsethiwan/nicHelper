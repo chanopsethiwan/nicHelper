{
 "cells": [
  {
   "cell_type": "code",
   "execution_count": null,
   "metadata": {},
   "outputs": [],
   "source": [
    "# default_exp schema"
   ]
  },
  {
   "cell_type": "markdown",
   "metadata": {},
   "source": [
    "# schema\n",
    "> checking dictionaries based on json schema"
   ]
  },
  {
   "cell_type": "code",
   "execution_count": null,
   "metadata": {},
   "outputs": [],
   "source": [
    "#export\n",
    "import jsonschema, requests, yaml\n",
    "from types import SimpleNamespace"
   ]
  },
  {
   "cell_type": "markdown",
   "metadata": {},
   "source": [
    "# Get schema from path"
   ]
  },
  {
   "cell_type": "code",
   "execution_count": null,
   "metadata": {},
   "outputs": [],
   "source": [
    "#export\n",
    "import dpath.util\n",
    "def getSchemaPath(schemaUrl:str, path:str='/', isYaml = True):\n",
    "  '''\n",
    "  get a nested schema from path \\n \n",
    "  schemaUrl: str: url of the schema \\n\n",
    "  path: str: path of the schema, if root then path='/' \\n\n",
    "  isYaml: Bool: is the schema yaml (false indicates that the schema is json), default = True \n",
    "  '''\n",
    "  if isYaml:\n",
    "    schema = yaml.load(requests.get(schemaUrl).text, Loader= yaml.Loader)\n",
    "  else:\n",
    "    schema = requests.get(schemaUrl).json()\n",
    "  return dpath.util.get(schema, path)"
   ]
  },
  {
   "cell_type": "code",
   "execution_count": null,
   "metadata": {},
   "outputs": [
    {
     "data": {
      "text/plain": [
       "{'type': 'object',\n",
       " 'required': ['id',\n",
       "  'type',\n",
       "  'street_address',\n",
       "  'city',\n",
       "  'state',\n",
       "  'zip',\n",
       "  'capacity',\n",
       "  'status'],\n",
       " 'properties': {'id': {'type': 'string', 'format': 'uuid'},\n",
       "  'type': {'type': 'string', 'enum': ['pick up', 'drop off', 'overnight']},\n",
       "  'street_address': {'type': 'string'},\n",
       "  'city': {'type': 'string'},\n",
       "  'state': {'type': 'string',\n",
       "   'pattern': '^(?:(A[KLRZ]|C[AOT]|D[CE]|FL|GA|HI|I[ADLN]|K[SY]|LA|M[ADEINOST]|N[CDEHJMVY]|O[HKR]|PA|RI|S[CD]|T[NX]|UT|V[AT]|W[AIVY]))$'},\n",
       "  'zip': {'type': 'string', 'pattern': '(^\\\\d{5}$)|(^\\\\d{5}-\\\\d{4}$)'},\n",
       "  'status': {'type': 'string', 'enum': ['open', 'in use']},\n",
       "  'created': {'type': 'string', 'format': 'date-time'},\n",
       "  'modified': {'type': 'string', 'format': 'date-time'}}}"
      ]
     },
     "execution_count": null,
     "metadata": {},
     "output_type": "execute_result"
    }
   ],
   "source": [
    "testSchema = 'https://gist.githubusercontent.com/thanakijwanavit/e2720d091ae0cef710a49b57c0c9cd4c/raw/ed2d322eac4900ee0f95b431d0f9067a40f3e0f0/squirrelOpenApiV0.0.3.yaml'\n",
    "path = 'components/schemas/Location'\n",
    "getSchemaPath(testSchema, path)"
   ]
  },
  {
   "cell_type": "markdown",
   "metadata": {},
   "source": [
    "# Validate Url"
   ]
  },
  {
   "cell_type": "code",
   "execution_count": null,
   "metadata": {},
   "outputs": [],
   "source": [
    "#export\n",
    "def validateUrl(url,input_, format_ = 'json', headers = {'Cache-Control': 'no-cache'}, path = '/'):\n",
    "  '''\n",
    "  verifies whether the input_ is valid under the schema located at path in the url \\n\n",
    "  url: str: url where the schema file is located \\n\n",
    "  input_: the input to be validated \\n\n",
    "  format_: str: the format of the schema; can be 'yaml' or 'json', default = 'json' \\n\n",
    "  headers: dict: dictionary of HTTP headers to send with the get request to retrieve the schema \\n\n",
    "  path: str: path of the schema within the file, if root then path='/'\n",
    "  '''\n",
    "  if format_ == 'yaml':\n",
    "    schema = getSchemaPath(url, path = path, isYaml = True)\n",
    "  elif format_ == 'json':\n",
    "    schema = getSchemaPath(url, path = path, isYaml = False)\n",
    "  else:\n",
    "    print('invalid schema format, using json')\n",
    "    schema = requests.get(url).json()\n",
    "  res = jsonschema.validate(input_,schema)\n",
    "  return SimpleNamespace(**input_)"
   ]
  },
  {
   "cell_type": "markdown",
   "metadata": {},
   "source": [
    "### test json"
   ]
  },
  {
   "cell_type": "code",
   "execution_count": null,
   "metadata": {},
   "outputs": [
    {
     "data": {
      "text/plain": [
       "namespace(cprcode=123, iprcode=4, oprCode='123')"
      ]
     },
     "execution_count": null,
     "metadata": {},
     "output_type": "execute_result"
    }
   ],
   "source": [
    "url = 'https://raw.githubusercontent.com/thanakijwanavit/villaMasterSchema/master/Product.json'\n",
    "input_ = {'iprcode': 4, 'cprcode': 123 , 'oprCode': '123'}\n",
    "validateUrl(url, input_)"
   ]
  },
  {
   "cell_type": "markdown",
   "metadata": {},
   "source": [
    "#### error json"
   ]
  },
  {
   "cell_type": "code",
   "execution_count": null,
   "metadata": {},
   "outputs": [
    {
     "name": "stdout",
     "output_type": "stream",
     "text": [
      "[{'cprcode': '0171670', 'iprcode': '0171670', 'oprcode': '0171670', 'ordertype': 'Y', 'pr_abb': 'JIRAPAT YOUNG KALE 2', 'pr_active': 'Y', 'pr_cgcode': '05', 'pr_code': '0171670', 'pr_dpcode': '19', 'pr_engname': 'JIRAAT YOUNG KALE 200 G.', 'pr_ggcode': '057', 'pr_market': 'JIRAPAT ยอดคะน้า 200 G.', 'pr_name': 'JIRAPAT ยอดคะน้า 200 G.', 'pr_puqty': '1', 'pr_sa_method': '1', 'pr_sucode1': 'CM845', 'pr_suref3': 'A', 'prtype': 'I', 'psqty': '1', 'pstype': '1'}] is not of type 'object'\n",
      "\n",
      "Failed validating 'type' in schema:\n",
      "    {'$schema': 'http://json-schema.org/draft-06/schema#',\n",
      "     'definitions': {'Product': {'description': 'Product(iprcode: int, '\n",
      "                                                'cprcode: int)',\n",
      "                                 'properties': {'cprcode': {'type': 'integer'},\n",
      "                                                'iprcode': {'type': 'integer'}},\n",
      "                                 'required': ['iprcode', 'cprcode'],\n",
      "                                 'type': 'object'}},\n",
      "     'description': 'ValueUpdate(items: List[__main__.Product])',\n",
      "     'properties': {'items': {'items': {'$ref': '#/definitions/Product'},\n",
      "                              'type': 'array'}},\n",
      "     'required': ['items'],\n",
      "     'type': 'object'}\n",
      "\n",
      "On instance:\n",
      "    [{'cprcode': '0171670',\n",
      "      'iprcode': '0171670',\n",
      "      'oprcode': '0171670',\n",
      "      'ordertype': 'Y',\n",
      "      'pr_abb': 'JIRAPAT YOUNG KALE 2',\n",
      "      'pr_active': 'Y',\n",
      "      'pr_cgcode': '05',\n",
      "      'pr_code': '0171670',\n",
      "      'pr_dpcode': '19',\n",
      "      'pr_engname': 'JIRAAT YOUNG KALE 200 G.',\n",
      "      'pr_ggcode': '057',\n",
      "      'pr_market': 'JIRAPAT ยอดคะน้า 200 G.',\n",
      "      'pr_name': 'JIRAPAT ยอดคะน้า 200 G.',\n",
      "      'pr_puqty': '1',\n",
      "      'pr_sa_method': '1',\n",
      "      'pr_sucode1': 'CM845',\n",
      "      'pr_suref3': 'A',\n",
      "      'prtype': 'I',\n",
      "      'psqty': '1',\n",
      "      'pstype': '1'}]\n"
     ]
    }
   ],
   "source": [
    "errorProduct = [{ 'cprcode': '0171670', 'iprcode': '0171670', 'oprcode': '0171670', 'ordertype': 'Y', 'pr_abb': 'JIRAPAT YOUNG KALE 2', 'pr_active': 'Y', 'pr_cgcode': '05', 'pr_code': '0171670', 'pr_dpcode': '19', 'pr_engname': 'JIRAAT YOUNG KALE 200 G.', 'pr_ggcode': '057', 'pr_market': 'JIRAPAT ยอดคะน้า 200 G.', 'pr_name': 'JIRAPAT ยอดคะน้า 200 G.', 'pr_puqty': '1', 'pr_sa_method': '1', 'pr_sucode1': 'CM845', 'pr_suref3': 'A', 'prtype': 'I', 'psqty': '1', 'pstype': '1'}] #ProductDatabase.valueUpdate({'items':sampleProducts})\n",
    "url = 'https://raw.githubusercontent.com/thanakijwanavit/villaMasterSchema/master/valueUpdate.json'\n",
    "try:\n",
    "  validateUrl(url, errorProduct)\n",
    "except Exception as e:\n",
    "  print(f'{e}')"
   ]
  },
  {
   "cell_type": "markdown",
   "metadata": {},
   "source": [
    "### test yaml"
   ]
  },
  {
   "cell_type": "code",
   "execution_count": null,
   "metadata": {},
   "outputs": [
    {
     "name": "stdout",
     "output_type": "stream",
     "text": [
      "namespace(cprcode=123, iprcode=4, oprCode='123')\n"
     ]
    }
   ],
   "source": [
    "##success\n",
    "url = 'https://gist.githubusercontent.com/thanakijwanavit/241c4cc443f39ea096820f5dfb84017d/raw/61694a0c5fbac3f6408fbb11217cc4265d38e38d/sampleYaml.yaml'\n",
    "input_ = {'iprcode': 4, 'cprcode': 123 , 'oprCode': '123'}\n",
    "print(validateUrl(url, input_, format_='yaml'))"
   ]
  },
  {
   "cell_type": "markdown",
   "metadata": {},
   "source": [
    "#### error yaml"
   ]
  },
  {
   "cell_type": "code",
   "execution_count": null,
   "metadata": {},
   "outputs": [
    {
     "name": "stdout",
     "output_type": "stream",
     "text": [
      "[{'cprcode': '0171670', 'iprcode': '0171670', 'oprcode': '0171670', 'ordertype': 'Y', 'pr_abb': 'JIRAPAT YOUNG KALE 2', 'pr_active': 'Y', 'pr_cgcode': '05', 'pr_code': '0171670', 'pr_dpcode': '19', 'pr_engname': 'JIRAAT YOUNG KALE 200 G.', 'pr_ggcode': '057', 'pr_market': 'JIRAPAT ยอดคะน้า 200 G.', 'pr_name': 'JIRAPAT ยอดคะน้า 200 G.', 'pr_puqty': '1', 'pr_sa_method': '1', 'pr_sucode1': 'CM845', 'pr_suref3': 'A', 'prtype': 'I', 'psqty': '1', 'pstype': '1'}] is not of type 'object'\n",
      "\n",
      "Failed validating 'type' in schema:\n",
      "    {'$schema': 'http://json-schema.org/schema#',\n",
      "     'properties': {'cprcode': {'type': 'integer'},\n",
      "                    'iprcode': {'type': 'integer'},\n",
      "                    'oprCode': {'type': 'string'}},\n",
      "     'required': ['cprcode', 'iprcode', 'oprCode'],\n",
      "     'type': 'object'}\n",
      "\n",
      "On instance:\n",
      "    [{'cprcode': '0171670',\n",
      "      'iprcode': '0171670',\n",
      "      'oprcode': '0171670',\n",
      "      'ordertype': 'Y',\n",
      "      'pr_abb': 'JIRAPAT YOUNG KALE 2',\n",
      "      'pr_active': 'Y',\n",
      "      'pr_cgcode': '05',\n",
      "      'pr_code': '0171670',\n",
      "      'pr_dpcode': '19',\n",
      "      'pr_engname': 'JIRAAT YOUNG KALE 200 G.',\n",
      "      'pr_ggcode': '057',\n",
      "      'pr_market': 'JIRAPAT ยอดคะน้า 200 G.',\n",
      "      'pr_name': 'JIRAPAT ยอดคะน้า 200 G.',\n",
      "      'pr_puqty': '1',\n",
      "      'pr_sa_method': '1',\n",
      "      'pr_sucode1': 'CM845',\n",
      "      'pr_suref3': 'A',\n",
      "      'prtype': 'I',\n",
      "      'psqty': '1',\n",
      "      'pstype': '1'}]\n"
     ]
    }
   ],
   "source": [
    "## failure\n",
    "try:\n",
    "  print(validateUrl(url, errorProduct, format_='yaml'))\n",
    "except Exception as e:\n",
    "  print(f'{e}')"
   ]
  },
  {
   "cell_type": "markdown",
   "metadata": {},
   "source": [
    "## convert type to comply with json schema"
   ]
  },
  {
   "cell_type": "code",
   "execution_count": null,
   "metadata": {},
   "outputs": [],
   "source": [
    "#export\n",
    "typeMap = {'string': str, 'number': float, 'integer': int, 'object': dict, 'array': list, 'boolean': bool, 'null': None}\n",
    "def getTypes(schemaUrl:str, typeMap:dict=typeMap)->dict:\n",
    "  '''\n",
    "  get python types from json schema \\n\n",
    "  schemaUrl: str: url where the schema file is located \\n\n",
    "  typeMap: dict: the dictionary that matches the key to its corresponding data type\n",
    "  '''\n",
    "  r = requests.get(schemaUrl)\n",
    "  s = yaml.load(r.text, Loader=yaml.FullLoader)\n",
    "  properties = s['properties']\n",
    "  dtypes = {k: typeMap.get(v['type']) for k,v in properties.items(), 'Unidentifiable Type'}\n",
    "  return dtypes"
   ]
  },
  {
   "cell_type": "code",
   "execution_count": null,
   "metadata": {},
   "outputs": [
    {
     "data": {
      "text/plain": [
       "{'iprcode': int,\n",
       " 'brcode': int,\n",
       " 'ib_cf_qty': int,\n",
       " 'new_ib_vs_stock_cv': int,\n",
       " 'onlineflag': bool}"
      ]
     },
     "execution_count": null,
     "metadata": {},
     "output_type": "execute_result"
    }
   ],
   "source": [
    "url = 'https://raw.githubusercontent.com/thanakijwanavit/villaMasterSchema/dev-manual/inventory/inventory.yaml'\n",
    "getTypes(url)"
   ]
  },
  {
   "cell_type": "code",
   "execution_count": null,
   "metadata": {},
   "outputs": [],
   "source": [
    "#export\n",
    "def typeMapJsonSchema(url:str, input_:dict = {}, typeMap:dict = typeMap, defaultType=str):\n",
    "  '''\n",
    "  try to map the datatype into the one specified in url of json schema. \\n \n",
    "  if type is not found, the defaultType is used \\n\n",
    "  url: str where the schema file is located \\n\n",
    "  typeMap: dict: the dictionary that matches the key to its corresponding data type \\n\n",
    "  defaultType: set the default type if a type is not specified\n",
    "  '''\n",
    "  typesDict = getTypes(url, typeMap=typeMap) # get dtype from schema url\n",
    "  print(f'typesDict is: {typesDict}')\n",
    "  convertedInput = {k: (typesDict.get(k) or defaultType)(v) for k,v in input_.items()}\n",
    "  return convertedInput"
   ]
  },
  {
   "cell_type": "code",
   "execution_count": null,
   "metadata": {},
   "outputs": [
    {
     "name": "stdout",
     "output_type": "stream",
     "text": [
      "typesDict is: {'iprcode': <class 'int'>, 'brcode': <class 'int'>, 'ib_cf_qty': <class 'int'>, 'new_ib_vs_stock_cv': <class 'int'>, 'onlineflag': <class 'bool'>}\n"
     ]
    },
    {
     "data": {
      "text/plain": [
       "{'iprcode': 9,\n",
       " 'brcode': 1000,\n",
       " 'ib_cf_qty': 50,\n",
       " 'new_ib_vs_stock_cv': 27,\n",
       " 'onlineflag': True}"
      ]
     },
     "execution_count": null,
     "metadata": {},
     "output_type": "execute_result"
    }
   ],
   "source": [
    "url = 'https://raw.githubusercontent.com/thanakijwanavit/villaMasterSchema/dev-manual/inventory/inventory.yaml'\n",
    "inv = {\n",
    "                  'iprcode': '0000009',\n",
    "                  'brcode': '1000',\n",
    "                  'ib_cf_qty': '50',\n",
    "                  'new_ib_vs_stock_cv': '27',\n",
    "                  'onlineflag': True\n",
    "                }\n",
    "typeMapJsonSchema(url, input_=inv)"
   ]
  },
  {
   "cell_type": "code",
   "execution_count": null,
   "metadata": {},
   "outputs": [
    {
     "name": "stdout",
     "output_type": "stream",
     "text": [
      "typesDict is: {'iprcode': <class 'int'>, 'brcode': <class 'int'>, 'ib_cf_qty': <class 'int'>, 'new_ib_vs_stock_cv': <class 'int'>, 'onlineflag': <class 'bool'>}\n"
     ]
    },
    {
     "data": {
      "text/plain": [
       "{'iprcode': 9,\n",
       " 'brcode': 1000,\n",
       " 'ib_cf_qty': 50,\n",
       " 'new_ib_vs_stock_cv': 27,\n",
       " 'onlineflag': True}"
      ]
     },
     "execution_count": null,
     "metadata": {},
     "output_type": "execute_result"
    }
   ],
   "source": [
    "typeMapJsonSchema(url, input_=inv)"
   ]
  },
  {
   "cell_type": "markdown",
   "metadata": {},
   "source": [
    "# experimental code"
   ]
  },
  {
   "cell_type": "code",
   "execution_count": null,
   "metadata": {},
   "outputs": [
    {
     "name": "stdout",
     "output_type": "stream",
     "text": [
      "\"[{'cprcode':[1,2,3],'groupId':1171,'groupame':'Vegetables','level':1,'user':'1234'},{'cprcode':[7,8],'groupId':1191,'groupame':'Carbohydrates','subGroup':'[1,2,3]','user':'929292'},{'cprcode':[11,12],'groupId':1251,'groupame':'Proteis','user':'29420'},{'baerType':0,'categoryLv1':'hello','cprcode':[7,8],'descriptio':'hi','eabled':1,'edDate':23,'groupId':1271,'groupame':'Fruits','isBaer':1,'level':3,'slotIdex':2,'startDate':10,'subGroup':'[1,2,3]','user':'929292'}]isotoftype'object'Failedvalidatig'type'ischema:{'properties':{'baerType':{'type':'iteger'},'categoryLv1':{'type':'strig'},'cprcode':{'items':{'type':'iteger'},'type':'array'},'descriptio':{'type':'strig'},'eabled':{'type':'iteger'},'edDate':{'type':'iteger'},'groupId':{'type':'iteger'},'groupame':{'type':'strig'},'isBaer':{'type':'iteger'},'level':{'type':'iteger'},'slotIdex':{'type':'iteger'},'startDate':{'type':'iteger'},'subGroup':{'type':'strig'},'user':{'type':'strig'}},'required':['cprcode','groupId','groupame','user'],'type':'object'}Oistace:[{'cprcode':[1,2,3],'groupId':1171,'groupame':'Vegetables','level':1,'user':'1234'},{'cprcode':[7,8],'groupId':1191,'groupame':'Carbohydrates','subGroup':'[1,2,3]','user':'929292'},{'cprcode':[11,12],'groupId':1251,'groupame':'Proteis','user':'29420'},{'baerType':0,'categoryLv1':'hello','cprcode':[7,8],'descriptio':'hi','eabled':1,'edDate':23,'groupId':1271,'groupame':'Fruits','isBaer':1,'level':3,'slotIdex':2,'startDate':10,'subGroup':'[1,2,3]','user':'929292'})\"\n"
     ]
    }
   ],
   "source": [
    "#hide\n",
    "from pprint import pprint\n",
    "pprint(\"[{'cprcode':[1,2,3],'groupId':1171,'groupame':'Vegetables','level':1,'user':'1234'},{'cprcode':[7,8],'groupId':1191,'groupame':'Carbohydrates','subGroup':'[1,2,3]','user':'929292'},{'cprcode':[11,12],'groupId':1251,'groupame':'Proteis','user':'29420'},{'baerType':0,'categoryLv1':'hello','cprcode':[7,8],'descriptio':'hi','eabled':1,'edDate':23,'groupId':1271,'groupame':'Fruits','isBaer':1,'level':3,'slotIdex':2,'startDate':10,'subGroup':'[1,2,3]','user':'929292'}]isotoftype'object'Failedvalidatig'type'ischema:{'properties':{'baerType':{'type':'iteger'},'categoryLv1':{'type':'strig'},'cprcode':{'items':{'type':'iteger'},'type':'array'},'descriptio':{'type':'strig'},'eabled':{'type':'iteger'},'edDate':{'type':'iteger'},'groupId':{'type':'iteger'},'groupame':{'type':'strig'},'isBaer':{'type':'iteger'},'level':{'type':'iteger'},'slotIdex':{'type':'iteger'},'startDate':{'type':'iteger'},'subGroup':{'type':'strig'},'user':{'type':'strig'}},'required':['cprcode','groupId','groupame','user'],'type':'object'}Oistace:[{'cprcode':[1,2,3],'groupId':1171,'groupame':'Vegetables','level':1,'user':'1234'},{'cprcode':[7,8],'groupId':1191,'groupame':'Carbohydrates','subGroup':'[1,2,3]','user':'929292'},{'cprcode':[11,12],'groupId':1251,'groupame':'Proteis','user':'29420'},{'baerType':0,'categoryLv1':'hello','cprcode':[7,8],'descriptio':'hi','eabled':1,'edDate':23,'groupId':1271,'groupame':'Fruits','isBaer':1,'level':3,'slotIdex':2,'startDate':10,'subGroup':'[1,2,3]','user':'929292'})\")"
   ]
  },
  {
   "cell_type": "code",
   "execution_count": null,
   "metadata": {},
   "outputs": [],
   "source": []
  }
 ],
 "metadata": {
  "kernelspec": {
   "display_name": "conda_python38",
   "language": "python",
   "name": "conda_python38"
  }
 },
 "nbformat": 4,
 "nbformat_minor": 4
}
