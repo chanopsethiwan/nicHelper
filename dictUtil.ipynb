{
 "cells": [
  {
   "cell_type": "code",
   "execution_count": null,
   "metadata": {},
   "outputs": [],
   "source": [
    "# default_exp dictUtil"
   ]
  },
  {
   "cell_type": "code",
   "execution_count": null,
   "metadata": {},
   "outputs": [],
   "source": [
    "#export\n",
    "def printDict(d:dict, length:int = 10, space = 0):\n",
    "  '''print dictionary as first x value of values'''\n",
    "  if type(d) != dict:\n",
    "    print('this is not a dict')\n",
    "    print(d)\n",
    "  else:\n",
    "    for k, v in d.items():\n",
    "      if type(v) == dict:\n",
    "        print(f\"{' '*space}{k}\")\n",
    "        printDict(v, space=space+1)\n",
    "      else:\n",
    "        print(f\"{' '*space}{k} : {v[:length] if type(v)==str else v}\")"
   ]
  },
  {
   "cell_type": "code",
   "execution_count": null,
   "metadata": {},
   "outputs": [
    {
     "name": "stdout",
     "output_type": "stream",
     "text": [
      "key : sjfhdkljha\n",
      "nestedKey\n",
      " nestedKey2 : 9380238408\n",
      " nested3\n",
      "  nested4 : hello\n"
     ]
    }
   ],
   "source": [
    "printDict({'key':'sjfhdkljhafsdlkjhdfaslkjhkljfadshklhfa', 'nestedKey':{'nestedKey2':'938023840843', 'nested3':{'nested4':'hello'}}})"
   ]
  },
  {
   "cell_type": "code",
   "execution_count": null,
   "metadata": {},
   "outputs": [],
   "source": [
    "#export\n",
    "def allKeysInDict(inputDict:dict, keys:list):\n",
    "  return all(key in inputDict for key in keys)"
   ]
  },
  {
   "cell_type": "code",
   "execution_count": null,
   "metadata": {},
   "outputs": [
    {
     "name": "stdout",
     "output_type": "stream",
     "text": [
      "True\n",
      "False\n"
     ]
    }
   ],
   "source": [
    "inputDict = {\"user\":\"nic\",\"phone\":\"+66816684442\",\"pw\":\"12345678\",\"name\":\"nic\"}\n",
    "passingKeys = ['user','phone','pw']\n",
    "failedKeys = ['us', 'phone']\n",
    "print(allKeysInDict(inputDict, passingKeys))\n",
    "print(allKeysInDict(inputDict, failedKeys))"
   ]
  },
  {
   "cell_type": "code",
   "execution_count": null,
   "metadata": {},
   "outputs": [],
   "source": []
  }
 ],
 "metadata": {
  "kernelspec": {
   "display_name": "python38",
   "language": "python",
   "name": "python38"
  }
 },
 "nbformat": 4,
 "nbformat_minor": 4
}
