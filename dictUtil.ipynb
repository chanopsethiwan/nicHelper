{
 "cells": [
  {
   "cell_type": "code",
   "execution_count": null,
   "metadata": {},
   "outputs": [],
   "source": [
    "# default_exp dictUtil"
   ]
  },
  {
   "cell_type": "markdown",
   "metadata": {},
   "source": [
    "# Dict"
   ]
  },
  {
   "cell_type": "code",
   "execution_count": null,
   "metadata": {},
   "outputs": [],
   "source": [
    "#export\n",
    "import yaml\n",
    "from beartype import beartype"
   ]
  },
  {
   "cell_type": "code",
   "execution_count": null,
   "metadata": {},
   "outputs": [],
   "source": [
    "#export\n",
    "def printDict(d:dict, length:int = 10, space = 0):\n",
    "  '''print dictionary as first x value of values'''\n",
    "  if type(d) != dict:\n",
    "    print('this is not a dict')\n",
    "    print(d)\n",
    "  else:\n",
    "    for k, v in d.items():\n",
    "      if type(v) == dict:\n",
    "        print(f\"{' '*space}{k}\")\n",
    "        printDict(v, space=space+1)\n",
    "      else:\n",
    "        print(f\"{' '*space}{k} : {v[:length] if type(v)==str else v}\")"
   ]
  },
  {
   "cell_type": "code",
   "execution_count": null,
   "metadata": {},
   "outputs": [
    {
     "name": "stdout",
     "output_type": "stream",
     "text": [
      "key : sjfhdkljha\n",
      "nestedKey\n",
      " nestedKey2 : 9380238408\n",
      " nested3\n",
      "  nested4 : hello\n"
     ]
    }
   ],
   "source": [
    "printDict({'key':'sjfhdkljhafsdlkjhdfaslkjhkljfadshklhfa', 'nestedKey':{'nestedKey2':'938023840843', 'nested3':{'nested4':'hello'}}})"
   ]
  },
  {
   "cell_type": "code",
   "execution_count": null,
   "metadata": {},
   "outputs": [],
   "source": [
    "#export\n",
    "def allKeysInDict(inputDict:dict, keys:list):\n",
    "  return all(key in inputDict for key in keys)"
   ]
  },
  {
   "cell_type": "code",
   "execution_count": null,
   "metadata": {},
   "outputs": [
    {
     "name": "stdout",
     "output_type": "stream",
     "text": [
      "True\n",
      "False\n"
     ]
    }
   ],
   "source": [
    "inputDict = {\"user\":\"nic\",\"phone\":\"+66816684442\",\"pw\":\"12345678\",\"name\":\"nic\"}\n",
    "passingKeys = ['user','phone','pw']\n",
    "failedKeys = ['us', 'phone']\n",
    "print(allKeysInDict(inputDict, passingKeys))\n",
    "print(allKeysInDict(inputDict, failedKeys))"
   ]
  },
  {
   "cell_type": "code",
   "execution_count": null,
   "metadata": {},
   "outputs": [],
   "source": [
    "#export\n",
    "def filterDt(dtDict:dict):\n",
    "  '''convert unjsonable datetime object to timestamp in the dictionary'''\n",
    "  from datetime import datetime\n",
    "  return {k: (filterDt(v) if type(v) == dict else v) if type(v) != datetime else v.timestamp() \n",
    "            for k,v in dtDict.items()}"
   ]
  },
  {
   "cell_type": "code",
   "execution_count": null,
   "metadata": {},
   "outputs": [
    {
     "data": {
      "text/plain": [
       "{'time': {'time2': 1618472051.660788}, 'hello': 'world'}"
      ]
     },
     "execution_count": null,
     "metadata": {},
     "output_type": "execute_result"
    }
   ],
   "source": [
    "from datetime import datetime\n",
    "filterDt({'time': {'time2':datetime.now()}, 'hello': 'world'})"
   ]
  },
  {
   "cell_type": "code",
   "execution_count": null,
   "metadata": {},
   "outputs": [],
   "source": [
    "#export\n",
    "def stripDict(data:dict):\n",
    "  return {k: v.strip() if type(v) == str else v for k,v in data.items()}"
   ]
  },
  {
   "cell_type": "code",
   "execution_count": null,
   "metadata": {},
   "outputs": [
    {
     "data": {
      "text/plain": [
       "{'sdfd': 'dsf', 'gdsgsa': 234}"
      ]
     },
     "execution_count": null,
     "metadata": {},
     "output_type": "execute_result"
    }
   ],
   "source": [
    "stripDict({'sdfd': 'dsf   ', 'gdsgsa':234})"
   ]
  },
  {
   "cell_type": "code",
   "execution_count": null,
   "metadata": {},
   "outputs": [],
   "source": [
    "#export\n",
    "import hashlib, pickle, base64\n",
    "def hashDict(data:dict, hasher= hashlib.sha1(), encoder = pickle.dumps):\n",
    "  hasher.update(encoder(data))\n",
    "  rawHash = hasher.digest()\n",
    "  return base64.b64encode(rawHash).decode()"
   ]
  },
  {
   "cell_type": "code",
   "execution_count": null,
   "metadata": {},
   "outputs": [
    {
     "name": "stdout",
     "output_type": "stream",
     "text": [
      "CPU times: user 31 µs, sys: 7 µs, total: 38 µs\n",
      "Wall time: 42 µs\n"
     ]
    },
    {
     "data": {
      "text/plain": [
       "'DJ0JD7FLbd/e7NfdvLcRXbJGa8w='"
      ]
     },
     "execution_count": null,
     "metadata": {},
     "output_type": "execute_result"
    }
   ],
   "source": [
    "%%time\n",
    "hashDict({'hello':'world'})"
   ]
  },
  {
   "cell_type": "code",
   "execution_count": null,
   "metadata": {},
   "outputs": [],
   "source": [
    "#export\n",
    "import pickle\n",
    "def saveDictToFile(data:dict, path:str):\n",
    "  with open(path, 'wb')as f:\n",
    "    pickle.dump(data,f,protocol=pickle.HIGHEST_PROTOCOL)\n",
    "    \n",
    "def loadDictFromFile(path:str):\n",
    "  with open(path, 'rb') as f:\n",
    "    return pickle.load(f)"
   ]
  },
  {
   "cell_type": "code",
   "execution_count": null,
   "metadata": {},
   "outputs": [
    {
     "data": {
      "text/plain": [
       "{'test': 'test'}"
      ]
     },
     "execution_count": null,
     "metadata": {},
     "output_type": "execute_result"
    }
   ],
   "source": [
    "saveDictToFile({'test':'test'},'/tmp/testdict')\n",
    "loadDictFromFile('/tmp/testdict')"
   ]
  },
  {
   "cell_type": "code",
   "execution_count": null,
   "metadata": {},
   "outputs": [],
   "source": [
    "#export\n",
    "def saveStringToFile(data:str, path:str):\n",
    "  with open(path, 'w')as f:\n",
    "    f.write(data)\n",
    "def loadStringFromFile(path:str):\n",
    "  with open(path, 'r')as f:\n",
    "    return f.read()"
   ]
  },
  {
   "cell_type": "code",
   "execution_count": null,
   "metadata": {},
   "outputs": [
    {
     "data": {
      "text/plain": [
       "'hello'"
      ]
     },
     "execution_count": null,
     "metadata": {},
     "output_type": "execute_result"
    }
   ],
   "source": [
    "path = '/tmp/teststr'\n",
    "saveStringToFile('hello', path)\n",
    "loadStringFromFile(path)"
   ]
  },
  {
   "cell_type": "markdown",
   "metadata": {},
   "source": [
    "## show tree"
   ]
  },
  {
   "cell_type": "code",
   "execution_count": null,
   "metadata": {},
   "outputs": [],
   "source": []
  },
  {
   "cell_type": "code",
   "execution_count": null,
   "metadata": {},
   "outputs": [],
   "source": [
    "#export\n",
    "def genSchema(inputDict:dict, format_='yaml')->(dict,str):\n",
    "  '''generate a json schema from dict, \n",
    "  format::str: \n",
    "    default='yaml', return schema in json or yaml\n",
    "    'json', return the json schema\n",
    "  response\n",
    "    'both', return a tuple of (json, yaml)\n",
    "    dict or string\n",
    "  '''\n",
    "  from genson import SchemaBuilder\n",
    "  import yaml\n",
    "  builder = SchemaBuilder()\n",
    "  builder.add_object(inputDict)\n",
    "  schema = builder.to_schema()\n",
    "  if format_=='yaml':\n",
    "    return yaml.dump(schema)\n",
    "  elif format_ == 'json':\n",
    "    return schema\n",
    "  elif format_ == 'both':\n",
    "    return schema, yaml.dump(schema)\n",
    "  else:\n",
    "    return schema, yaml.dump(schema)"
   ]
  },
  {
   "cell_type": "code",
   "execution_count": null,
   "metadata": {},
   "outputs": [
    {
     "name": "stdout",
     "output_type": "stream",
     "text": [
      "$schema: http://json-schema.org/schema#\n",
      "properties:\n",
      "  test:\n",
      "    type: integer\n",
      "required:\n",
      "- test\n",
      "type: object\n",
      "\n"
     ]
    }
   ],
   "source": [
    "dict_ = {'test':1}\n",
    "r = genSchema(dict_, format_='yaml')\n",
    "print(r)"
   ]
  },
  {
   "cell_type": "markdown",
   "metadata": {},
   "source": [
    "# printYaml"
   ]
  },
  {
   "cell_type": "code",
   "execution_count": null,
   "metadata": {},
   "outputs": [],
   "source": [
    "#export\n",
    "@beartype\n",
    "def printYaml(input_:dict, returnYaml = False)->(str, None):\n",
    "  yamlStr:str =  yaml.dump(input_)\n",
    "  print(yamlStr)\n",
    "  if returnYaml:\n",
    "    return yamlStr"
   ]
  },
  {
   "cell_type": "code",
   "execution_count": null,
   "metadata": {},
   "outputs": [
    {
     "name": "stdout",
     "output_type": "stream",
     "text": [
      "test:\n",
      "  test1: 123\n",
      "\n"
     ]
    }
   ],
   "source": [
    "printYaml({'test':{'test1':123}})"
   ]
  },
  {
   "cell_type": "code",
   "execution_count": null,
   "metadata": {},
   "outputs": [],
   "source": []
  },
  {
   "cell_type": "markdown",
   "metadata": {},
   "source": [
    "# load yaml"
   ]
  },
  {
   "cell_type": "code",
   "execution_count": 32,
   "metadata": {},
   "outputs": [],
   "source": [
    "#export\n",
    "@beartype\n",
    "def loadYaml(path:str, loader = yaml.FullLoader)->dict:\n",
    "  '''load yaml string\n",
    "    input:\n",
    "      path:str: path of the data to load\n",
    "    return:\n",
    "      diet of the yaml\n",
    "      \n",
    "  '''\n",
    "  with open(path) as f:\n",
    "    r = yaml.load(f.read(), Loader = loader)\n",
    "  return r"
   ]
  },
  {
   "cell_type": "code",
   "execution_count": 31,
   "metadata": {},
   "outputs": [
    {
     "data": {
      "text/plain": [
       "{'test': 'test'}"
      ]
     },
     "execution_count": 31,
     "metadata": {},
     "output_type": "execute_result"
    }
   ],
   "source": [
    "path = 'testData/test.yaml'\n",
    "data = {'test':'test'}\n",
    "with open(path, 'w') as f:\n",
    "  f.write(yaml.dump(data))\n",
    "loadYaml(path)"
   ]
  },
  {
   "cell_type": "code",
   "execution_count": 29,
   "metadata": {},
   "outputs": [],
   "source": []
  },
  {
   "cell_type": "code",
   "execution_count": null,
   "metadata": {},
   "outputs": [],
   "source": []
  }
 ],
 "metadata": {
  "kernelspec": {
   "display_name": "python38",
   "language": "python",
   "name": "python38"
  },
  "language_info": {
   "codemirror_mode": {
    "name": "ipython",
    "version": 3
   },
   "file_extension": ".py",
   "mimetype": "text/x-python",
   "name": "python",
   "nbconvert_exporter": "python",
   "pygments_lexer": "ipython3",
   "version": "3.8.6"
  }
 },
 "nbformat": 4,
 "nbformat_minor": 4
}
