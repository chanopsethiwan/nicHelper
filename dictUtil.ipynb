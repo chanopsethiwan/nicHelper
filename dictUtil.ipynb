{
 "cells": [
  {
   "cell_type": "code",
   "execution_count": null,
   "metadata": {},
   "outputs": [],
   "source": [
    "# default_exp dictUtil"
   ]
  },
  {
   "cell_type": "markdown",
   "metadata": {},
   "source": [
    "# Dict"
   ]
  },
  {
   "cell_type": "code",
   "execution_count": null,
   "metadata": {},
   "outputs": [],
   "source": [
    "#export\n",
    "# from datetime import datetime"
   ]
  },
  {
   "cell_type": "code",
   "execution_count": null,
   "metadata": {},
   "outputs": [],
   "source": [
    "#export\n",
    "def printDict(d:dict, length:int = 10, space = 0):\n",
    "  '''\n",
    "  print dictionary as first x value of values\n",
    "  d: dict: the dictionary to be printed\n",
    "  length: int: the length of the stuff being printed?\n",
    "  space: int: space between key and value?\n",
    "  '''\n",
    "  if type(d) != dict:\n",
    "    print('this is not a dict')\n",
    "    print(d)\n",
    "  else:\n",
    "    for k, v in d.items():\n",
    "      if type(v) == dict:\n",
    "        print(f\"{' '*space}{k}\")\n",
    "        printDict(v, space=space+1)\n",
    "      else:\n",
    "        print(f\"{' '*space}{k} : {v[:length] if type(v)==str else v}\")"
   ]
  },
  {
   "cell_type": "code",
   "execution_count": null,
   "metadata": {},
   "outputs": [
    {
     "name": "stdout",
     "output_type": "stream",
     "text": [
      "key : sjfhdkljha\n",
      "nestedKey\n",
      " nestedKey2 : 9380238408\n",
      " nested3\n",
      "  nested4 : hello\n"
     ]
    }
   ],
   "source": [
    "printDict({'key':'sjfhdkljhafsdlkjhdfaslkjhkljfadshklhfa', 'nestedKey':{'nestedKey2':'938023840843', 'nested3':{'nested4':'hello'}}})"
   ]
  },
  {
   "cell_type": "code",
   "execution_count": null,
   "metadata": {},
   "outputs": [],
   "source": [
    "#export\n",
    "def allKeysInDict(inputDict:dict, keys:list):\n",
    "  '''\n",
    "  checks whether all the keys given in the list are also keys in the inputDict dictionary\n",
    "  inputDict: dict: the dictionary inputted\n",
    "  keys: list: the list of keys\n",
    "  '''\n",
    "  return all(key in inputDict for key in keys)"
   ]
  },
  {
   "cell_type": "code",
   "execution_count": null,
   "metadata": {},
   "outputs": [
    {
     "name": "stdout",
     "output_type": "stream",
     "text": [
      "True\n",
      "False\n"
     ]
    }
   ],
   "source": [
    "inputDict = {\"user\":\"nic\",\"phone\":\"+66816684442\",\"pw\":\"12345678\",\"name\":\"nic\"}\n",
    "passingKeys = ['user','phone','pw']\n",
    "failedKeys = ['us', 'phone']\n",
    "print(allKeysInDict(inputDict, passingKeys))\n",
    "print(allKeysInDict(inputDict, failedKeys))"
   ]
  },
  {
   "cell_type": "code",
   "execution_count": null,
   "metadata": {},
   "outputs": [],
   "source": [
    "#export\n",
    "def filterDt(dtDict:dict):\n",
    "  '''\n",
    "  convert unjsonable datetime object to timestamp in the dictionary\n",
    "  dtDict: dict: the dictionary containing the datetime object\n",
    "  '''\n",
    "  from datetime import datetime\n",
    "  return {k: (filterDt(v) if type(v) == dict else v) if type(v) != datetime else v.timestamp() \n",
    "            for k,v in dtDict.items()}"
   ]
  },
  {
   "cell_type": "code",
   "execution_count": null,
   "metadata": {},
   "outputs": [
    {
     "data": {
      "text/plain": [
       "{'time': {'time2': 1615312778.700984}, 'hello': 'world'}"
      ]
     },
     "execution_count": null,
     "metadata": {},
     "output_type": "execute_result"
    }
   ],
   "source": [
    "from datetime import datetime\n",
    "filterDt({'time': {'time2':datetime.now()}, 'hello': 'world'})"
   ]
  },
  {
   "cell_type": "code",
   "execution_count": null,
   "metadata": {},
   "outputs": [],
   "source": [
    "#export\n",
    "def stripDict(data:dict):\n",
    "  '''\n",
    "  if the value in the dictionary is a string, it will 'strip' the value to make it more clear\n",
    "  data: dict: the dictionary inputted to be 'stripped'\n",
    "  '''\n",
    "  return {k: v.strip() if type(v) == str else v for k,v in data.items()}"
   ]
  },
  {
   "cell_type": "code",
   "execution_count": null,
   "metadata": {},
   "outputs": [
    {
     "data": {
      "text/plain": [
       "{'sdfd': 'dsf', 'gdsgsa  ': 234}"
      ]
     },
     "execution_count": null,
     "metadata": {},
     "output_type": "execute_result"
    }
   ],
   "source": [
    "stripDict({'sdfd': 'dsf  ', 'gdsgsa  ':234})"
   ]
  },
  {
   "cell_type": "code",
   "execution_count": null,
   "metadata": {},
   "outputs": [],
   "source": [
    "#export\n",
    "import hashlib, pickle, base64\n",
    "def hashDict(data:dict, hasher= hashlib.sha1(), encoder = pickle.dumps):\n",
    "  hasher.update(encoder(data))\n",
    "  rawHash = hasher.digest()\n",
    "  return base64.b64encode(rawHash).decode()"
   ]
  },
  {
   "cell_type": "code",
   "execution_count": null,
   "metadata": {},
   "outputs": [
    {
     "name": "stdout",
     "output_type": "stream",
     "text": [
      "CPU times: user 40 µs, sys: 8 µs, total: 48 µs\n",
      "Wall time: 52.5 µs\n"
     ]
    },
    {
     "data": {
      "text/plain": [
       "'DJ0JD7FLbd/e7NfdvLcRXbJGa8w='"
      ]
     },
     "execution_count": null,
     "metadata": {},
     "output_type": "execute_result"
    }
   ],
   "source": [
    "%%time\n",
    "hashDict({'hello':'world'})"
   ]
  },
  {
   "cell_type": "code",
   "execution_count": null,
   "metadata": {},
   "outputs": [],
   "source": [
    "#export\n",
    "import pickle\n",
    "def saveDictToFile(data:dict, path:str):\n",
    "  '''\n",
    "  saves the dictionary to the file directed by the path\n",
    "  data: dict: the dictionary to be saved\n",
    "  path: str: the file path to the file the dictionary is going to be saved\n",
    "  '''\n",
    "  with open(path, 'wb')as f:\n",
    "    pickle.dump(data,f,protocol=pickle.HIGHEST_PROTOCOL)\n",
    "    \n",
    "def loadDictFromFile(path:str):\n",
    "  '''\n",
    "  returns the dictionary that is saved in the file\n",
    "  path: str: the path taken to the file of the dictionary\n",
    "  '''\n",
    "  with open(path, 'rb') as f:\n",
    "    return pickle.load(f)"
   ]
  },
  {
   "cell_type": "code",
   "execution_count": null,
   "metadata": {},
   "outputs": [
    {
     "data": {
      "text/plain": [
       "{'test': 'test'}"
      ]
     },
     "execution_count": null,
     "metadata": {},
     "output_type": "execute_result"
    }
   ],
   "source": [
    "saveDictToFile({'test':'test'},'/tmp/testdict')\n",
    "loadDictFromFile('/tmp/testdict')"
   ]
  },
  {
   "cell_type": "code",
   "execution_count": null,
   "metadata": {},
   "outputs": [],
   "source": [
    "#export\n",
    "def saveStringToFile(data:str, path:str):\n",
    "  '''\n",
    "  saves the string to the file directed by the path\n",
    "  data: str: the string to be saved\n",
    "  path: str: the file path to the file the string is going to be saved\n",
    "  '''\n",
    "  with open(path, 'w')as f:\n",
    "    f.write(data)\n",
    "def loadStringFromFile(path:str):\n",
    "  '''\n",
    "  returns the string that is saved in the file\n",
    "  path: str: the path taken to the file of the string\n",
    "  '''\n",
    "  with open(path, 'r')as f:\n",
    "    return f.read()"
   ]
  },
  {
   "cell_type": "code",
   "execution_count": null,
   "metadata": {},
   "outputs": [
    {
     "data": {
      "text/plain": [
       "'hello'"
      ]
     },
     "execution_count": null,
     "metadata": {},
     "output_type": "execute_result"
    }
   ],
   "source": [
    "path = '/tmp/teststr'\n",
    "saveStringToFile('hello', path)\n",
    "loadStringFromFile(path)"
   ]
  },
  {
   "cell_type": "markdown",
   "metadata": {},
   "source": [
    "## show tree"
   ]
  },
  {
   "cell_type": "code",
   "execution_count": null,
   "metadata": {},
   "outputs": [],
   "source": []
  },
  {
   "cell_type": "code",
   "execution_count": null,
   "metadata": {},
   "outputs": [],
   "source": [
    "#export\n",
    "def genSchema(inputDict:dict, format_='yaml')->(dict,str):\n",
    "  '''generate a json schema from dict, \n",
    "  format::str: \n",
    "    default='yaml', return schema in json or yaml\n",
    "    'json', return the json schema\n",
    "  response\n",
    "    'both', return a tuple of (json, yaml)\n",
    "    dict or string\n",
    "  '''\n",
    "  from genson import SchemaBuilder\n",
    "  import yaml\n",
    "  builder = SchemaBuilder()\n",
    "  builder.add_object(inputDict)\n",
    "  schema = builder.to_schema()\n",
    "  if format_=='yaml':\n",
    "    return yaml.dump(schema)\n",
    "  elif format_ == 'json':\n",
    "    return schema\n",
    "  elif format_ == 'both':\n",
    "    return schema, yaml.dump(schema)\n",
    "  else:\n",
    "    return schema, yaml.dump(schema)"
   ]
  },
  {
   "cell_type": "code",
   "execution_count": null,
   "metadata": {},
   "outputs": [
    {
     "name": "stdout",
     "output_type": "stream",
     "text": [
      "$schema: http://json-schema.org/schema#\n",
      "properties:\n",
      "  test:\n",
      "    type: integer\n",
      "required:\n",
      "- test\n",
      "type: object\n",
      "\n"
     ]
    }
   ],
   "source": [
    "dict_ = {'test':1}\n",
    "r = genSchema(dict_, format_='yaml')\n",
    "print(r)"
   ]
  },
  {
   "cell_type": "code",
   "execution_count": null,
   "metadata": {},
   "outputs": [],
   "source": []
  }
 ],
 "metadata": {
  "kernelspec": {
   "display_name": "python38",
   "language": "python",
   "name": "python38"
  }
 },
 "nbformat": 4,
 "nbformat_minor": 4
}
